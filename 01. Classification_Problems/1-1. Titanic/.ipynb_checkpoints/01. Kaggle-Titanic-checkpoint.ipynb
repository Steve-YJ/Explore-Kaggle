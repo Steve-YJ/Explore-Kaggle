{
 "cells": [
  {
   "cell_type": "markdown",
   "metadata": {},
   "source": [
    "# EDA To Prediction(feat. DieTanic)\n",
    "* Reference Kaggle Notebbok\n",
    "    * https://www.kaggle.com/ash316/eda-to-prediction-dietanic"
   ]
  },
  {
   "cell_type": "markdown",
   "metadata": {},
   "source": [
    "* Data Discription\n",
    "    * https://www.kaggle.com/c/titanic/data"
   ]
  },
  {
   "cell_type": "markdown",
   "metadata": {},
   "source": [
    "\"Sometimes life has a cruel sense of humor, giving you the thing you always wanted at the worst time possible.\" - Lisa Kleypas - "
   ]
  },
  {
   "cell_type": "markdown",
   "metadata": {},
   "source": [
    "Since it was always the worst, I think it's my turn to get it now. -20.05.18.mon.pm11:25-"
   ]
  },
  {
   "cell_type": "markdown",
   "metadata": {},
   "source": [
    "---\n",
    "\n",
    "* 📍 Review & Notice\n",
    "    * Review - Day2. 20.05.16.sat\n",
    "    * Again - Day2, Day3 20.05.17.sun\n",
    "    * Again & Review - Day 4. 20.05.18.mon\n",
    "    * Quick Review & Keep going - Day 5. 20.05.19.tue \n",
    "        * Continue... Dive Deep...!!- Day 5. 20.05.19.tue. pm9:30"
   ]
  },
  {
   "cell_type": "markdown",
   "metadata": {},
   "source": [
    "---"
   ]
  },
  {
   "cell_type": "markdown",
   "metadata": {},
   "source": [
    "* 😁 Log of my life\n",
    "    * Day 4. Whole Review & Keep learning\n",
    "        * After Dinner"
   ]
  },
  {
   "cell_type": "markdown",
   "metadata": {},
   "source": [
    "---"
   ]
  },
  {
   "cell_type": "markdown",
   "metadata": {},
   "source": [
    "## Introduction"
   ]
  },
  {
   "cell_type": "markdown",
   "metadata": {},
   "source": [
    "The Titanic Dataset is a very good dataset for begineers to start a journey in data science and participate in comptetitions in kaggle."
   ]
  },
  {
   "cell_type": "markdown",
   "metadata": {},
   "source": [
    "**The Objective of this notebook** is to give an idea <code>how is the workflow in any predictive modeling problem.</code>"
   ]
  },
  {
   "cell_type": "markdown",
   "metadata": {},
   "source": [
    "* Objective\n",
    "    * How do we check features\n",
    "    * How do we add new features and some Machine Learning Concept\n",
    "    \n",
    "I also try to  keep the notebook as basic as possible so that even newbies can understand every phase of it."
   ]
  },
  {
   "cell_type": "markdown",
   "metadata": {},
   "source": [
    "### Contents of the Notebook"
   ]
  },
  {
   "cell_type": "markdown",
   "metadata": {},
   "source": [
    "* Part1: EDA(Exploratory Data Analysis)\n",
    "    * Analysis of the Features - <code>Step1. Goal</code>\n",
    "    * Finding any relations or trends considering multiple features <code>step2. Goal</code>\n",
    "    \n",
    "    \n",
    "* Part2: Feature Engineering and Data Cleaning\n",
    "    * Add any few features\n",
    "    * Removing redundant features\n",
    "    * Converting features into suitable form for modeling"
   ]
  },
  {
   "cell_type": "markdown",
   "metadata": {},
   "source": [
    "---"
   ]
  },
  {
   "cell_type": "markdown",
   "metadata": {},
   "source": [
    "# Part1: EDA(Exploratory Data Analysis)"
   ]
  },
  {
   "cell_type": "code",
   "execution_count": 1,
   "metadata": {},
   "outputs": [],
   "source": [
    "import pandas as pd\n",
    "import matplotlib.pyplot as plt\n",
    "import seaborn as sns\n",
    "plt.style.use('fivethirtyeight')\n",
    "import warnings\n",
    "warnings.filterwarnings('ignore')\n",
    "%matplotlib inline"
   ]
  },
  {
   "cell_type": "markdown",
   "metadata": {},
   "source": [
    "Let's do some basics!"
   ]
  },
  {
   "cell_type": "markdown",
   "metadata": {},
   "source": [
    "### #1. Load data"
   ]
  },
  {
   "cell_type": "markdown",
   "metadata": {},
   "source": [
    "<code>pandas.read_csv</code><br>\n",
    "Read a comma-separated values(csv) file into DataFrame.<br>\n",
    "also supports optionally iterating or breaking of the file into chunks.\n"
   ]
  },
  {
   "cell_type": "markdown",
   "metadata": {},
   "source": [
    "*Request 1. Read a comma-separated values file into DataFrame<br>*\n",
    "<br>\n",
    "<code>train.csv</code> 파일을 Pandas dataframe형태로 불러오시오.<br>"
   ]
  },
  {
   "cell_type": "code",
   "execution_count": 2,
   "metadata": {},
   "outputs": [
    {
     "data": {
      "text/html": [
       "<div>\n",
       "<style scoped>\n",
       "    .dataframe tbody tr th:only-of-type {\n",
       "        vertical-align: middle;\n",
       "    }\n",
       "\n",
       "    .dataframe tbody tr th {\n",
       "        vertical-align: top;\n",
       "    }\n",
       "\n",
       "    .dataframe thead th {\n",
       "        text-align: right;\n",
       "    }\n",
       "</style>\n",
       "<table border=\"1\" class=\"dataframe\">\n",
       "  <thead>\n",
       "    <tr style=\"text-align: right;\">\n",
       "      <th></th>\n",
       "      <th>PassengerId</th>\n",
       "      <th>Survived</th>\n",
       "      <th>Pclass</th>\n",
       "      <th>Name</th>\n",
       "      <th>Sex</th>\n",
       "      <th>Age</th>\n",
       "      <th>SibSp</th>\n",
       "      <th>Parch</th>\n",
       "      <th>Ticket</th>\n",
       "      <th>Fare</th>\n",
       "      <th>Cabin</th>\n",
       "      <th>Embarked</th>\n",
       "    </tr>\n",
       "  </thead>\n",
       "  <tbody>\n",
       "    <tr>\n",
       "      <td>0</td>\n",
       "      <td>1</td>\n",
       "      <td>0</td>\n",
       "      <td>3</td>\n",
       "      <td>Braund, Mr. Owen Harris</td>\n",
       "      <td>male</td>\n",
       "      <td>22.0</td>\n",
       "      <td>1</td>\n",
       "      <td>0</td>\n",
       "      <td>A/5 21171</td>\n",
       "      <td>7.2500</td>\n",
       "      <td>NaN</td>\n",
       "      <td>S</td>\n",
       "    </tr>\n",
       "    <tr>\n",
       "      <td>1</td>\n",
       "      <td>2</td>\n",
       "      <td>1</td>\n",
       "      <td>1</td>\n",
       "      <td>Cumings, Mrs. John Bradley (Florence Briggs Th...</td>\n",
       "      <td>female</td>\n",
       "      <td>38.0</td>\n",
       "      <td>1</td>\n",
       "      <td>0</td>\n",
       "      <td>PC 17599</td>\n",
       "      <td>71.2833</td>\n",
       "      <td>C85</td>\n",
       "      <td>C</td>\n",
       "    </tr>\n",
       "    <tr>\n",
       "      <td>2</td>\n",
       "      <td>3</td>\n",
       "      <td>1</td>\n",
       "      <td>3</td>\n",
       "      <td>Heikkinen, Miss. Laina</td>\n",
       "      <td>female</td>\n",
       "      <td>26.0</td>\n",
       "      <td>0</td>\n",
       "      <td>0</td>\n",
       "      <td>STON/O2. 3101282</td>\n",
       "      <td>7.9250</td>\n",
       "      <td>NaN</td>\n",
       "      <td>S</td>\n",
       "    </tr>\n",
       "    <tr>\n",
       "      <td>3</td>\n",
       "      <td>4</td>\n",
       "      <td>1</td>\n",
       "      <td>1</td>\n",
       "      <td>Futrelle, Mrs. Jacques Heath (Lily May Peel)</td>\n",
       "      <td>female</td>\n",
       "      <td>35.0</td>\n",
       "      <td>1</td>\n",
       "      <td>0</td>\n",
       "      <td>113803</td>\n",
       "      <td>53.1000</td>\n",
       "      <td>C123</td>\n",
       "      <td>S</td>\n",
       "    </tr>\n",
       "    <tr>\n",
       "      <td>4</td>\n",
       "      <td>5</td>\n",
       "      <td>0</td>\n",
       "      <td>3</td>\n",
       "      <td>Allen, Mr. William Henry</td>\n",
       "      <td>male</td>\n",
       "      <td>35.0</td>\n",
       "      <td>0</td>\n",
       "      <td>0</td>\n",
       "      <td>373450</td>\n",
       "      <td>8.0500</td>\n",
       "      <td>NaN</td>\n",
       "      <td>S</td>\n",
       "    </tr>\n",
       "  </tbody>\n",
       "</table>\n",
       "</div>"
      ],
      "text/plain": [
       "   PassengerId  Survived  Pclass  \\\n",
       "0            1         0       3   \n",
       "1            2         1       1   \n",
       "2            3         1       3   \n",
       "3            4         1       1   \n",
       "4            5         0       3   \n",
       "\n",
       "                                                Name     Sex   Age  SibSp  \\\n",
       "0                            Braund, Mr. Owen Harris    male  22.0      1   \n",
       "1  Cumings, Mrs. John Bradley (Florence Briggs Th...  female  38.0      1   \n",
       "2                             Heikkinen, Miss. Laina  female  26.0      0   \n",
       "3       Futrelle, Mrs. Jacques Heath (Lily May Peel)  female  35.0      1   \n",
       "4                           Allen, Mr. William Henry    male  35.0      0   \n",
       "\n",
       "   Parch            Ticket     Fare Cabin Embarked  \n",
       "0      0         A/5 21171   7.2500   NaN        S  \n",
       "1      0          PC 17599  71.2833   C85        C  \n",
       "2      0  STON/O2. 3101282   7.9250   NaN        S  \n",
       "3      0            113803  53.1000  C123        S  \n",
       "4      0            373450   8.0500   NaN        S  "
      ]
     },
     "execution_count": 2,
     "metadata": {},
     "output_type": "execute_result"
    }
   ],
   "source": [
    "data = pd.read_csv('./train.csv')\n",
    "data.head()"
   ]
  },
  {
   "cell_type": "markdown",
   "metadata": {},
   "source": [
    "PassId, Survived, Pclass, etc..."
   ]
  },
  {
   "cell_type": "code",
   "execution_count": 3,
   "metadata": {},
   "outputs": [
    {
     "data": {
      "text/plain": [
       "(891, 12)"
      ]
     },
     "execution_count": 3,
     "metadata": {},
     "output_type": "execute_result"
    }
   ],
   "source": [
    "data.shape"
   ]
  },
  {
   "cell_type": "code",
   "execution_count": 5,
   "metadata": {},
   "outputs": [
    {
     "data": {
      "text/plain": [
       "Index(['PassengerId', 'Survived', 'Pclass', 'Name', 'Sex', 'Age', 'SibSp',\n",
       "       'Parch', 'Ticket', 'Fare', 'Cabin', 'Embarked'],\n",
       "      dtype='object')"
      ]
     },
     "execution_count": 5,
     "metadata": {},
     "output_type": "execute_result"
    }
   ],
   "source": [
    "data.columns"
   ]
  },
  {
   "cell_type": "markdown",
   "metadata": {},
   "source": [
    "891개의 data point와 12개의 feature"
   ]
  },
  {
   "cell_type": "markdown",
   "metadata": {},
   "source": [
    "12개의 feature로는 'PassengerId', 'Survived', 'Pclass', 'Name', 'Sex', 'Age', 'SibSp',\n",
    "       'Parch', 'Ticket', 'Fare', 'Cabin', 'Embarked'가 있다.<br>\n",
    "\n",
    "각각의 feature에 대한 상세한 설명은 아래에서 찾아볼 수 있다.<br>\n",
    "\n",
    "* Data Discription\n",
    "    * https://www.kaggle.com/c/titanic/data"
   ]
  },
  {
   "cell_type": "markdown",
   "metadata": {},
   "source": [
    "*Q1. null값을 가지고 있는 data를 모두 찾기 위해서는 어떻게 해야할까?*"
   ]
  },
  {
   "cell_type": "code",
   "execution_count": 6,
   "metadata": {},
   "outputs": [
    {
     "data": {
      "text/html": [
       "<div>\n",
       "<style scoped>\n",
       "    .dataframe tbody tr th:only-of-type {\n",
       "        vertical-align: middle;\n",
       "    }\n",
       "\n",
       "    .dataframe tbody tr th {\n",
       "        vertical-align: top;\n",
       "    }\n",
       "\n",
       "    .dataframe thead th {\n",
       "        text-align: right;\n",
       "    }\n",
       "</style>\n",
       "<table border=\"1\" class=\"dataframe\">\n",
       "  <thead>\n",
       "    <tr style=\"text-align: right;\">\n",
       "      <th></th>\n",
       "      <th>PassengerId</th>\n",
       "      <th>Survived</th>\n",
       "      <th>Pclass</th>\n",
       "      <th>Name</th>\n",
       "      <th>Sex</th>\n",
       "      <th>Age</th>\n",
       "      <th>SibSp</th>\n",
       "      <th>Parch</th>\n",
       "      <th>Ticket</th>\n",
       "      <th>Fare</th>\n",
       "      <th>Cabin</th>\n",
       "      <th>Embarked</th>\n",
       "    </tr>\n",
       "  </thead>\n",
       "  <tbody>\n",
       "    <tr>\n",
       "      <td>0</td>\n",
       "      <td>False</td>\n",
       "      <td>False</td>\n",
       "      <td>False</td>\n",
       "      <td>False</td>\n",
       "      <td>False</td>\n",
       "      <td>False</td>\n",
       "      <td>False</td>\n",
       "      <td>False</td>\n",
       "      <td>False</td>\n",
       "      <td>False</td>\n",
       "      <td>True</td>\n",
       "      <td>False</td>\n",
       "    </tr>\n",
       "    <tr>\n",
       "      <td>1</td>\n",
       "      <td>False</td>\n",
       "      <td>False</td>\n",
       "      <td>False</td>\n",
       "      <td>False</td>\n",
       "      <td>False</td>\n",
       "      <td>False</td>\n",
       "      <td>False</td>\n",
       "      <td>False</td>\n",
       "      <td>False</td>\n",
       "      <td>False</td>\n",
       "      <td>False</td>\n",
       "      <td>False</td>\n",
       "    </tr>\n",
       "    <tr>\n",
       "      <td>2</td>\n",
       "      <td>False</td>\n",
       "      <td>False</td>\n",
       "      <td>False</td>\n",
       "      <td>False</td>\n",
       "      <td>False</td>\n",
       "      <td>False</td>\n",
       "      <td>False</td>\n",
       "      <td>False</td>\n",
       "      <td>False</td>\n",
       "      <td>False</td>\n",
       "      <td>True</td>\n",
       "      <td>False</td>\n",
       "    </tr>\n",
       "    <tr>\n",
       "      <td>3</td>\n",
       "      <td>False</td>\n",
       "      <td>False</td>\n",
       "      <td>False</td>\n",
       "      <td>False</td>\n",
       "      <td>False</td>\n",
       "      <td>False</td>\n",
       "      <td>False</td>\n",
       "      <td>False</td>\n",
       "      <td>False</td>\n",
       "      <td>False</td>\n",
       "      <td>False</td>\n",
       "      <td>False</td>\n",
       "    </tr>\n",
       "    <tr>\n",
       "      <td>4</td>\n",
       "      <td>False</td>\n",
       "      <td>False</td>\n",
       "      <td>False</td>\n",
       "      <td>False</td>\n",
       "      <td>False</td>\n",
       "      <td>False</td>\n",
       "      <td>False</td>\n",
       "      <td>False</td>\n",
       "      <td>False</td>\n",
       "      <td>False</td>\n",
       "      <td>True</td>\n",
       "      <td>False</td>\n",
       "    </tr>\n",
       "    <tr>\n",
       "      <td>...</td>\n",
       "      <td>...</td>\n",
       "      <td>...</td>\n",
       "      <td>...</td>\n",
       "      <td>...</td>\n",
       "      <td>...</td>\n",
       "      <td>...</td>\n",
       "      <td>...</td>\n",
       "      <td>...</td>\n",
       "      <td>...</td>\n",
       "      <td>...</td>\n",
       "      <td>...</td>\n",
       "      <td>...</td>\n",
       "    </tr>\n",
       "    <tr>\n",
       "      <td>886</td>\n",
       "      <td>False</td>\n",
       "      <td>False</td>\n",
       "      <td>False</td>\n",
       "      <td>False</td>\n",
       "      <td>False</td>\n",
       "      <td>False</td>\n",
       "      <td>False</td>\n",
       "      <td>False</td>\n",
       "      <td>False</td>\n",
       "      <td>False</td>\n",
       "      <td>True</td>\n",
       "      <td>False</td>\n",
       "    </tr>\n",
       "    <tr>\n",
       "      <td>887</td>\n",
       "      <td>False</td>\n",
       "      <td>False</td>\n",
       "      <td>False</td>\n",
       "      <td>False</td>\n",
       "      <td>False</td>\n",
       "      <td>False</td>\n",
       "      <td>False</td>\n",
       "      <td>False</td>\n",
       "      <td>False</td>\n",
       "      <td>False</td>\n",
       "      <td>False</td>\n",
       "      <td>False</td>\n",
       "    </tr>\n",
       "    <tr>\n",
       "      <td>888</td>\n",
       "      <td>False</td>\n",
       "      <td>False</td>\n",
       "      <td>False</td>\n",
       "      <td>False</td>\n",
       "      <td>False</td>\n",
       "      <td>True</td>\n",
       "      <td>False</td>\n",
       "      <td>False</td>\n",
       "      <td>False</td>\n",
       "      <td>False</td>\n",
       "      <td>True</td>\n",
       "      <td>False</td>\n",
       "    </tr>\n",
       "    <tr>\n",
       "      <td>889</td>\n",
       "      <td>False</td>\n",
       "      <td>False</td>\n",
       "      <td>False</td>\n",
       "      <td>False</td>\n",
       "      <td>False</td>\n",
       "      <td>False</td>\n",
       "      <td>False</td>\n",
       "      <td>False</td>\n",
       "      <td>False</td>\n",
       "      <td>False</td>\n",
       "      <td>False</td>\n",
       "      <td>False</td>\n",
       "    </tr>\n",
       "    <tr>\n",
       "      <td>890</td>\n",
       "      <td>False</td>\n",
       "      <td>False</td>\n",
       "      <td>False</td>\n",
       "      <td>False</td>\n",
       "      <td>False</td>\n",
       "      <td>False</td>\n",
       "      <td>False</td>\n",
       "      <td>False</td>\n",
       "      <td>False</td>\n",
       "      <td>False</td>\n",
       "      <td>True</td>\n",
       "      <td>False</td>\n",
       "    </tr>\n",
       "  </tbody>\n",
       "</table>\n",
       "<p>891 rows × 12 columns</p>\n",
       "</div>"
      ],
      "text/plain": [
       "     PassengerId  Survived  Pclass   Name    Sex    Age  SibSp  Parch  Ticket  \\\n",
       "0          False     False   False  False  False  False  False  False   False   \n",
       "1          False     False   False  False  False  False  False  False   False   \n",
       "2          False     False   False  False  False  False  False  False   False   \n",
       "3          False     False   False  False  False  False  False  False   False   \n",
       "4          False     False   False  False  False  False  False  False   False   \n",
       "..           ...       ...     ...    ...    ...    ...    ...    ...     ...   \n",
       "886        False     False   False  False  False  False  False  False   False   \n",
       "887        False     False   False  False  False  False  False  False   False   \n",
       "888        False     False   False  False  False   True  False  False   False   \n",
       "889        False     False   False  False  False  False  False  False   False   \n",
       "890        False     False   False  False  False  False  False  False   False   \n",
       "\n",
       "      Fare  Cabin  Embarked  \n",
       "0    False   True     False  \n",
       "1    False  False     False  \n",
       "2    False   True     False  \n",
       "3    False  False     False  \n",
       "4    False   True     False  \n",
       "..     ...    ...       ...  \n",
       "886  False   True     False  \n",
       "887  False  False     False  \n",
       "888  False   True     False  \n",
       "889  False  False     False  \n",
       "890  False   True     False  \n",
       "\n",
       "[891 rows x 12 columns]"
      ]
     },
     "execution_count": 6,
     "metadata": {},
     "output_type": "execute_result"
    }
   ],
   "source": [
    "# checking for total null values\n",
    "\n",
    "data.isnull()"
   ]
  },
  {
   "cell_type": "markdown",
   "metadata": {},
   "source": [
    "<code>pandas.isnull()</code>함수 만으로는 직관적으로 null값을 확인할 수 없다."
   ]
  },
  {
   "cell_type": "code",
   "execution_count": 7,
   "metadata": {},
   "outputs": [
    {
     "data": {
      "text/plain": [
       "PassengerId      0\n",
       "Survived         0\n",
       "Pclass           0\n",
       "Name             0\n",
       "Sex              0\n",
       "Age            177\n",
       "SibSp            0\n",
       "Parch            0\n",
       "Ticket           0\n",
       "Fare             0\n",
       "Cabin          687\n",
       "Embarked         2\n",
       "dtype: int64"
      ]
     },
     "execution_count": 7,
     "metadata": {},
     "output_type": "execute_result"
    }
   ],
   "source": [
    "data.isnull().sum()"
   ]
  },
  {
   "cell_type": "markdown",
   "metadata": {},
   "source": [
    "data에 <code>.isnull()</code>함수와 <code>.sum()</code>함수 명령어를 입력해주면 쉽게 확인할 수 있다"
   ]
  },
  {
   "cell_type": "markdown",
   "metadata": {},
   "source": [
    "Dataset에서 null값 확인"
   ]
  },
  {
   "cell_type": "markdown",
   "metadata": {},
   "source": [
    "Age 177, Cabin(배의 선실,객실) 687, Embarked 2에서 각각 null값이 존재한다."
   ]
  },
  {
   "cell_type": "markdown",
   "metadata": {},
   "source": [
    "*Q2. How many Survived??*<br>\n",
    "\n",
    "얼마나 많은 사람들이 살아남았을까?<br>\n",
    "우리가 예측할 class값을 확인해보자"
   ]
  },
  {
   "cell_type": "code",
   "execution_count": 9,
   "metadata": {},
   "outputs": [
    {
     "data": {
      "text/plain": [
       "0    549\n",
       "1    342\n",
       "Name: Survived, dtype: int64"
      ]
     },
     "execution_count": 9,
     "metadata": {},
     "output_type": "execute_result"
    }
   ],
   "source": [
    "data.Survived.value_counts()"
   ]
  },
  {
   "cell_type": "markdown",
   "metadata": {},
   "source": [
    "<code>어떤 명령어</code>를 통해 확인할 수 있을까?"
   ]
  },
  {
   "cell_type": "markdown",
   "metadata": {},
   "source": [
    "<code>.value_counts()</code>함수를 통해 Survived class의 class별 data point 수를 쉽게 확인할 수 있다."
   ]
  },
  {
   "cell_type": "markdown",
   "metadata": {},
   "source": [
    "다른 Feature들에도 적용이 가능하다!"
   ]
  },
  {
   "cell_type": "code",
   "execution_count": 10,
   "metadata": {},
   "outputs": [
    {
     "data": {
      "text/plain": [
       "3    491\n",
       "1    216\n",
       "2    184\n",
       "Name: Pclass, dtype: int64"
      ]
     },
     "execution_count": 10,
     "metadata": {},
     "output_type": "execute_result"
    }
   ],
   "source": [
    "data.Pclass.value_counts()"
   ]
  },
  {
   "cell_type": "markdown",
   "metadata": {},
   "source": [
    "*Request 2. Titanic 사고로 인해 549명의 사망자와 342명의 생존자가 발생했습니다. 그렇다면 생존율은 얼마나 될까요? (시각화를 해주세요)*"
   ]
  },
  {
   "cell_type": "markdown",
   "metadata": {},
   "source": [
    "*Q3. 생존률은 얼마나 되고 몇 명이나 살아남았을까?*"
   ]
  },
  {
   "cell_type": "markdown",
   "metadata": {},
   "source": [
    "<code>.plot.pie()</code><br>\n",
    "<code>.countplot()</code>"
   ]
  },
  {
   "cell_type": "code",
   "execution_count": 19,
   "metadata": {},
   "outputs": [
    {
     "data": {
      "image/png": "[encoded data removed]",
      "text/plain": [
       "<Figure size 1296x432 with 2 Axes>"
      ]
     },
     "metadata": {
      "needs_background": "light"
     },
     "output_type": "display_data"
    }
   ],
   "source": [
    "f, ax = plt.subplots(1, 2, figsize=(18, 6))\n",
    "data.Survived.value_counts().plot.pie(explode=[0, 0.05], autopct='%1.1f%%', ax=ax[0])\n",
    "ax[0].set_title('Survived rate')\n",
    "sns.countplot(data.Survived, data=data, ax=ax[1])\n",
    "ax[1].set_title('Survived')\n",
    "plt.show()"
   ]
  },
  {
   "cell_type": "markdown",
   "metadata": {},
   "source": [
    "Survival rate(생존 비율)을 데이터셋의 다른 특징들에 대해 확인해 보도록 한다."
   ]
  },
  {
   "cell_type": "markdown",
   "metadata": {},
   "source": [
    "앞으로 많은 Kernel들을 공부하다보면 익숙해지겠지?"
   ]
  },
  {
   "cell_type": "markdown",
   "metadata": {},
   "source": [
    "하나하나 꼼꼼히 짚고 넘어가면 좋겠지만 Review시에는 그렇게 하나씩 공부하고 평소에는 흐름(Flow)에 집중하도록 하자! -20.05.19.Tue-"
   ]
  },
  {
   "cell_type": "markdown",
   "metadata": {},
   "source": [
    "## Analysing The Features"
   ]
  },
  {
   "cell_type": "markdown",
   "metadata": {},
   "source": [
    "*Fist, 우선 Categorical Feature, Ordinal Feature, Continous Feature를 분석해보자*"
   ]
  },
  {
   "cell_type": "code",
   "execution_count": 23,
   "metadata": {},
   "outputs": [
    {
     "data": {
      "text/plain": [
       "Index(['PassengerId', 'Survived', 'Pclass', 'Name', 'Sex', 'Age', 'SibSp',\n",
       "       'Parch', 'Ticket', 'Fare', 'Cabin', 'Embarked'],\n",
       "      dtype='object')"
      ]
     },
     "execution_count": 23,
     "metadata": {},
     "output_type": "execute_result"
    }
   ],
   "source": [
    "# padas.DataFrame.colums: The column labels of the DataFrame\n",
    "\n",
    "data.columns"
   ]
  },
  {
   "cell_type": "markdown",
   "metadata": {},
   "source": [
    "### 1) Categorical Feature"
   ]
  },
  {
   "cell_type": "markdown",
   "metadata": {},
   "source": [
    "🔖Pandas <code>dataframe.groupby()</code><br>https://www.geeksforgeeks.org/python-pandas-dataframe-groupby/<br>\n",
    "\n",
    "<code>dataframe.groupby()</code> function is used to split the data into groups based on some criteria. <br>pandas object can be split on any of their axes."
   ]
  },
  {
   "cell_type": "code",
   "execution_count": 25,
   "metadata": {},
   "outputs": [
    {
     "data": {
      "text/plain": [
       "<pandas.core.groupby.generic.DataFrameGroupBy object at 0x00000227518C7D88>"
      ]
     },
     "execution_count": 25,
     "metadata": {},
     "output_type": "execute_result"
    }
   ],
   "source": [
    "data.groupby('Sex')\n",
    "\n",
    "# It returns GroupBy object"
   ]
  },
  {
   "cell_type": "markdown",
   "metadata": {},
   "source": [
    "dataframe에 <code>.groupby()</code>function을 적용하면 object를 반환한다. 원하는 결과를 얻기위해서는 groupby object에 함수를 적용해야한다."
   ]
  },
  {
   "cell_type": "code",
   "execution_count": 26,
   "metadata": {},
   "outputs": [
    {
     "data": {
      "text/plain": [
       "Index(['PassengerId', 'Survived', 'Pclass', 'Name', 'Sex', 'Age', 'SibSp',\n",
       "       'Parch', 'Ticket', 'Fare', 'Cabin', 'Embarked'],\n",
       "      dtype='object')"
      ]
     },
     "execution_count": 26,
     "metadata": {},
     "output_type": "execute_result"
    }
   ],
   "source": [
    "data.columns"
   ]
  },
  {
   "cell_type": "markdown",
   "metadata": {},
   "source": [
    "잠시 길이 셋는데 다시 시작해보도록 하겠다."
   ]
  },
  {
   "cell_type": "code",
   "execution_count": 28,
   "metadata": {},
   "outputs": [
    {
     "data": {
      "text/plain": [
       "Sex\n",
       "female    314\n",
       "male      577\n",
       "Name: Survived, dtype: int64"
      ]
     },
     "execution_count": 28,
     "metadata": {},
     "output_type": "execute_result"
    }
   ],
   "source": [
    "data.groupby('Sex')['Survived'].count()"
   ]
  },
  {
   "cell_type": "code",
   "execution_count": 31,
   "metadata": {},
   "outputs": [
    {
     "data": {
      "text/html": [
       "<style  type=\"text/css\" >\n",
       "    #T_bd84bfac_99d3_11ea_8918_309c238131e5row0_col0 {\n",
       "            background-color:  #ffff66;\n",
       "            color:  #000000;\n",
       "        }    #T_bd84bfac_99d3_11ea_8918_309c238131e5row0_col1 {\n",
       "            background-color:  #77bb66;\n",
       "            color:  #000000;\n",
       "        }    #T_bd84bfac_99d3_11ea_8918_309c238131e5row0_col2 {\n",
       "            background-color:  #ffff66;\n",
       "            color:  #000000;\n",
       "        }    #T_bd84bfac_99d3_11ea_8918_309c238131e5row1_col0 {\n",
       "            background-color:  #2c9666;\n",
       "            color:  #000000;\n",
       "        }    #T_bd84bfac_99d3_11ea_8918_309c238131e5row1_col1 {\n",
       "            background-color:  #ffff66;\n",
       "            color:  #000000;\n",
       "        }    #T_bd84bfac_99d3_11ea_8918_309c238131e5row1_col2 {\n",
       "            background-color:  #8bc566;\n",
       "            color:  #000000;\n",
       "        }    #T_bd84bfac_99d3_11ea_8918_309c238131e5row2_col0 {\n",
       "            background-color:  #008066;\n",
       "            color:  #f1f1f1;\n",
       "        }    #T_bd84bfac_99d3_11ea_8918_309c238131e5row2_col1 {\n",
       "            background-color:  #008066;\n",
       "            color:  #f1f1f1;\n",
       "        }    #T_bd84bfac_99d3_11ea_8918_309c238131e5row2_col2 {\n",
       "            background-color:  #008066;\n",
       "            color:  #f1f1f1;\n",
       "        }</style><table id=\"T_bd84bfac_99d3_11ea_8918_309c238131e5\" ><thead>    <tr>        <th class=\"index_name level0\" >Survived</th>        <th class=\"col_heading level0 col0\" >0</th>        <th class=\"col_heading level0 col1\" >1</th>        <th class=\"col_heading level0 col2\" >All</th>    </tr>    <tr>        <th class=\"index_name level0\" >Sex</th>        <th class=\"blank\" ></th>        <th class=\"blank\" ></th>        <th class=\"blank\" ></th>    </tr></thead><tbody>\n",
       "                <tr>\n",
       "                        <th id=\"T_bd84bfac_99d3_11ea_8918_309c238131e5level0_row0\" class=\"row_heading level0 row0\" >female</th>\n",
       "                        <td id=\"T_bd84bfac_99d3_11ea_8918_309c238131e5row0_col0\" class=\"data row0 col0\" >81</td>\n",
       "                        <td id=\"T_bd84bfac_99d3_11ea_8918_309c238131e5row0_col1\" class=\"data row0 col1\" >233</td>\n",
       "                        <td id=\"T_bd84bfac_99d3_11ea_8918_309c238131e5row0_col2\" class=\"data row0 col2\" >314</td>\n",
       "            </tr>\n",
       "            <tr>\n",
       "                        <th id=\"T_bd84bfac_99d3_11ea_8918_309c238131e5level0_row1\" class=\"row_heading level0 row1\" >male</th>\n",
       "                        <td id=\"T_bd84bfac_99d3_11ea_8918_309c238131e5row1_col0\" class=\"data row1 col0\" >468</td>\n",
       "                        <td id=\"T_bd84bfac_99d3_11ea_8918_309c238131e5row1_col1\" class=\"data row1 col1\" >109</td>\n",
       "                        <td id=\"T_bd84bfac_99d3_11ea_8918_309c238131e5row1_col2\" class=\"data row1 col2\" >577</td>\n",
       "            </tr>\n",
       "            <tr>\n",
       "                        <th id=\"T_bd84bfac_99d3_11ea_8918_309c238131e5level0_row2\" class=\"row_heading level0 row2\" >All</th>\n",
       "                        <td id=\"T_bd84bfac_99d3_11ea_8918_309c238131e5row2_col0\" class=\"data row2 col0\" >549</td>\n",
       "                        <td id=\"T_bd84bfac_99d3_11ea_8918_309c238131e5row2_col1\" class=\"data row2 col1\" >342</td>\n",
       "                        <td id=\"T_bd84bfac_99d3_11ea_8918_309c238131e5row2_col2\" class=\"data row2 col2\" >891</td>\n",
       "            </tr>\n",
       "    </tbody></table>"
      ],
      "text/plain": [
       "<pandas.io.formats.style.Styler at 0x227516fe108>"
      ]
     },
     "execution_count": 31,
     "metadata": {},
     "output_type": "execute_result"
    }
   ],
   "source": [
    "pd.crosstab(data.Sex, data.Survived, margins=True).style.background_gradient(cmap='summer_r')"
   ]
  },
  {
   "cell_type": "code",
   "execution_count": 32,
   "metadata": {},
   "outputs": [
    {
     "data": {
      "text/plain": [
       "Sex     Survived\n",
       "female  0            81\n",
       "        1           233\n",
       "male    0           468\n",
       "        1           109\n",
       "Name: Survived, dtype: int64"
      ]
     },
     "execution_count": 32,
     "metadata": {},
     "output_type": "execute_result"
    }
   ],
   "source": [
    "data.groupby(['Sex', 'Survived'])['Survived'].count()"
   ]
  },
  {
   "cell_type": "markdown",
   "metadata": {},
   "source": [
    "<code>pd.crosstab</code><br>\n",
    "Compute a simple cross tabulation of two (or more) factors. "
   ]
  },
  {
   "cell_type": "code",
   "execution_count": 33,
   "metadata": {},
   "outputs": [
    {
     "data": {
      "text/html": [
       "<div>\n",
       "<style scoped>\n",
       "    .dataframe tbody tr th:only-of-type {\n",
       "        vertical-align: middle;\n",
       "    }\n",
       "\n",
       "    .dataframe tbody tr th {\n",
       "        vertical-align: top;\n",
       "    }\n",
       "\n",
       "    .dataframe thead th {\n",
       "        text-align: right;\n",
       "    }\n",
       "</style>\n",
       "<table border=\"1\" class=\"dataframe\">\n",
       "  <thead>\n",
       "    <tr style=\"text-align: right;\">\n",
       "      <th>Survived</th>\n",
       "      <th>0</th>\n",
       "      <th>1</th>\n",
       "      <th>All</th>\n",
       "    </tr>\n",
       "    <tr>\n",
       "      <th>Sex</th>\n",
       "      <th></th>\n",
       "      <th></th>\n",
       "      <th></th>\n",
       "    </tr>\n",
       "  </thead>\n",
       "  <tbody>\n",
       "    <tr>\n",
       "      <td>female</td>\n",
       "      <td>81</td>\n",
       "      <td>233</td>\n",
       "      <td>314</td>\n",
       "    </tr>\n",
       "    <tr>\n",
       "      <td>male</td>\n",
       "      <td>468</td>\n",
       "      <td>109</td>\n",
       "      <td>577</td>\n",
       "    </tr>\n",
       "    <tr>\n",
       "      <td>All</td>\n",
       "      <td>549</td>\n",
       "      <td>342</td>\n",
       "      <td>891</td>\n",
       "    </tr>\n",
       "  </tbody>\n",
       "</table>\n",
       "</div>"
      ],
      "text/plain": [
       "Survived    0    1  All\n",
       "Sex                    \n",
       "female     81  233  314\n",
       "male      468  109  577\n",
       "All       549  342  891"
      ]
     },
     "execution_count": 33,
     "metadata": {},
     "output_type": "execute_result"
    }
   ],
   "source": [
    "pd.crosstab(data.Sex, data.Survived, margins=True)"
   ]
  },
  {
   "cell_type": "markdown",
   "metadata": {},
   "source": [
    "*성별 생존률과 성별 생존자수를 구해보자.*<br>\n",
    "막상 참고자료 없이 구하라고 문제가 주어지면 당황스러울 것 같다😯<br>\n",
    "연습 또 연습하자ㅎ"
   ]
  },
  {
   "cell_type": "markdown",
   "metadata": {},
   "source": [
    "* **1번째 옵션은 seaborn으로 가져가자...!\"**"
   ]
  },
  {
   "cell_type": "code",
   "execution_count": 34,
   "metadata": {},
   "outputs": [
    {
     "data": {
      "text/plain": [
       "<matplotlib.axes._subplots.AxesSubplot at 0x2275184ee48>"
      ]
     },
     "execution_count": 34,
     "metadata": {},
     "output_type": "execute_result"
    },
    {
     "data": {
      "image/png": "[encoded data removed]",
      "text/plain": [
       "<Figure size 432x288 with 1 Axes>"
      ]
     },
     "metadata": {
      "needs_background": "light"
     },
     "output_type": "display_data"
    }
   ],
   "source": [
    "sns.countplot('Survived', hue='Sex', data=data)"
   ]
  },
  {
   "cell_type": "markdown",
   "metadata": {},
   "source": [
    "* 두 번째 옵션은 dataframe.plot()을 응용하자"
   ]
  },
  {
   "cell_type": "code",
   "execution_count": 36,
   "metadata": {},
   "outputs": [
    {
     "data": {
      "text/plain": [
       "<matplotlib.axes._subplots.AxesSubplot at 0x227517e4a48>"
      ]
     },
     "execution_count": 36,
     "metadata": {},
     "output_type": "execute_result"
    },
    {
     "data": {
      "image/png": "[encoded data removed]",
      "text/plain": [
       "<Figure size 432x288 with 1 Axes>"
      ]
     },
     "metadata": {
      "needs_background": "light"
     },
     "output_type": "display_data"
    }
   ],
   "source": [
    "color_dict={'red': '#FF0000', 'blue':'#0000FF'}\n",
    "\n",
    "data.groupby(['Sex'])['Survived'].count().plot.bar(colors=[x for x in color_dict])"
   ]
  },
  {
   "cell_type": "markdown",
   "metadata": {},
   "source": [
    "* 조금 더 나아가 생존률을 구해보면"
   ]
  },
  {
   "cell_type": "code",
   "execution_count": 41,
   "metadata": {},
   "outputs": [
    {
     "data": {
      "text/plain": [
       "<bound method PlotAccessor.bar of <pandas.plotting._core.PlotAccessor object at 0x0000022752D01688>>"
      ]
     },
     "execution_count": 41,
     "metadata": {},
     "output_type": "execute_result"
    }
   ],
   "source": [
    "data.groupby('Sex')['Survived'].mean().plot.bar"
   ]
  },
  {
   "cell_type": "code",
   "execution_count": 42,
   "metadata": {},
   "outputs": [
    {
     "data": {
      "image/png": "[encoded data removed]",
      "text/plain": [
       "<Figure size 1296x432 with 2 Axes>"
      ]
     },
     "metadata": {
      "needs_background": "light"
     },
     "output_type": "display_data"
    }
   ],
   "source": [
    "f, ax = plt.subplots(1, 2, figsize=(18, 6))\n",
    "\n",
    "color = {'red':'#FF0000', 'blue': '#0000FF'}\n",
    "# data[['Sex', 'Survived']].groupby('Sex').mean().plot.bar(colors=[x for x in color], ax=ax[0])\n",
    "data.groupby('Sex')['Survived'].count().plot.bar(colors=[x for x in color], ax=ax[0])\n",
    "ax[0].set_title(\"Survived vs Sex\")\n",
    "sns.countplot('Sex', hue='Survived', data=data, ax=ax[1])\n",
    "ax[1].set_title('Sex: Survived vs Dead')\n",
    "plt.show()"
   ]
  },
  {
   "cell_type": "markdown",
   "metadata": {},
   "source": [
    "여성의 경우 생존 확률이 평균적으로 0.8로 나타남. 반면 남성의 경우 생존률이 0.2<br>\n",
    "성별 생존여부를 보더라도 남성의 경우 사망이 생존보다 몇 배 높음."
   ]
  },
  {
   "cell_type": "markdown",
   "metadata": {},
   "source": [
    "좌석 등급에 따른 생존율은 어떻게 될까? 하나씩 살펴보도록한다."
   ]
  },
  {
   "cell_type": "markdown",
   "metadata": {},
   "source": [
    "### 2) Ordinal Feature"
   ]
  },
  {
   "cell_type": "markdown",
   "metadata": {},
   "source": [
    "Ordinal Feature Pclass를 통해 데이터 분석을 해보자"
   ]
  },
  {
   "cell_type": "markdown",
   "metadata": {},
   "source": [
    "🔖 Pandas <code>pandas.crosstab</code>\n",
    "https://pandas.pydata.org/pandas-docs/stable/reference/api/pandas.crosstab.html\n",
    "\n",
    "Compute a simple cross tabulation of two (or more) factors. By default computes a frequency table of the factors unless an array of values and an aggregation function are passed."
   ]
  },
  {
   "cell_type": "markdown",
   "metadata": {},
   "source": [
    "<code>pandas.crosstab</code>함수를 사용해 간단하게 도표로 나타내보자"
   ]
  },
  {
   "cell_type": "code",
   "execution_count": 44,
   "metadata": {},
   "outputs": [
    {
     "data": {
      "text/html": [
       "<style  type=\"text/css\" >\n",
       "    #T_41ec5c62_99d4_11ea_a9a1_309c238131e5row0_col0 {\n",
       "            background-color:  #ffff66;\n",
       "            color:  #000000;\n",
       "        }    #T_41ec5c62_99d4_11ea_a9a1_309c238131e5row0_col1 {\n",
       "            background-color:  #cee666;\n",
       "            color:  #000000;\n",
       "        }    #T_41ec5c62_99d4_11ea_a9a1_309c238131e5row0_col2 {\n",
       "            background-color:  #f4fa66;\n",
       "            color:  #000000;\n",
       "        }    #T_41ec5c62_99d4_11ea_a9a1_309c238131e5row1_col0 {\n",
       "            background-color:  #f6fa66;\n",
       "            color:  #000000;\n",
       "        }    #T_41ec5c62_99d4_11ea_a9a1_309c238131e5row1_col1 {\n",
       "            background-color:  #ffff66;\n",
       "            color:  #000000;\n",
       "        }    #T_41ec5c62_99d4_11ea_a9a1_309c238131e5row1_col2 {\n",
       "            background-color:  #ffff66;\n",
       "            color:  #000000;\n",
       "        }    #T_41ec5c62_99d4_11ea_a9a1_309c238131e5row2_col0 {\n",
       "            background-color:  #60b066;\n",
       "            color:  #000000;\n",
       "        }    #T_41ec5c62_99d4_11ea_a9a1_309c238131e5row2_col1 {\n",
       "            background-color:  #dfef66;\n",
       "            color:  #000000;\n",
       "        }    #T_41ec5c62_99d4_11ea_a9a1_309c238131e5row2_col2 {\n",
       "            background-color:  #90c866;\n",
       "            color:  #000000;\n",
       "        }    #T_41ec5c62_99d4_11ea_a9a1_309c238131e5row3_col0 {\n",
       "            background-color:  #008066;\n",
       "            color:  #f1f1f1;\n",
       "        }    #T_41ec5c62_99d4_11ea_a9a1_309c238131e5row3_col1 {\n",
       "            background-color:  #008066;\n",
       "            color:  #f1f1f1;\n",
       "        }    #T_41ec5c62_99d4_11ea_a9a1_309c238131e5row3_col2 {\n",
       "            background-color:  #008066;\n",
       "            color:  #f1f1f1;\n",
       "        }</style><table id=\"T_41ec5c62_99d4_11ea_a9a1_309c238131e5\" ><thead>    <tr>        <th class=\"index_name level0\" >Survived</th>        <th class=\"col_heading level0 col0\" >0</th>        <th class=\"col_heading level0 col1\" >1</th>        <th class=\"col_heading level0 col2\" >All</th>    </tr>    <tr>        <th class=\"index_name level0\" >Pclass</th>        <th class=\"blank\" ></th>        <th class=\"blank\" ></th>        <th class=\"blank\" ></th>    </tr></thead><tbody>\n",
       "                <tr>\n",
       "                        <th id=\"T_41ec5c62_99d4_11ea_a9a1_309c238131e5level0_row0\" class=\"row_heading level0 row0\" >1</th>\n",
       "                        <td id=\"T_41ec5c62_99d4_11ea_a9a1_309c238131e5row0_col0\" class=\"data row0 col0\" >80</td>\n",
       "                        <td id=\"T_41ec5c62_99d4_11ea_a9a1_309c238131e5row0_col1\" class=\"data row0 col1\" >136</td>\n",
       "                        <td id=\"T_41ec5c62_99d4_11ea_a9a1_309c238131e5row0_col2\" class=\"data row0 col2\" >216</td>\n",
       "            </tr>\n",
       "            <tr>\n",
       "                        <th id=\"T_41ec5c62_99d4_11ea_a9a1_309c238131e5level0_row1\" class=\"row_heading level0 row1\" >2</th>\n",
       "                        <td id=\"T_41ec5c62_99d4_11ea_a9a1_309c238131e5row1_col0\" class=\"data row1 col0\" >97</td>\n",
       "                        <td id=\"T_41ec5c62_99d4_11ea_a9a1_309c238131e5row1_col1\" class=\"data row1 col1\" >87</td>\n",
       "                        <td id=\"T_41ec5c62_99d4_11ea_a9a1_309c238131e5row1_col2\" class=\"data row1 col2\" >184</td>\n",
       "            </tr>\n",
       "            <tr>\n",
       "                        <th id=\"T_41ec5c62_99d4_11ea_a9a1_309c238131e5level0_row2\" class=\"row_heading level0 row2\" >3</th>\n",
       "                        <td id=\"T_41ec5c62_99d4_11ea_a9a1_309c238131e5row2_col0\" class=\"data row2 col0\" >372</td>\n",
       "                        <td id=\"T_41ec5c62_99d4_11ea_a9a1_309c238131e5row2_col1\" class=\"data row2 col1\" >119</td>\n",
       "                        <td id=\"T_41ec5c62_99d4_11ea_a9a1_309c238131e5row2_col2\" class=\"data row2 col2\" >491</td>\n",
       "            </tr>\n",
       "            <tr>\n",
       "                        <th id=\"T_41ec5c62_99d4_11ea_a9a1_309c238131e5level0_row3\" class=\"row_heading level0 row3\" >All</th>\n",
       "                        <td id=\"T_41ec5c62_99d4_11ea_a9a1_309c238131e5row3_col0\" class=\"data row3 col0\" >549</td>\n",
       "                        <td id=\"T_41ec5c62_99d4_11ea_a9a1_309c238131e5row3_col1\" class=\"data row3 col1\" >342</td>\n",
       "                        <td id=\"T_41ec5c62_99d4_11ea_a9a1_309c238131e5row3_col2\" class=\"data row3 col2\" >891</td>\n",
       "            </tr>\n",
       "    </tbody></table>"
      ],
      "text/plain": [
       "<pandas.io.formats.style.Styler at 0x22751b03608>"
      ]
     },
     "execution_count": 44,
     "metadata": {},
     "output_type": "execute_result"
    }
   ],
   "source": [
    "pd.crosstab(data.Pclass, data.Survived, margins=True).style.background_gradient(cmap='summer_r')"
   ]
  },
  {
   "cell_type": "code",
   "execution_count": 46,
   "metadata": {},
   "outputs": [
    {
     "data": {
      "text/plain": [
       "Pclass  Survived\n",
       "1       0            80\n",
       "        1           136\n",
       "2       0            97\n",
       "        1            87\n",
       "3       0           372\n",
       "        1           119\n",
       "Name: Survived, dtype: int64"
      ]
     },
     "execution_count": 46,
     "metadata": {},
     "output_type": "execute_result"
    }
   ],
   "source": [
    "data.groupby(['Pclass', 'Survived'])['Survived'].count()"
   ]
  },
  {
   "cell_type": "markdown",
   "metadata": {},
   "source": [
    "이해가 안가면 외우자. 안 외워지면 무한 반복만이 살길"
   ]
  },
  {
   "cell_type": "markdown",
   "metadata": {},
   "source": [
    "<code>pd.crosstab</code>을 사용하면 앞서 배웠던 <code>pd.groupby</code>보다 데이터를 직관적으로 이해할 수 있는 것 같다.<br>\n",
    "crosstab을 자주 사용하게 되지 않을까?"
   ]
  },
  {
   "cell_type": "code",
   "execution_count": 47,
   "metadata": {},
   "outputs": [
    {
     "data": {
      "text/html": [
       "<div>\n",
       "<style scoped>\n",
       "    .dataframe tbody tr th:only-of-type {\n",
       "        vertical-align: middle;\n",
       "    }\n",
       "\n",
       "    .dataframe tbody tr th {\n",
       "        vertical-align: top;\n",
       "    }\n",
       "\n",
       "    .dataframe thead th {\n",
       "        text-align: right;\n",
       "    }\n",
       "</style>\n",
       "<table border=\"1\" class=\"dataframe\">\n",
       "  <thead>\n",
       "    <tr style=\"text-align: right;\">\n",
       "      <th>Survived</th>\n",
       "      <th>0</th>\n",
       "      <th>1</th>\n",
       "      <th>All</th>\n",
       "    </tr>\n",
       "    <tr>\n",
       "      <th>Pclass</th>\n",
       "      <th></th>\n",
       "      <th></th>\n",
       "      <th></th>\n",
       "    </tr>\n",
       "  </thead>\n",
       "  <tbody>\n",
       "    <tr>\n",
       "      <td>1</td>\n",
       "      <td>80</td>\n",
       "      <td>136</td>\n",
       "      <td>216</td>\n",
       "    </tr>\n",
       "    <tr>\n",
       "      <td>2</td>\n",
       "      <td>97</td>\n",
       "      <td>87</td>\n",
       "      <td>184</td>\n",
       "    </tr>\n",
       "    <tr>\n",
       "      <td>3</td>\n",
       "      <td>372</td>\n",
       "      <td>119</td>\n",
       "      <td>491</td>\n",
       "    </tr>\n",
       "    <tr>\n",
       "      <td>All</td>\n",
       "      <td>549</td>\n",
       "      <td>342</td>\n",
       "      <td>891</td>\n",
       "    </tr>\n",
       "  </tbody>\n",
       "</table>\n",
       "</div>"
      ],
      "text/plain": [
       "Survived    0    1  All\n",
       "Pclass                 \n",
       "1          80  136  216\n",
       "2          97   87  184\n",
       "3         372  119  491\n",
       "All       549  342  891"
      ]
     },
     "execution_count": 47,
     "metadata": {},
     "output_type": "execute_result"
    }
   ],
   "source": [
    "pd.crosstab(data.Pclass, data.Survived, margins=True)"
   ]
  },
  {
   "cell_type": "code",
   "execution_count": 49,
   "metadata": {},
   "outputs": [
    {
     "data": {
      "text/html": [
       "<div>\n",
       "<style scoped>\n",
       "    .dataframe tbody tr th:only-of-type {\n",
       "        vertical-align: middle;\n",
       "    }\n",
       "\n",
       "    .dataframe tbody tr th {\n",
       "        vertical-align: top;\n",
       "    }\n",
       "\n",
       "    .dataframe thead th {\n",
       "        text-align: right;\n",
       "    }\n",
       "</style>\n",
       "<table border=\"1\" class=\"dataframe\">\n",
       "  <thead>\n",
       "    <tr style=\"text-align: right;\">\n",
       "      <th>Survived</th>\n",
       "      <th>0</th>\n",
       "      <th>1</th>\n",
       "    </tr>\n",
       "    <tr>\n",
       "      <th>Sex</th>\n",
       "      <th></th>\n",
       "      <th></th>\n",
       "    </tr>\n",
       "  </thead>\n",
       "  <tbody>\n",
       "    <tr>\n",
       "      <td>female</td>\n",
       "      <td>81</td>\n",
       "      <td>233</td>\n",
       "    </tr>\n",
       "    <tr>\n",
       "      <td>male</td>\n",
       "      <td>468</td>\n",
       "      <td>109</td>\n",
       "    </tr>\n",
       "  </tbody>\n",
       "</table>\n",
       "</div>"
      ],
      "text/plain": [
       "Survived    0    1\n",
       "Sex               \n",
       "female     81  233\n",
       "male      468  109"
      ]
     },
     "execution_count": 49,
     "metadata": {},
     "output_type": "execute_result"
    }
   ],
   "source": [
    "pd.crosstab(data.Sex, data.Survived, margins=False)"
   ]
  },
  {
   "cell_type": "markdown",
   "metadata": {},
   "source": [
    "*Q4. 순서형 Feature(Ordinal Feature)로는 어떤 시각화를 할 수 있을까?*"
   ]
  },
  {
   "cell_type": "code",
   "execution_count": 66,
   "metadata": {},
   "outputs": [
    {
     "data": {
      "image/png": "[encoded data removed]",
      "text/plain": [
       "<Figure size 1296x576 with 2 Axes>"
      ]
     },
     "metadata": {
      "needs_background": "light"
     },
     "output_type": "display_data"
    }
   ],
   "source": [
    "f, ax = plt.subplots(1, 2, figsize=(18, 8))\n",
    "color=['#CD7F32', '#FFDF00', '#D3D3D3']\n",
    "data.Pclass.value_counts().plot.bar(colors = [x for x in color], ax=ax[0])\n",
    "ax[0].set_title('Pclass Passenger numbers')\n",
    "sns.countplot('Pclass', hue='Survived', data=data, ax=ax[1])\n",
    "ax[1].set_title('Pclass vs Survived')\n",
    "color=['#CD7F32', '#FFDF00', '#D3D3D3']\n",
    "# data.Pclass.value_counts().plot.bar(colors = [x for x in color], ax=ax[1, 0])\n",
    "# ax[1, 0].set_title('Pclss Value_counts')\n",
    "plt.show()"
   ]
  },
  {
   "cell_type": "markdown",
   "metadata": {},
   "source": [
    "* 해석해보자(스스로)\n",
    "    * 3등석에 가장 많은 승객이 탑승을 했다. 뒤이어 1등석 2등석 순으로 많은 승객들이 탑승을 했다.\n",
    "    * Pclass에 따른 생존자의 수를 분석해보자\n",
    "        * 1등석에 탑승한 승객은 생존자가 더 많았다. 세 그룹 중 유일하게 생존자의 수가 사망자의 수보다 많다.\n",
    "        * 2등석에 탑승한 승객은 1등석 만큼은 아니지만 절반에 가까운 인원이 생존을 했다.\n",
    "        * 반면 3등석의 승객의 경우 가장 많은 사망자가 발생했다. 또한 생존자수 대비 사망자 수가 매우 높다."
   ]
  },
  {
   "cell_type": "markdown",
   "metadata": {},
   "source": [
    "*Notebook 작성자는 어떻게 해석을 했는가?*"
   ]
  },
  {
   "cell_type": "markdown",
   "metadata": {},
   "source": [
    "앞서는 <code>sns.countplot()</code>함수를 사용해 성별에 따른 생존자 수를 파악했다면 이번에는 같은 범주형 변수이지만 순서가 있는 Ordinal Feature Pclass를 통해 시각화를 해보았다.<br>\n",
    "\n",
    "**주목할 점은 3등석의 인원이 가장 많았지만 3등석의 사망자수가 가장 많다는 것이다.**"
   ]
  },
  {
   "cell_type": "markdown",
   "metadata": {},
   "source": [
    "People say **Money Can't Buy Everything.** But we can clearly see that Passenegers Of Pclass 1 were given a very high priority while rescue. Even though that the number of Passengers in Pclass 3 were a lot higher, still the number of survival from them is very low, somewhere around 25%."
   ]
  },
  {
   "cell_type": "markdown",
   "metadata": {},
   "source": [
    "돈으로 모든 것을 살 수 없다지만... 높은 등급의 탑승객의 경우 생존을 더 많이 했다"
   ]
  },
  {
   "cell_type": "markdown",
   "metadata": {},
   "source": [
    "*그렇다면 생존율은 얼마나 될까?*"
   ]
  },
  {
   "cell_type": "code",
   "execution_count": 93,
   "metadata": {},
   "outputs": [
    {
     "data": {
      "text/html": [
       "<div>\n",
       "<style scoped>\n",
       "    .dataframe tbody tr th:only-of-type {\n",
       "        vertical-align: middle;\n",
       "    }\n",
       "\n",
       "    .dataframe tbody tr th {\n",
       "        vertical-align: top;\n",
       "    }\n",
       "\n",
       "    .dataframe thead th {\n",
       "        text-align: right;\n",
       "    }\n",
       "</style>\n",
       "<table border=\"1\" class=\"dataframe\">\n",
       "  <thead>\n",
       "    <tr style=\"text-align: right;\">\n",
       "      <th></th>\n",
       "      <th>Survived</th>\n",
       "    </tr>\n",
       "    <tr>\n",
       "      <th>Pclass</th>\n",
       "      <th></th>\n",
       "    </tr>\n",
       "  </thead>\n",
       "  <tbody>\n",
       "    <tr>\n",
       "      <td>1</td>\n",
       "      <td>216</td>\n",
       "    </tr>\n",
       "    <tr>\n",
       "      <td>2</td>\n",
       "      <td>184</td>\n",
       "    </tr>\n",
       "    <tr>\n",
       "      <td>3</td>\n",
       "      <td>491</td>\n",
       "    </tr>\n",
       "  </tbody>\n",
       "</table>\n",
       "</div>"
      ],
      "text/plain": [
       "        Survived\n",
       "Pclass          \n",
       "1            216\n",
       "2            184\n",
       "3            491"
      ]
     },
     "execution_count": 93,
     "metadata": {},
     "output_type": "execute_result"
    }
   ],
   "source": [
    "data[['Pclass', 'Survived']].groupby('Pclass').count()"
   ]
  },
  {
   "cell_type": "code",
   "execution_count": 65,
   "metadata": {},
   "outputs": [
    {
     "data": {
      "text/html": [
       "<div>\n",
       "<style scoped>\n",
       "    .dataframe tbody tr th:only-of-type {\n",
       "        vertical-align: middle;\n",
       "    }\n",
       "\n",
       "    .dataframe tbody tr th {\n",
       "        vertical-align: top;\n",
       "    }\n",
       "\n",
       "    .dataframe thead th {\n",
       "        text-align: right;\n",
       "    }\n",
       "</style>\n",
       "<table border=\"1\" class=\"dataframe\">\n",
       "  <thead>\n",
       "    <tr style=\"text-align: right;\">\n",
       "      <th></th>\n",
       "      <th>Survived</th>\n",
       "    </tr>\n",
       "    <tr>\n",
       "      <th>Pclass</th>\n",
       "      <th></th>\n",
       "    </tr>\n",
       "  </thead>\n",
       "  <tbody>\n",
       "    <tr>\n",
       "      <td>1</td>\n",
       "      <td>0.629630</td>\n",
       "    </tr>\n",
       "    <tr>\n",
       "      <td>2</td>\n",
       "      <td>0.472826</td>\n",
       "    </tr>\n",
       "    <tr>\n",
       "      <td>3</td>\n",
       "      <td>0.242363</td>\n",
       "    </tr>\n",
       "  </tbody>\n",
       "</table>\n",
       "</div>"
      ],
      "text/plain": [
       "        Survived\n",
       "Pclass          \n",
       "1       0.629630\n",
       "2       0.472826\n",
       "3       0.242363"
      ]
     },
     "execution_count": 65,
     "metadata": {},
     "output_type": "execute_result"
    }
   ],
   "source": [
    "data[['Pclass', 'Survived']].groupby('Pclass').mean()"
   ]
  },
  {
   "cell_type": "code",
   "execution_count": 107,
   "metadata": {},
   "outputs": [
    {
     "data": {
      "image/png": "[encoded data removed]",
      "text/plain": [
       "<Figure size 1296x576 with 2 Axes>"
      ]
     },
     "metadata": {},
     "output_type": "display_data"
    }
   ],
   "source": [
    "f, ax = plt.subplots(1, 2, figsize=(18, 8))\n",
    "\n",
    "data[['Pclass', 'Survived']].groupby('Pclass').mean().plot.bar(color=['#CD7F32', '#FFDF00', '#D3D3D3'], ax=ax[0])\n",
    "sns.countplot('Pclass', hue='Survived', data=data, ax=ax[1])\n",
    "ax[1].set_title('Pclass: Survived vs Dead')\n",
    "plt.show()"
   ]
  },
  {
   "cell_type": "markdown",
   "metadata": {},
   "source": [
    "1등석의 승객의 경우 60%넘는 생존율을 보인다. 돈으로 모든 것을 살 수 없다고 하지만 1등석의 승객들의 생존률은 3등석의 생존률의 2배 이상이다"
   ]
  },
  {
   "cell_type": "markdown",
   "metadata": {},
   "source": [
    "*Q5. Pclass와 성별에 따른 생존은 어떨까?*"
   ]
  },
  {
   "cell_type": "code",
   "execution_count": 94,
   "metadata": {},
   "outputs": [
    {
     "data": {
      "text/html": [
       "<style  type=\"text/css\" >\n",
       "    #T_5ae59eda_99d6_11ea_9a42_309c238131e5row0_col0 {\n",
       "            background-color:  #ffff66;\n",
       "            color:  #000000;\n",
       "        }    #T_5ae59eda_99d6_11ea_9a42_309c238131e5row0_col1 {\n",
       "            background-color:  #ffff66;\n",
       "            color:  #000000;\n",
       "        }    #T_5ae59eda_99d6_11ea_9a42_309c238131e5row0_col2 {\n",
       "            background-color:  #f1f866;\n",
       "            color:  #000000;\n",
       "        }    #T_5ae59eda_99d6_11ea_9a42_309c238131e5row0_col3 {\n",
       "            background-color:  #ffff66;\n",
       "            color:  #000000;\n",
       "        }    #T_5ae59eda_99d6_11ea_9a42_309c238131e5row1_col0 {\n",
       "            background-color:  #96cb66;\n",
       "            color:  #000000;\n",
       "        }    #T_5ae59eda_99d6_11ea_9a42_309c238131e5row1_col1 {\n",
       "            background-color:  #a3d166;\n",
       "            color:  #000000;\n",
       "        }    #T_5ae59eda_99d6_11ea_9a42_309c238131e5row1_col2 {\n",
       "            background-color:  #f1f866;\n",
       "            color:  #000000;\n",
       "        }    #T_5ae59eda_99d6_11ea_9a42_309c238131e5row1_col3 {\n",
       "            background-color:  #cfe766;\n",
       "            color:  #000000;\n",
       "        }    #T_5ae59eda_99d6_11ea_9a42_309c238131e5row2_col0 {\n",
       "            background-color:  #a7d366;\n",
       "            color:  #000000;\n",
       "        }    #T_5ae59eda_99d6_11ea_9a42_309c238131e5row2_col1 {\n",
       "            background-color:  #85c266;\n",
       "            color:  #000000;\n",
       "        }    #T_5ae59eda_99d6_11ea_9a42_309c238131e5row2_col2 {\n",
       "            background-color:  #6eb666;\n",
       "            color:  #000000;\n",
       "        }    #T_5ae59eda_99d6_11ea_9a42_309c238131e5row2_col3 {\n",
       "            background-color:  #85c266;\n",
       "            color:  #000000;\n",
       "        }    #T_5ae59eda_99d6_11ea_9a42_309c238131e5row3_col0 {\n",
       "            background-color:  #cde666;\n",
       "            color:  #000000;\n",
       "        }    #T_5ae59eda_99d6_11ea_9a42_309c238131e5row3_col1 {\n",
       "            background-color:  #f0f866;\n",
       "            color:  #000000;\n",
       "        }    #T_5ae59eda_99d6_11ea_9a42_309c238131e5row3_col2 {\n",
       "            background-color:  #ffff66;\n",
       "            color:  #000000;\n",
       "        }    #T_5ae59eda_99d6_11ea_9a42_309c238131e5row3_col3 {\n",
       "            background-color:  #f7fb66;\n",
       "            color:  #000000;\n",
       "        }    #T_5ae59eda_99d6_11ea_9a42_309c238131e5row4_col0 {\n",
       "            background-color:  #008066;\n",
       "            color:  #f1f1f1;\n",
       "        }    #T_5ae59eda_99d6_11ea_9a42_309c238131e5row4_col1 {\n",
       "            background-color:  #008066;\n",
       "            color:  #f1f1f1;\n",
       "        }    #T_5ae59eda_99d6_11ea_9a42_309c238131e5row4_col2 {\n",
       "            background-color:  #008066;\n",
       "            color:  #f1f1f1;\n",
       "        }    #T_5ae59eda_99d6_11ea_9a42_309c238131e5row4_col3 {\n",
       "            background-color:  #008066;\n",
       "            color:  #f1f1f1;\n",
       "        }</style><table id=\"T_5ae59eda_99d6_11ea_9a42_309c238131e5\" ><thead>    <tr>        <th class=\"blank\" ></th>        <th class=\"index_name level0\" >Pclass</th>        <th class=\"col_heading level0 col0\" >1</th>        <th class=\"col_heading level0 col1\" >2</th>        <th class=\"col_heading level0 col2\" >3</th>        <th class=\"col_heading level0 col3\" >All</th>    </tr>    <tr>        <th class=\"index_name level0\" >Sex</th>        <th class=\"index_name level1\" >Survived</th>        <th class=\"blank\" ></th>        <th class=\"blank\" ></th>        <th class=\"blank\" ></th>        <th class=\"blank\" ></th>    </tr></thead><tbody>\n",
       "                <tr>\n",
       "                        <th id=\"T_5ae59eda_99d6_11ea_9a42_309c238131e5level0_row0\" class=\"row_heading level0 row0\" rowspan=2>female</th>\n",
       "                        <th id=\"T_5ae59eda_99d6_11ea_9a42_309c238131e5level1_row0\" class=\"row_heading level1 row0\" >0</th>\n",
       "                        <td id=\"T_5ae59eda_99d6_11ea_9a42_309c238131e5row0_col0\" class=\"data row0 col0\" >3</td>\n",
       "                        <td id=\"T_5ae59eda_99d6_11ea_9a42_309c238131e5row0_col1\" class=\"data row0 col1\" >6</td>\n",
       "                        <td id=\"T_5ae59eda_99d6_11ea_9a42_309c238131e5row0_col2\" class=\"data row0 col2\" >72</td>\n",
       "                        <td id=\"T_5ae59eda_99d6_11ea_9a42_309c238131e5row0_col3\" class=\"data row0 col3\" >81</td>\n",
       "            </tr>\n",
       "            <tr>\n",
       "                                <th id=\"T_5ae59eda_99d6_11ea_9a42_309c238131e5level1_row1\" class=\"row_heading level1 row1\" >1</th>\n",
       "                        <td id=\"T_5ae59eda_99d6_11ea_9a42_309c238131e5row1_col0\" class=\"data row1 col0\" >91</td>\n",
       "                        <td id=\"T_5ae59eda_99d6_11ea_9a42_309c238131e5row1_col1\" class=\"data row1 col1\" >70</td>\n",
       "                        <td id=\"T_5ae59eda_99d6_11ea_9a42_309c238131e5row1_col2\" class=\"data row1 col2\" >72</td>\n",
       "                        <td id=\"T_5ae59eda_99d6_11ea_9a42_309c238131e5row1_col3\" class=\"data row1 col3\" >233</td>\n",
       "            </tr>\n",
       "            <tr>\n",
       "                        <th id=\"T_5ae59eda_99d6_11ea_9a42_309c238131e5level0_row2\" class=\"row_heading level0 row2\" rowspan=2>male</th>\n",
       "                        <th id=\"T_5ae59eda_99d6_11ea_9a42_309c238131e5level1_row2\" class=\"row_heading level1 row2\" >0</th>\n",
       "                        <td id=\"T_5ae59eda_99d6_11ea_9a42_309c238131e5row2_col0\" class=\"data row2 col0\" >77</td>\n",
       "                        <td id=\"T_5ae59eda_99d6_11ea_9a42_309c238131e5row2_col1\" class=\"data row2 col1\" >91</td>\n",
       "                        <td id=\"T_5ae59eda_99d6_11ea_9a42_309c238131e5row2_col2\" class=\"data row2 col2\" >300</td>\n",
       "                        <td id=\"T_5ae59eda_99d6_11ea_9a42_309c238131e5row2_col3\" class=\"data row2 col3\" >468</td>\n",
       "            </tr>\n",
       "            <tr>\n",
       "                                <th id=\"T_5ae59eda_99d6_11ea_9a42_309c238131e5level1_row3\" class=\"row_heading level1 row3\" >1</th>\n",
       "                        <td id=\"T_5ae59eda_99d6_11ea_9a42_309c238131e5row3_col0\" class=\"data row3 col0\" >45</td>\n",
       "                        <td id=\"T_5ae59eda_99d6_11ea_9a42_309c238131e5row3_col1\" class=\"data row3 col1\" >17</td>\n",
       "                        <td id=\"T_5ae59eda_99d6_11ea_9a42_309c238131e5row3_col2\" class=\"data row3 col2\" >47</td>\n",
       "                        <td id=\"T_5ae59eda_99d6_11ea_9a42_309c238131e5row3_col3\" class=\"data row3 col3\" >109</td>\n",
       "            </tr>\n",
       "            <tr>\n",
       "                        <th id=\"T_5ae59eda_99d6_11ea_9a42_309c238131e5level0_row4\" class=\"row_heading level0 row4\" >All</th>\n",
       "                        <th id=\"T_5ae59eda_99d6_11ea_9a42_309c238131e5level1_row4\" class=\"row_heading level1 row4\" ></th>\n",
       "                        <td id=\"T_5ae59eda_99d6_11ea_9a42_309c238131e5row4_col0\" class=\"data row4 col0\" >216</td>\n",
       "                        <td id=\"T_5ae59eda_99d6_11ea_9a42_309c238131e5row4_col1\" class=\"data row4 col1\" >184</td>\n",
       "                        <td id=\"T_5ae59eda_99d6_11ea_9a42_309c238131e5row4_col2\" class=\"data row4 col2\" >491</td>\n",
       "                        <td id=\"T_5ae59eda_99d6_11ea_9a42_309c238131e5row4_col3\" class=\"data row4 col3\" >891</td>\n",
       "            </tr>\n",
       "    </tbody></table>"
      ],
      "text/plain": [
       "<pandas.io.formats.style.Styler at 0x22750e1c188>"
      ]
     },
     "execution_count": 94,
     "metadata": {},
     "output_type": "execute_result"
    }
   ],
   "source": [
    "pd.crosstab([data.Sex, data.Survived], data.Pclass, margins=True).style.background_gradient(cmap='summer_r')"
   ]
  },
  {
   "cell_type": "markdown",
   "metadata": {},
   "source": [
    "3등석의 남자는 다 죽었구나..."
   ]
  },
  {
   "cell_type": "code",
   "execution_count": 95,
   "metadata": {},
   "outputs": [
    {
     "data": {
      "text/html": [
       "<style  type=\"text/css\" >\n",
       "    #T_5c489040_99d6_11ea_9882_309c238131e5row0_col0 {\n",
       "            background-color:  #ffff66;\n",
       "            color:  #000000;\n",
       "        }    #T_5c489040_99d6_11ea_9882_309c238131e5row0_col1 {\n",
       "            background-color:  #c5e266;\n",
       "            color:  #000000;\n",
       "        }    #T_5c489040_99d6_11ea_9882_309c238131e5row0_col2 {\n",
       "            background-color:  #fafc66;\n",
       "            color:  #000000;\n",
       "        }    #T_5c489040_99d6_11ea_9882_309c238131e5row1_col0 {\n",
       "            background-color:  #fefe66;\n",
       "            color:  #000000;\n",
       "        }    #T_5c489040_99d6_11ea_9882_309c238131e5row1_col1 {\n",
       "            background-color:  #d6eb66;\n",
       "            color:  #000000;\n",
       "        }    #T_5c489040_99d6_11ea_9882_309c238131e5row1_col2 {\n",
       "            background-color:  #ffff66;\n",
       "            color:  #000000;\n",
       "        }    #T_5c489040_99d6_11ea_9882_309c238131e5row2_col0 {\n",
       "            background-color:  #dfef66;\n",
       "            color:  #000000;\n",
       "        }    #T_5c489040_99d6_11ea_9882_309c238131e5row2_col1 {\n",
       "            background-color:  #d4ea66;\n",
       "            color:  #000000;\n",
       "        }    #T_5c489040_99d6_11ea_9882_309c238131e5row2_col2 {\n",
       "            background-color:  #eaf466;\n",
       "            color:  #000000;\n",
       "        }    #T_5c489040_99d6_11ea_9882_309c238131e5row3_col0 {\n",
       "            background-color:  #ddee66;\n",
       "            color:  #000000;\n",
       "        }    #T_5c489040_99d6_11ea_9882_309c238131e5row3_col1 {\n",
       "            background-color:  #e9f466;\n",
       "            color:  #000000;\n",
       "        }    #T_5c489040_99d6_11ea_9882_309c238131e5row3_col2 {\n",
       "            background-color:  #f1f866;\n",
       "            color:  #000000;\n",
       "        }    #T_5c489040_99d6_11ea_9882_309c238131e5row4_col0 {\n",
       "            background-color:  #d6eb66;\n",
       "            color:  #000000;\n",
       "        }    #T_5c489040_99d6_11ea_9882_309c238131e5row4_col1 {\n",
       "            background-color:  #ffff66;\n",
       "            color:  #000000;\n",
       "        }    #T_5c489040_99d6_11ea_9882_309c238131e5row4_col2 {\n",
       "            background-color:  #f5fa66;\n",
       "            color:  #000000;\n",
       "        }    #T_5c489040_99d6_11ea_9882_309c238131e5row5_col0 {\n",
       "            background-color:  #74ba66;\n",
       "            color:  #000000;\n",
       "        }    #T_5c489040_99d6_11ea_9882_309c238131e5row5_col1 {\n",
       "            background-color:  #e8f466;\n",
       "            color:  #000000;\n",
       "        }    #T_5c489040_99d6_11ea_9882_309c238131e5row5_col2 {\n",
       "            background-color:  #aad466;\n",
       "            color:  #000000;\n",
       "        }    #T_5c489040_99d6_11ea_9882_309c238131e5row6_col0 {\n",
       "            background-color:  #008066;\n",
       "            color:  #f1f1f1;\n",
       "        }    #T_5c489040_99d6_11ea_9882_309c238131e5row6_col1 {\n",
       "            background-color:  #008066;\n",
       "            color:  #f1f1f1;\n",
       "        }    #T_5c489040_99d6_11ea_9882_309c238131e5row6_col2 {\n",
       "            background-color:  #008066;\n",
       "            color:  #f1f1f1;\n",
       "        }</style><table id=\"T_5c489040_99d6_11ea_9882_309c238131e5\" ><thead>    <tr>        <th class=\"blank\" ></th>        <th class=\"index_name level0\" >Survived</th>        <th class=\"col_heading level0 col0\" >0</th>        <th class=\"col_heading level0 col1\" >1</th>        <th class=\"col_heading level0 col2\" >All</th>    </tr>    <tr>        <th class=\"index_name level0\" >Sex</th>        <th class=\"index_name level1\" >Pclass</th>        <th class=\"blank\" ></th>        <th class=\"blank\" ></th>        <th class=\"blank\" ></th>    </tr></thead><tbody>\n",
       "                <tr>\n",
       "                        <th id=\"T_5c489040_99d6_11ea_9882_309c238131e5level0_row0\" class=\"row_heading level0 row0\" rowspan=3>female</th>\n",
       "                        <th id=\"T_5c489040_99d6_11ea_9882_309c238131e5level1_row0\" class=\"row_heading level1 row0\" >1</th>\n",
       "                        <td id=\"T_5c489040_99d6_11ea_9882_309c238131e5row0_col0\" class=\"data row0 col0\" >3</td>\n",
       "                        <td id=\"T_5c489040_99d6_11ea_9882_309c238131e5row0_col1\" class=\"data row0 col1\" >91</td>\n",
       "                        <td id=\"T_5c489040_99d6_11ea_9882_309c238131e5row0_col2\" class=\"data row0 col2\" >94</td>\n",
       "            </tr>\n",
       "            <tr>\n",
       "                                <th id=\"T_5c489040_99d6_11ea_9882_309c238131e5level1_row1\" class=\"row_heading level1 row1\" >2</th>\n",
       "                        <td id=\"T_5c489040_99d6_11ea_9882_309c238131e5row1_col0\" class=\"data row1 col0\" >6</td>\n",
       "                        <td id=\"T_5c489040_99d6_11ea_9882_309c238131e5row1_col1\" class=\"data row1 col1\" >70</td>\n",
       "                        <td id=\"T_5c489040_99d6_11ea_9882_309c238131e5row1_col2\" class=\"data row1 col2\" >76</td>\n",
       "            </tr>\n",
       "            <tr>\n",
       "                                <th id=\"T_5c489040_99d6_11ea_9882_309c238131e5level1_row2\" class=\"row_heading level1 row2\" >3</th>\n",
       "                        <td id=\"T_5c489040_99d6_11ea_9882_309c238131e5row2_col0\" class=\"data row2 col0\" >72</td>\n",
       "                        <td id=\"T_5c489040_99d6_11ea_9882_309c238131e5row2_col1\" class=\"data row2 col1\" >72</td>\n",
       "                        <td id=\"T_5c489040_99d6_11ea_9882_309c238131e5row2_col2\" class=\"data row2 col2\" >144</td>\n",
       "            </tr>\n",
       "            <tr>\n",
       "                        <th id=\"T_5c489040_99d6_11ea_9882_309c238131e5level0_row3\" class=\"row_heading level0 row3\" rowspan=3>male</th>\n",
       "                        <th id=\"T_5c489040_99d6_11ea_9882_309c238131e5level1_row3\" class=\"row_heading level1 row3\" >1</th>\n",
       "                        <td id=\"T_5c489040_99d6_11ea_9882_309c238131e5row3_col0\" class=\"data row3 col0\" >77</td>\n",
       "                        <td id=\"T_5c489040_99d6_11ea_9882_309c238131e5row3_col1\" class=\"data row3 col1\" >45</td>\n",
       "                        <td id=\"T_5c489040_99d6_11ea_9882_309c238131e5row3_col2\" class=\"data row3 col2\" >122</td>\n",
       "            </tr>\n",
       "            <tr>\n",
       "                                <th id=\"T_5c489040_99d6_11ea_9882_309c238131e5level1_row4\" class=\"row_heading level1 row4\" >2</th>\n",
       "                        <td id=\"T_5c489040_99d6_11ea_9882_309c238131e5row4_col0\" class=\"data row4 col0\" >91</td>\n",
       "                        <td id=\"T_5c489040_99d6_11ea_9882_309c238131e5row4_col1\" class=\"data row4 col1\" >17</td>\n",
       "                        <td id=\"T_5c489040_99d6_11ea_9882_309c238131e5row4_col2\" class=\"data row4 col2\" >108</td>\n",
       "            </tr>\n",
       "            <tr>\n",
       "                                <th id=\"T_5c489040_99d6_11ea_9882_309c238131e5level1_row5\" class=\"row_heading level1 row5\" >3</th>\n",
       "                        <td id=\"T_5c489040_99d6_11ea_9882_309c238131e5row5_col0\" class=\"data row5 col0\" >300</td>\n",
       "                        <td id=\"T_5c489040_99d6_11ea_9882_309c238131e5row5_col1\" class=\"data row5 col1\" >47</td>\n",
       "                        <td id=\"T_5c489040_99d6_11ea_9882_309c238131e5row5_col2\" class=\"data row5 col2\" >347</td>\n",
       "            </tr>\n",
       "            <tr>\n",
       "                        <th id=\"T_5c489040_99d6_11ea_9882_309c238131e5level0_row6\" class=\"row_heading level0 row6\" >All</th>\n",
       "                        <th id=\"T_5c489040_99d6_11ea_9882_309c238131e5level1_row6\" class=\"row_heading level1 row6\" ></th>\n",
       "                        <td id=\"T_5c489040_99d6_11ea_9882_309c238131e5row6_col0\" class=\"data row6 col0\" >549</td>\n",
       "                        <td id=\"T_5c489040_99d6_11ea_9882_309c238131e5row6_col1\" class=\"data row6 col1\" >342</td>\n",
       "                        <td id=\"T_5c489040_99d6_11ea_9882_309c238131e5row6_col2\" class=\"data row6 col2\" >891</td>\n",
       "            </tr>\n",
       "    </tbody></table>"
      ],
      "text/plain": [
       "<pandas.io.formats.style.Styler at 0x22750e58d88>"
      ]
     },
     "execution_count": 95,
     "metadata": {},
     "output_type": "execute_result"
    }
   ],
   "source": [
    "pd.crosstab([data.Sex, data.Pclass], data.Survived, margins=True).style.background_gradient(cmap='summer_r')"
   ]
  },
  {
   "cell_type": "markdown",
   "metadata": {},
   "source": [
    "*Q6. 탑승 등급별 남/녀의 생존률은 어떻게 될까?*"
   ]
  },
  {
   "cell_type": "code",
   "execution_count": 96,
   "metadata": {},
   "outputs": [
    {
     "data": {
      "image/png": "[encoded data removed]",
      "text/plain": [
       "<Figure size 430.5x360 with 1 Axes>"
      ]
     },
     "metadata": {
      "needs_background": "light"
     },
     "output_type": "display_data"
    }
   ],
   "source": [
    "sns.factorplot('Pclass', 'Survived', hue='Sex', data=data)\n",
    "plt.show()"
   ]
  },
  {
   "cell_type": "markdown",
   "metadata": {},
   "source": [
    "I use <code>FactorPlot</code> in this case, because they make the seperation of categorical values easy.<br>\n",
    "\n",
    "we can easily infer survival for Women from Pclass1 is about 95-96%, as only 3 out of 94 women from Pclass 1 died."
   ]
  },
  {
   "cell_type": "markdown",
   "metadata": {},
   "source": [
    "Pclass에 관계없이 여성이 더 우선적으로 살아남은 것으로 보인다.<br>\n",
    "남/녀 할 것 없이 높은 등급의 좌석에 탑승하는게 생존율을 높이는데는 도움이 되었다"
   ]
  },
  {
   "cell_type": "markdown",
   "metadata": {},
   "source": [
    "---\n",
    "\n",
    "Quick Review를 계획했으나. 계획과 현실은 다른법...😅 -20.05.19.Tue. pm 12:30\n",
    "\n",
    "---"
   ]
  },
  {
   "cell_type": "markdown",
   "metadata": {},
   "source": [
    "### 3. Continous Feature"
   ]
  },
  {
   "cell_type": "code",
   "execution_count": 98,
   "metadata": {},
   "outputs": [
    {
     "name": "stdout",
     "output_type": "stream",
     "text": [
      "80.0\n",
      "29.69911764705882\n",
      "0.42\n"
     ]
    }
   ],
   "source": [
    "print(data.Age.max())\n",
    "print(data.Age.mean())\n",
    "print(data.Age.min())"
   ]
  },
  {
   "cell_type": "code",
   "execution_count": 99,
   "metadata": {},
   "outputs": [
    {
     "name": "stdout",
     "output_type": "stream",
     "text": [
      "Oldest Passenger was of: 80.0 Year\n",
      "Youngest Passenger was of: 0.42 Year\n",
      "Average Age on the ship: 29.69911764705882 Year\n"
     ]
    }
   ],
   "source": [
    "print('Oldest Passenger was of:', data['Age'].max(), 'Year')\n",
    "print('Youngest Passenger was of:', data['Age'].min(), 'Year')\n",
    "print('Average Age on the ship:', data['Age'].mean(), 'Year')"
   ]
  },
  {
   "cell_type": "code",
   "execution_count": 103,
   "metadata": {},
   "outputs": [
    {
     "data": {
      "text/plain": [
       "<matplotlib.axes._subplots.AxesSubplot at 0x227512009c8>"
      ]
     },
     "execution_count": 103,
     "metadata": {},
     "output_type": "execute_result"
    },
    {
     "data": {
      "image/png": "[encoded data removed]",
      "text/plain": [
       "<Figure size 432x288 with 1 Axes>"
      ]
     },
     "metadata": {
      "needs_background": "light"
     },
     "output_type": "display_data"
    }
   ],
   "source": [
    "sns.violinplot('Pclass', 'Age', hue='Survived', data=data, split=True)"
   ]
  },
  {
   "cell_type": "code",
   "execution_count": 166,
   "metadata": {},
   "outputs": [
    {
     "data": {
      "image/png": "[encoded data removed]",
      "text/plain": [
       "<Figure size 1296x576 with 2 Axes>"
      ]
     },
     "metadata": {
      "needs_background": "light"
     },
     "output_type": "display_data"
    }
   ],
   "source": [
    "f, ax = plt.subplots(1, 2, figsize=(18, 8))\n",
    "sns.violinplot('Pclass', 'Age', hue='Survived', data=data, split=True, ax=ax[0])\n",
    "ax[0].set_title('Pclass and Age vs Survived')\n",
    "ax[0].set_yticks(range(0, 100, 10))\n",
    "\n",
    "sns.violinplot('Sex', 'Age', hue='Survived', data=data, split=True, ax=ax[1])\n",
    "ax[1].set_title('Sex and Age vs Survived')\n",
    "ax[1].set_yticks(range(0, 100, 10))\n",
    "plt.show()"
   ]
  },
  {
   "cell_type": "markdown",
   "metadata": {},
   "source": [
    "전에도 그랬고... 지금봐도 이 Violin plot은 참 적응이 안된다.. -20.05.17.sum-"
   ]
  },
  {
   "cell_type": "markdown",
   "metadata": {},
   "source": [
    "🔖 <code>seaborn.violinplot</code><br>\n",
    "https://seaborn.pydata.org/generated/seaborn.violinplot.html<br>\n",
    "\n",
    "Draw a combination of boxplot and kernel density estimate"
   ]
  },
  {
   "cell_type": "markdown",
   "metadata": {},
   "source": [
    "**Observations:**<br>\n",
    "1) The number of children increases with Pclass and the survival rate for passengers below Age 10 looks to be good irrespective of the Pclass<br>\n",
    "Pclass가 1등급에서 3등급으로 갈 수록 어린아이의 수는 많아진다. 그리고 10세 이하의 생존율은 Pclass에 관계없이 높다.<br>\n",
    "2) Survival chances for Passengers aged 20-50 from Pclass 1 is high and is even better for Women<br>\n",
    "Pclass1에서는 20-50대의 생존률이 높다. 그리고 여성의 경우도 마찬가지이다.<br>\n",
    "3) For males, the survival chances decreases with an increase in age.<br>\n",
    "남성의 경우 age가 증가할수록 생존율이 낮아지는 것을 알 수 있다.\n",
    "\n",
    "Tip. 이 외에 더 흥미로운 요소들이 많을텐데 생각해보면 좋을 거라 생각합니다<br>\n",
    "<code>violinplot</code>에 대해서도 자세히 공부할 필요가 있겠습니다."
   ]
  },
  {
   "cell_type": "markdown",
   "metadata": {},
   "source": [
    "---\n",
    "\n",
    "::END:: basic Feature Analysis\n",
    "\n",
    "---\n"
   ]
  },
  {
   "cell_type": "markdown",
   "metadata": {},
   "source": [
    "*지금부터 구어체모드로 갑니다.*"
   ]
  },
  {
   "cell_type": "markdown",
   "metadata": {},
   "source": [
    "### Pre-Process <code>Null values</code>\n",
    "* Null값 처리부터 하나씩...!!"
   ]
  },
  {
   "cell_type": "code",
   "execution_count": 104,
   "metadata": {},
   "outputs": [
    {
     "data": {
      "text/plain": [
       "PassengerId      0\n",
       "Survived         0\n",
       "Pclass           0\n",
       "Name             0\n",
       "Sex              0\n",
       "Age            177\n",
       "SibSp            0\n",
       "Parch            0\n",
       "Ticket           0\n",
       "Fare             0\n",
       "Cabin          687\n",
       "Embarked         2\n",
       "dtype: int64"
      ]
     },
     "execution_count": 104,
     "metadata": {},
     "output_type": "execute_result"
    }
   ],
   "source": [
    "data.isnull().sum()"
   ]
  },
  {
   "cell_type": "markdown",
   "metadata": {},
   "source": [
    "\"As we had seen earlier, the Age feature has 177 null values. <code>To replace these NaN values</code>, we can assign them the mean age of the dataset.\n",
    "\n",
    "But the problem is, there were many people with many different ages. We just cant assign a 4 year kid with the mean age that is 29 years. Is there any way to find out what age-band does the passenger lie??\n",
    "\n",
    "we can check the Name feature. Looking upon the feature, we can see that the names have a salutation like Mr or Mrs. Thus we can assign the mean values of Mr and Mrs to the respective groups.\"\n"
   ]
  },
  {
   "cell_type": "markdown",
   "metadata": {},
   "source": [
    "Age Feature에 177개의 Null값을 채워줄 것입니다. 어떻게 할 수 있을까요??<br>\n",
    "우선 Age의 평균 값을 한 번 보겠습니다."
   ]
  },
  {
   "cell_type": "code",
   "execution_count": 105,
   "metadata": {},
   "outputs": [
    {
     "data": {
      "text/plain": [
       "29.69911764705882"
      ]
     },
     "execution_count": 105,
     "metadata": {},
     "output_type": "execute_result"
    }
   ],
   "source": [
    "data.Age.mean()"
   ]
  },
  {
   "cell_type": "markdown",
   "metadata": {},
   "source": [
    "우선, Null 값을 모두 29세로 채워주는 방법이 있을 수 있겠습니다.<br>\n",
    "\n",
    "*더 좋은 방법은 없을까요?*"
   ]
  },
  {
   "cell_type": "markdown",
   "metadata": {},
   "source": [
    "..."
   ]
  },
  {
   "cell_type": "markdown",
   "metadata": {},
   "source": [
    "Notebook kernel을 만들어주신 Swain님께서는 흥미로운 발상을 하셨습니다. 바로 Name Feature를 확인하는 것입니다!<br>\n",
    "Mr, Mrs, ... 개인의 호칭에 따른 나이의 평균값을 Null값의 대체값으로 입력해주는 것입니다. 흥미롭군요."
   ]
  },
  {
   "cell_type": "markdown",
   "metadata": {},
   "source": [
    "* Note 깨알팁\n",
    "    * 남성의 호칭은 Mr로 한정되어있지만 여성의 경우 호칭이 Ms/Mrs/Miss로 나뉩니다\n",
    "    * Ms는 결혼한 여성\n",
    "    * Miss는 미혼 여성\n",
    "    * 그리고 Mrs는 미혼인지 기혼인지 알 수 없고 알리고 싶어하지 않는 여성들에게 사용된다고 합니다"
   ]
  },
  {
   "cell_type": "markdown",
   "metadata": {},
   "source": [
    "### Fill the Null Values "
   ]
  },
  {
   "cell_type": "markdown",
   "metadata": {},
   "source": [
    "앞에서 얻은 Insight를 바탕으로 우리는 Name에 있는 '호칭'을 통해 나이를 추론하려고 합니다."
   ]
  },
  {
   "cell_type": "markdown",
   "metadata": {},
   "source": [
    "Pandas DataFrame에 'Initial'라는 Feature를 추가로 생성해줍니다."
   ]
  },
  {
   "cell_type": "code",
   "execution_count": 118,
   "metadata": {},
   "outputs": [],
   "source": [
    "# data['Feature Name'] = 0\n",
    "# Initial feature를 만들고 0으로 초기화시켜줍니다.\n",
    "\n",
    "data['Initial'] = 0"
   ]
  },
  {
   "cell_type": "code",
   "execution_count": 120,
   "metadata": {},
   "outputs": [
    {
     "data": {
      "text/plain": [
       "Index(['PassengerId', 'Survived', 'Pclass', 'Name', 'Sex', 'Age', 'SibSp',\n",
       "       'Parch', 'Ticket', 'Fare', 'Cabin', 'Embarked', 'Initial'],\n",
       "      dtype='object')"
      ]
     },
     "execution_count": 120,
     "metadata": {},
     "output_type": "execute_result"
    }
   ],
   "source": [
    "data.columns"
   ]
  },
  {
   "cell_type": "code",
   "execution_count": 121,
   "metadata": {},
   "outputs": [
    {
     "data": {
      "text/plain": [
       "(891, 13)"
      ]
     },
     "execution_count": 121,
     "metadata": {},
     "output_type": "execute_result"
    }
   ],
   "source": [
    "data.shape"
   ]
  },
  {
   "cell_type": "markdown",
   "metadata": {},
   "source": [
    "Initial라는 새로운 Feature가 생성되었습니다."
   ]
  },
  {
   "cell_type": "code",
   "execution_count": 122,
   "metadata": {},
   "outputs": [
    {
     "data": {
      "text/html": [
       "<div>\n",
       "<style scoped>\n",
       "    .dataframe tbody tr th:only-of-type {\n",
       "        vertical-align: middle;\n",
       "    }\n",
       "\n",
       "    .dataframe tbody tr th {\n",
       "        vertical-align: top;\n",
       "    }\n",
       "\n",
       "    .dataframe thead th {\n",
       "        text-align: right;\n",
       "    }\n",
       "</style>\n",
       "<table border=\"1\" class=\"dataframe\">\n",
       "  <thead>\n",
       "    <tr style=\"text-align: right;\">\n",
       "      <th></th>\n",
       "      <th>PassengerId</th>\n",
       "      <th>Survived</th>\n",
       "      <th>Pclass</th>\n",
       "      <th>Name</th>\n",
       "      <th>Sex</th>\n",
       "      <th>Age</th>\n",
       "      <th>SibSp</th>\n",
       "      <th>Parch</th>\n",
       "      <th>Ticket</th>\n",
       "      <th>Fare</th>\n",
       "      <th>Cabin</th>\n",
       "      <th>Embarked</th>\n",
       "      <th>Initial</th>\n",
       "    </tr>\n",
       "  </thead>\n",
       "  <tbody>\n",
       "    <tr>\n",
       "      <td>0</td>\n",
       "      <td>1</td>\n",
       "      <td>0</td>\n",
       "      <td>3</td>\n",
       "      <td>Braund, Mr. Owen Harris</td>\n",
       "      <td>male</td>\n",
       "      <td>22.0</td>\n",
       "      <td>1</td>\n",
       "      <td>0</td>\n",
       "      <td>A/5 21171</td>\n",
       "      <td>7.2500</td>\n",
       "      <td>NaN</td>\n",
       "      <td>S</td>\n",
       "      <td>0</td>\n",
       "    </tr>\n",
       "    <tr>\n",
       "      <td>1</td>\n",
       "      <td>2</td>\n",
       "      <td>1</td>\n",
       "      <td>1</td>\n",
       "      <td>Cumings, Mrs. John Bradley (Florence Briggs Th...</td>\n",
       "      <td>female</td>\n",
       "      <td>38.0</td>\n",
       "      <td>1</td>\n",
       "      <td>0</td>\n",
       "      <td>PC 17599</td>\n",
       "      <td>71.2833</td>\n",
       "      <td>C85</td>\n",
       "      <td>C</td>\n",
       "      <td>0</td>\n",
       "    </tr>\n",
       "    <tr>\n",
       "      <td>2</td>\n",
       "      <td>3</td>\n",
       "      <td>1</td>\n",
       "      <td>3</td>\n",
       "      <td>Heikkinen, Miss. Laina</td>\n",
       "      <td>female</td>\n",
       "      <td>26.0</td>\n",
       "      <td>0</td>\n",
       "      <td>0</td>\n",
       "      <td>STON/O2. 3101282</td>\n",
       "      <td>7.9250</td>\n",
       "      <td>NaN</td>\n",
       "      <td>S</td>\n",
       "      <td>0</td>\n",
       "    </tr>\n",
       "    <tr>\n",
       "      <td>3</td>\n",
       "      <td>4</td>\n",
       "      <td>1</td>\n",
       "      <td>1</td>\n",
       "      <td>Futrelle, Mrs. Jacques Heath (Lily May Peel)</td>\n",
       "      <td>female</td>\n",
       "      <td>35.0</td>\n",
       "      <td>1</td>\n",
       "      <td>0</td>\n",
       "      <td>113803</td>\n",
       "      <td>53.1000</td>\n",
       "      <td>C123</td>\n",
       "      <td>S</td>\n",
       "      <td>0</td>\n",
       "    </tr>\n",
       "    <tr>\n",
       "      <td>4</td>\n",
       "      <td>5</td>\n",
       "      <td>0</td>\n",
       "      <td>3</td>\n",
       "      <td>Allen, Mr. William Henry</td>\n",
       "      <td>male</td>\n",
       "      <td>35.0</td>\n",
       "      <td>0</td>\n",
       "      <td>0</td>\n",
       "      <td>373450</td>\n",
       "      <td>8.0500</td>\n",
       "      <td>NaN</td>\n",
       "      <td>S</td>\n",
       "      <td>0</td>\n",
       "    </tr>\n",
       "  </tbody>\n",
       "</table>\n",
       "</div>"
      ],
      "text/plain": [
       "   PassengerId  Survived  Pclass  \\\n",
       "0            1         0       3   \n",
       "1            2         1       1   \n",
       "2            3         1       3   \n",
       "3            4         1       1   \n",
       "4            5         0       3   \n",
       "\n",
       "                                                Name     Sex   Age  SibSp  \\\n",
       "0                            Braund, Mr. Owen Harris    male  22.0      1   \n",
       "1  Cumings, Mrs. John Bradley (Florence Briggs Th...  female  38.0      1   \n",
       "2                             Heikkinen, Miss. Laina  female  26.0      0   \n",
       "3       Futrelle, Mrs. Jacques Heath (Lily May Peel)  female  35.0      1   \n",
       "4                           Allen, Mr. William Henry    male  35.0      0   \n",
       "\n",
       "   Parch            Ticket     Fare Cabin Embarked  Initial  \n",
       "0      0         A/5 21171   7.2500   NaN        S        0  \n",
       "1      0          PC 17599  71.2833   C85        C        0  \n",
       "2      0  STON/O2. 3101282   7.9250   NaN        S        0  \n",
       "3      0            113803  53.1000  C123        S        0  \n",
       "4      0            373450   8.0500   NaN        S        0  "
      ]
     },
     "execution_count": 122,
     "metadata": {},
     "output_type": "execute_result"
    }
   ],
   "source": [
    "data.head()"
   ]
  },
  {
   "cell_type": "code",
   "execution_count": 123,
   "metadata": {},
   "outputs": [],
   "source": [
    "for i in data:\n",
    "    data['Initial'] = data.Name.str.extract('([A-Za-z]+)\\.') # lets extract the Salutations"
   ]
  },
  {
   "cell_type": "code",
   "execution_count": 124,
   "metadata": {},
   "outputs": [],
   "source": [
    "for i in data:\n",
    "    data['Initial'] = data.Name.str.extract('([A-Za-z]+)\\.')"
   ]
  },
  {
   "cell_type": "markdown",
   "metadata": {},
   "source": [
    "<code>[A-Za-z]+)</code><br>\n",
    "*what it does it?*<br>\n",
    "It looks for strings which lie between A-Z or a-z and followed by a .(dot)<br>\n",
    "So we successfuly extract the Initials from the Name"
   ]
  },
  {
   "cell_type": "markdown",
   "metadata": {},
   "source": [
    "A-Z 또는 a-z 사이에 있고 그 뒤에.이 오는 문자열을 찾습니다. 그래서 이름의 Initial만을 추출할 수 있게 된 것입니다."
   ]
  },
  {
   "cell_type": "code",
   "execution_count": 125,
   "metadata": {},
   "outputs": [
    {
     "data": {
      "text/html": [
       "<style  type=\"text/css\" >\n",
       "    #T_e1f05698_99d7_11ea_932d_309c238131e5row0_col0 {\n",
       "            background-color:  #ffff66;\n",
       "            color:  #000000;\n",
       "        }    #T_e1f05698_99d7_11ea_932d_309c238131e5row0_col1 {\n",
       "            background-color:  #ffff66;\n",
       "            color:  #000000;\n",
       "        }    #T_e1f05698_99d7_11ea_932d_309c238131e5row0_col2 {\n",
       "            background-color:  #008066;\n",
       "            color:  #f1f1f1;\n",
       "        }    #T_e1f05698_99d7_11ea_932d_309c238131e5row0_col3 {\n",
       "            background-color:  #ffff66;\n",
       "            color:  #000000;\n",
       "        }    #T_e1f05698_99d7_11ea_932d_309c238131e5row0_col4 {\n",
       "            background-color:  #ffff66;\n",
       "            color:  #000000;\n",
       "        }    #T_e1f05698_99d7_11ea_932d_309c238131e5row0_col5 {\n",
       "            background-color:  #ffff66;\n",
       "            color:  #000000;\n",
       "        }    #T_e1f05698_99d7_11ea_932d_309c238131e5row0_col6 {\n",
       "            background-color:  #008066;\n",
       "            color:  #f1f1f1;\n",
       "        }    #T_e1f05698_99d7_11ea_932d_309c238131e5row0_col7 {\n",
       "            background-color:  #ffff66;\n",
       "            color:  #000000;\n",
       "        }    #T_e1f05698_99d7_11ea_932d_309c238131e5row0_col8 {\n",
       "            background-color:  #ffff66;\n",
       "            color:  #000000;\n",
       "        }    #T_e1f05698_99d7_11ea_932d_309c238131e5row0_col9 {\n",
       "            background-color:  #008066;\n",
       "            color:  #f1f1f1;\n",
       "        }    #T_e1f05698_99d7_11ea_932d_309c238131e5row0_col10 {\n",
       "            background-color:  #008066;\n",
       "            color:  #f1f1f1;\n",
       "        }    #T_e1f05698_99d7_11ea_932d_309c238131e5row0_col11 {\n",
       "            background-color:  #008066;\n",
       "            color:  #f1f1f1;\n",
       "        }    #T_e1f05698_99d7_11ea_932d_309c238131e5row0_col12 {\n",
       "            background-color:  #ffff66;\n",
       "            color:  #000000;\n",
       "        }    #T_e1f05698_99d7_11ea_932d_309c238131e5row0_col13 {\n",
       "            background-color:  #008066;\n",
       "            color:  #f1f1f1;\n",
       "        }    #T_e1f05698_99d7_11ea_932d_309c238131e5row0_col14 {\n",
       "            background-color:  #008066;\n",
       "            color:  #f1f1f1;\n",
       "        }    #T_e1f05698_99d7_11ea_932d_309c238131e5row0_col15 {\n",
       "            background-color:  #ffff66;\n",
       "            color:  #000000;\n",
       "        }    #T_e1f05698_99d7_11ea_932d_309c238131e5row0_col16 {\n",
       "            background-color:  #ffff66;\n",
       "            color:  #000000;\n",
       "        }    #T_e1f05698_99d7_11ea_932d_309c238131e5row1_col0 {\n",
       "            background-color:  #008066;\n",
       "            color:  #f1f1f1;\n",
       "        }    #T_e1f05698_99d7_11ea_932d_309c238131e5row1_col1 {\n",
       "            background-color:  #008066;\n",
       "            color:  #f1f1f1;\n",
       "        }    #T_e1f05698_99d7_11ea_932d_309c238131e5row1_col2 {\n",
       "            background-color:  #ffff66;\n",
       "            color:  #000000;\n",
       "        }    #T_e1f05698_99d7_11ea_932d_309c238131e5row1_col3 {\n",
       "            background-color:  #008066;\n",
       "            color:  #f1f1f1;\n",
       "        }    #T_e1f05698_99d7_11ea_932d_309c238131e5row1_col4 {\n",
       "            background-color:  #008066;\n",
       "            color:  #f1f1f1;\n",
       "        }    #T_e1f05698_99d7_11ea_932d_309c238131e5row1_col5 {\n",
       "            background-color:  #008066;\n",
       "            color:  #f1f1f1;\n",
       "        }    #T_e1f05698_99d7_11ea_932d_309c238131e5row1_col6 {\n",
       "            background-color:  #ffff66;\n",
       "            color:  #000000;\n",
       "        }    #T_e1f05698_99d7_11ea_932d_309c238131e5row1_col7 {\n",
       "            background-color:  #008066;\n",
       "            color:  #f1f1f1;\n",
       "        }    #T_e1f05698_99d7_11ea_932d_309c238131e5row1_col8 {\n",
       "            background-color:  #008066;\n",
       "            color:  #f1f1f1;\n",
       "        }    #T_e1f05698_99d7_11ea_932d_309c238131e5row1_col9 {\n",
       "            background-color:  #ffff66;\n",
       "            color:  #000000;\n",
       "        }    #T_e1f05698_99d7_11ea_932d_309c238131e5row1_col10 {\n",
       "            background-color:  #ffff66;\n",
       "            color:  #000000;\n",
       "        }    #T_e1f05698_99d7_11ea_932d_309c238131e5row1_col11 {\n",
       "            background-color:  #ffff66;\n",
       "            color:  #000000;\n",
       "        }    #T_e1f05698_99d7_11ea_932d_309c238131e5row1_col12 {\n",
       "            background-color:  #008066;\n",
       "            color:  #f1f1f1;\n",
       "        }    #T_e1f05698_99d7_11ea_932d_309c238131e5row1_col13 {\n",
       "            background-color:  #ffff66;\n",
       "            color:  #000000;\n",
       "        }    #T_e1f05698_99d7_11ea_932d_309c238131e5row1_col14 {\n",
       "            background-color:  #ffff66;\n",
       "            color:  #000000;\n",
       "        }    #T_e1f05698_99d7_11ea_932d_309c238131e5row1_col15 {\n",
       "            background-color:  #008066;\n",
       "            color:  #f1f1f1;\n",
       "        }    #T_e1f05698_99d7_11ea_932d_309c238131e5row1_col16 {\n",
       "            background-color:  #008066;\n",
       "            color:  #f1f1f1;\n",
       "        }</style><table id=\"T_e1f05698_99d7_11ea_932d_309c238131e5\" ><thead>    <tr>        <th class=\"index_name level0\" >Initial</th>        <th class=\"col_heading level0 col0\" >Capt</th>        <th class=\"col_heading level0 col1\" >Col</th>        <th class=\"col_heading level0 col2\" >Countess</th>        <th class=\"col_heading level0 col3\" >Don</th>        <th class=\"col_heading level0 col4\" >Dr</th>        <th class=\"col_heading level0 col5\" >Jonkheer</th>        <th class=\"col_heading level0 col6\" >Lady</th>        <th class=\"col_heading level0 col7\" >Major</th>        <th class=\"col_heading level0 col8\" >Master</th>        <th class=\"col_heading level0 col9\" >Miss</th>        <th class=\"col_heading level0 col10\" >Mlle</th>        <th class=\"col_heading level0 col11\" >Mme</th>        <th class=\"col_heading level0 col12\" >Mr</th>        <th class=\"col_heading level0 col13\" >Mrs</th>        <th class=\"col_heading level0 col14\" >Ms</th>        <th class=\"col_heading level0 col15\" >Rev</th>        <th class=\"col_heading level0 col16\" >Sir</th>    </tr>    <tr>        <th class=\"index_name level0\" >Sex</th>        <th class=\"blank\" ></th>        <th class=\"blank\" ></th>        <th class=\"blank\" ></th>        <th class=\"blank\" ></th>        <th class=\"blank\" ></th>        <th class=\"blank\" ></th>        <th class=\"blank\" ></th>        <th class=\"blank\" ></th>        <th class=\"blank\" ></th>        <th class=\"blank\" ></th>        <th class=\"blank\" ></th>        <th class=\"blank\" ></th>        <th class=\"blank\" ></th>        <th class=\"blank\" ></th>        <th class=\"blank\" ></th>        <th class=\"blank\" ></th>        <th class=\"blank\" ></th>    </tr></thead><tbody>\n",
       "                <tr>\n",
       "                        <th id=\"T_e1f05698_99d7_11ea_932d_309c238131e5level0_row0\" class=\"row_heading level0 row0\" >female</th>\n",
       "                        <td id=\"T_e1f05698_99d7_11ea_932d_309c238131e5row0_col0\" class=\"data row0 col0\" >0</td>\n",
       "                        <td id=\"T_e1f05698_99d7_11ea_932d_309c238131e5row0_col1\" class=\"data row0 col1\" >0</td>\n",
       "                        <td id=\"T_e1f05698_99d7_11ea_932d_309c238131e5row0_col2\" class=\"data row0 col2\" >1</td>\n",
       "                        <td id=\"T_e1f05698_99d7_11ea_932d_309c238131e5row0_col3\" class=\"data row0 col3\" >0</td>\n",
       "                        <td id=\"T_e1f05698_99d7_11ea_932d_309c238131e5row0_col4\" class=\"data row0 col4\" >1</td>\n",
       "                        <td id=\"T_e1f05698_99d7_11ea_932d_309c238131e5row0_col5\" class=\"data row0 col5\" >0</td>\n",
       "                        <td id=\"T_e1f05698_99d7_11ea_932d_309c238131e5row0_col6\" class=\"data row0 col6\" >1</td>\n",
       "                        <td id=\"T_e1f05698_99d7_11ea_932d_309c238131e5row0_col7\" class=\"data row0 col7\" >0</td>\n",
       "                        <td id=\"T_e1f05698_99d7_11ea_932d_309c238131e5row0_col8\" class=\"data row0 col8\" >0</td>\n",
       "                        <td id=\"T_e1f05698_99d7_11ea_932d_309c238131e5row0_col9\" class=\"data row0 col9\" >182</td>\n",
       "                        <td id=\"T_e1f05698_99d7_11ea_932d_309c238131e5row0_col10\" class=\"data row0 col10\" >2</td>\n",
       "                        <td id=\"T_e1f05698_99d7_11ea_932d_309c238131e5row0_col11\" class=\"data row0 col11\" >1</td>\n",
       "                        <td id=\"T_e1f05698_99d7_11ea_932d_309c238131e5row0_col12\" class=\"data row0 col12\" >0</td>\n",
       "                        <td id=\"T_e1f05698_99d7_11ea_932d_309c238131e5row0_col13\" class=\"data row0 col13\" >125</td>\n",
       "                        <td id=\"T_e1f05698_99d7_11ea_932d_309c238131e5row0_col14\" class=\"data row0 col14\" >1</td>\n",
       "                        <td id=\"T_e1f05698_99d7_11ea_932d_309c238131e5row0_col15\" class=\"data row0 col15\" >0</td>\n",
       "                        <td id=\"T_e1f05698_99d7_11ea_932d_309c238131e5row0_col16\" class=\"data row0 col16\" >0</td>\n",
       "            </tr>\n",
       "            <tr>\n",
       "                        <th id=\"T_e1f05698_99d7_11ea_932d_309c238131e5level0_row1\" class=\"row_heading level0 row1\" >male</th>\n",
       "                        <td id=\"T_e1f05698_99d7_11ea_932d_309c238131e5row1_col0\" class=\"data row1 col0\" >1</td>\n",
       "                        <td id=\"T_e1f05698_99d7_11ea_932d_309c238131e5row1_col1\" class=\"data row1 col1\" >2</td>\n",
       "                        <td id=\"T_e1f05698_99d7_11ea_932d_309c238131e5row1_col2\" class=\"data row1 col2\" >0</td>\n",
       "                        <td id=\"T_e1f05698_99d7_11ea_932d_309c238131e5row1_col3\" class=\"data row1 col3\" >1</td>\n",
       "                        <td id=\"T_e1f05698_99d7_11ea_932d_309c238131e5row1_col4\" class=\"data row1 col4\" >6</td>\n",
       "                        <td id=\"T_e1f05698_99d7_11ea_932d_309c238131e5row1_col5\" class=\"data row1 col5\" >1</td>\n",
       "                        <td id=\"T_e1f05698_99d7_11ea_932d_309c238131e5row1_col6\" class=\"data row1 col6\" >0</td>\n",
       "                        <td id=\"T_e1f05698_99d7_11ea_932d_309c238131e5row1_col7\" class=\"data row1 col7\" >2</td>\n",
       "                        <td id=\"T_e1f05698_99d7_11ea_932d_309c238131e5row1_col8\" class=\"data row1 col8\" >40</td>\n",
       "                        <td id=\"T_e1f05698_99d7_11ea_932d_309c238131e5row1_col9\" class=\"data row1 col9\" >0</td>\n",
       "                        <td id=\"T_e1f05698_99d7_11ea_932d_309c238131e5row1_col10\" class=\"data row1 col10\" >0</td>\n",
       "                        <td id=\"T_e1f05698_99d7_11ea_932d_309c238131e5row1_col11\" class=\"data row1 col11\" >0</td>\n",
       "                        <td id=\"T_e1f05698_99d7_11ea_932d_309c238131e5row1_col12\" class=\"data row1 col12\" >517</td>\n",
       "                        <td id=\"T_e1f05698_99d7_11ea_932d_309c238131e5row1_col13\" class=\"data row1 col13\" >0</td>\n",
       "                        <td id=\"T_e1f05698_99d7_11ea_932d_309c238131e5row1_col14\" class=\"data row1 col14\" >0</td>\n",
       "                        <td id=\"T_e1f05698_99d7_11ea_932d_309c238131e5row1_col15\" class=\"data row1 col15\" >6</td>\n",
       "                        <td id=\"T_e1f05698_99d7_11ea_932d_309c238131e5row1_col16\" class=\"data row1 col16\" >1</td>\n",
       "            </tr>\n",
       "    </tbody></table>"
      ],
      "text/plain": [
       "<pandas.io.formats.style.Styler at 0x22754178188>"
      ]
     },
     "execution_count": 125,
     "metadata": {},
     "output_type": "execute_result"
    }
   ],
   "source": [
    "pd.crosstab(data.Initial, data.Sex).T.style.background_gradient(cmap='summer_r')"
   ]
  },
  {
   "cell_type": "markdown",
   "metadata": {},
   "source": [
    "Okay so <code>there are some misspelled Initials</code> like Mlle or Mme that stand for Miss. I will replace them with Miss and same thing for other values."
   ]
  },
  {
   "cell_type": "markdown",
   "metadata": {},
   "source": [
    "* Exmaple\n",
    "    * Capt -> Mr\n",
    "    * lady -> Ms\n",
    "    * ..."
   ]
  },
  {
   "cell_type": "code",
   "execution_count": 129,
   "metadata": {},
   "outputs": [],
   "source": [
    "data['Initial'].replace(['Mlle', 'Mme', 'Ms', 'Dr', 'Major', 'Lady', 'Countess', 'Jonkheer', 'Col', 'Rev', 'Capt', 'Sir', 'Don'],['Miss', 'Miss', 'Miss', 'Mr', 'Mr', 'Mrs', 'Mrs', 'Other', 'Other', 'Other', 'Mr', 'Mr', 'Mr'], inplace=True)"
   ]
  },
  {
   "cell_type": "code",
   "execution_count": 130,
   "metadata": {},
   "outputs": [
    {
     "data": {
      "text/html": [
       "<style  type=\"text/css\" >\n",
       "    #T_096ad638_99d8_11ea_afcc_309c238131e5row0_col0 {\n",
       "            background-color:  #ffff66;\n",
       "            color:  #000000;\n",
       "        }    #T_096ad638_99d8_11ea_afcc_309c238131e5row0_col1 {\n",
       "            background-color:  #008066;\n",
       "            color:  #f1f1f1;\n",
       "        }    #T_096ad638_99d8_11ea_afcc_309c238131e5row0_col2 {\n",
       "            background-color:  #ffff66;\n",
       "            color:  #000000;\n",
       "        }    #T_096ad638_99d8_11ea_afcc_309c238131e5row0_col3 {\n",
       "            background-color:  #008066;\n",
       "            color:  #f1f1f1;\n",
       "        }    #T_096ad638_99d8_11ea_afcc_309c238131e5row0_col4 {\n",
       "            background-color:  #ffff66;\n",
       "            color:  #000000;\n",
       "        }    #T_096ad638_99d8_11ea_afcc_309c238131e5row1_col0 {\n",
       "            background-color:  #008066;\n",
       "            color:  #f1f1f1;\n",
       "        }    #T_096ad638_99d8_11ea_afcc_309c238131e5row1_col1 {\n",
       "            background-color:  #ffff66;\n",
       "            color:  #000000;\n",
       "        }    #T_096ad638_99d8_11ea_afcc_309c238131e5row1_col2 {\n",
       "            background-color:  #008066;\n",
       "            color:  #f1f1f1;\n",
       "        }    #T_096ad638_99d8_11ea_afcc_309c238131e5row1_col3 {\n",
       "            background-color:  #ffff66;\n",
       "            color:  #000000;\n",
       "        }    #T_096ad638_99d8_11ea_afcc_309c238131e5row1_col4 {\n",
       "            background-color:  #008066;\n",
       "            color:  #f1f1f1;\n",
       "        }</style><table id=\"T_096ad638_99d8_11ea_afcc_309c238131e5\" ><thead>    <tr>        <th class=\"index_name level0\" >Initial</th>        <th class=\"col_heading level0 col0\" >Master</th>        <th class=\"col_heading level0 col1\" >Miss</th>        <th class=\"col_heading level0 col2\" >Mr</th>        <th class=\"col_heading level0 col3\" >Mrs</th>        <th class=\"col_heading level0 col4\" >Other</th>    </tr>    <tr>        <th class=\"index_name level0\" >Sex</th>        <th class=\"blank\" ></th>        <th class=\"blank\" ></th>        <th class=\"blank\" ></th>        <th class=\"blank\" ></th>        <th class=\"blank\" ></th>    </tr></thead><tbody>\n",
       "                <tr>\n",
       "                        <th id=\"T_096ad638_99d8_11ea_afcc_309c238131e5level0_row0\" class=\"row_heading level0 row0\" >female</th>\n",
       "                        <td id=\"T_096ad638_99d8_11ea_afcc_309c238131e5row0_col0\" class=\"data row0 col0\" >0</td>\n",
       "                        <td id=\"T_096ad638_99d8_11ea_afcc_309c238131e5row0_col1\" class=\"data row0 col1\" >186</td>\n",
       "                        <td id=\"T_096ad638_99d8_11ea_afcc_309c238131e5row0_col2\" class=\"data row0 col2\" >1</td>\n",
       "                        <td id=\"T_096ad638_99d8_11ea_afcc_309c238131e5row0_col3\" class=\"data row0 col3\" >127</td>\n",
       "                        <td id=\"T_096ad638_99d8_11ea_afcc_309c238131e5row0_col4\" class=\"data row0 col4\" >0</td>\n",
       "            </tr>\n",
       "            <tr>\n",
       "                        <th id=\"T_096ad638_99d8_11ea_afcc_309c238131e5level0_row1\" class=\"row_heading level0 row1\" >male</th>\n",
       "                        <td id=\"T_096ad638_99d8_11ea_afcc_309c238131e5row1_col0\" class=\"data row1 col0\" >40</td>\n",
       "                        <td id=\"T_096ad638_99d8_11ea_afcc_309c238131e5row1_col1\" class=\"data row1 col1\" >0</td>\n",
       "                        <td id=\"T_096ad638_99d8_11ea_afcc_309c238131e5row1_col2\" class=\"data row1 col2\" >528</td>\n",
       "                        <td id=\"T_096ad638_99d8_11ea_afcc_309c238131e5row1_col3\" class=\"data row1 col3\" >0</td>\n",
       "                        <td id=\"T_096ad638_99d8_11ea_afcc_309c238131e5row1_col4\" class=\"data row1 col4\" >9</td>\n",
       "            </tr>\n",
       "    </tbody></table>"
      ],
      "text/plain": [
       "<pandas.io.formats.style.Styler at 0x2276141f288>"
      ]
     },
     "execution_count": 130,
     "metadata": {},
     "output_type": "execute_result"
    }
   ],
   "source": [
    "pd.crosstab(data.Sex, data.Initial).style.background_gradient(cmap='summer_r')"
   ]
  },
  {
   "cell_type": "code",
   "execution_count": 132,
   "metadata": {},
   "outputs": [
    {
     "data": {
      "text/plain": [
       "Initial\n",
       "Master     4.574167\n",
       "Miss      21.860000\n",
       "Mr        32.739609\n",
       "Mrs       35.981818\n",
       "Other     45.888889\n",
       "Name: Age, dtype: float64"
      ]
     },
     "execution_count": 132,
     "metadata": {},
     "output_type": "execute_result"
    }
   ],
   "source": [
    "data.groupby('Initial')['Age'].mean()"
   ]
  },
  {
   "cell_type": "code",
   "execution_count": 134,
   "metadata": {},
   "outputs": [
    {
     "name": "stdout",
     "output_type": "stream",
     "text": [
      "<class 'pandas.core.series.Series'>\n"
     ]
    }
   ],
   "source": [
    "print(type(data.groupby('Initial')['Age'].mean()))"
   ]
  },
  {
   "cell_type": "code",
   "execution_count": 135,
   "metadata": {},
   "outputs": [
    {
     "data": {
      "text/plain": [
       "32.73960880195599"
      ]
     },
     "execution_count": 135,
     "metadata": {},
     "output_type": "execute_result"
    }
   ],
   "source": [
    "data.groupby('Initial')['Age'].mean()[2]"
   ]
  },
  {
   "cell_type": "markdown",
   "metadata": {},
   "source": [
    "각 호칭별로 계산한 평균 값을 채워주는 방식으로 Null값을 처리합니다."
   ]
  },
  {
   "cell_type": "markdown",
   "metadata": {},
   "source": [
    "### Filling NaN Ages"
   ]
  },
  {
   "cell_type": "code",
   "execution_count": 136,
   "metadata": {},
   "outputs": [],
   "source": [
    "## Assignming the NaN Values with the Ceil values of the mean ages\n",
    "\n",
    "# data.loc[(data.Age.isnull()) & (data.Initial=='Mr'), 'Age'] = data.groupby('Initial')['Age'].mean()[2]\n",
    "\n",
    "# df.loc[행 인덱싱값, 열 인덱싱값]\n",
    "data.loc[(data.Age.isnull()) & (data.Initial=='Mr'), 'Age'] = 33   # Age가 Null값이면서 호칭은 Mr인 경우\n",
    "data.loc[(data.Age.isnull()) & (data.Initial=='Mrs'), 'Age'] = 36  # 이하 같은 방식\n",
    "data.loc[(data.Age.isnull()) & (data.Initial=='Master'), 'Age'] = 5\n",
    "data.loc[(data.Age.isnull()) & (data.Initial=='Miss'),'Age']=22\n",
    "data.loc[(data.Age.isnull()) & (data.Initial=='Other'),'Age']=46"
   ]
  },
  {
   "cell_type": "code",
   "execution_count": 137,
   "metadata": {},
   "outputs": [
    {
     "data": {
      "text/plain": [
       "0"
      ]
     },
     "execution_count": 137,
     "metadata": {},
     "output_type": "execute_result"
    }
   ],
   "source": [
    "data.Age.isnull().sum()"
   ]
  },
  {
   "cell_type": "code",
   "execution_count": 138,
   "metadata": {},
   "outputs": [
    {
     "data": {
      "text/plain": [
       "False"
      ]
     },
     "execution_count": 138,
     "metadata": {},
     "output_type": "execute_result"
    }
   ],
   "source": [
    "data.Age.isnull().any() "
   ]
  },
  {
   "cell_type": "markdown",
   "metadata": {},
   "source": [
    "No nulll values left finally!"
   ]
  },
  {
   "cell_type": "code",
   "execution_count": 139,
   "metadata": {},
   "outputs": [
    {
     "data": {
      "image/png": "[encoded data removed]",
      "text/plain": [
       "<Figure size 1440x720 with 2 Axes>"
      ]
     },
     "metadata": {
      "needs_background": "light"
     },
     "output_type": "display_data"
    }
   ],
   "source": [
    "f, ax = plt.subplots(1, 2, figsize=(20, 10))\n",
    "# data[data['Survived']==0].Age.plot.hist(bins=20, ax=ax[0], edgecolor='black', color='red')\n",
    "data[data['Survived']==0].Age.plot.hist(bins=20, ax=ax[0], edgecolor='black', color='red')\n",
    "ax[0].set_title('Survived=0')\n",
    "x1=list(range(0, 85, 5))\n",
    "\n",
    "data[data['Survived']==1].Age.plot.hist(bins=20, ax=ax[1], edgecolor='black', color='green')\n",
    "ax[1].set_title('Survived=1')\n",
    "x2 = list(range(0, 85, 5))\n",
    "plt.show()"
   ]
  },
  {
   "cell_type": "markdown",
   "metadata": {},
   "source": [
    "Observations:\n",
    "\n",
    "1)The Toddlers(age<5) were saved in large numbers(The Women and Child First Policy).\n",
    "\n",
    "2)The oldest Passenger was saved(80 years).\n",
    "\n",
    "3)Maximum number of deaths were in the age group of 30-40."
   ]
  },
  {
   "cell_type": "code",
   "execution_count": 140,
   "metadata": {},
   "outputs": [
    {
     "data": {
      "image/png": "[encoded data removed]",
      "text/plain": [
       "<Figure size 1800x360 with 5 Axes>"
      ]
     },
     "metadata": {
      "needs_background": "light"
     },
     "output_type": "display_data"
    }
   ],
   "source": [
    "sns.factorplot('Pclass', 'Survived', col='Initial', data=data)\n",
    "plt.show()"
   ]
  },
  {
   "cell_type": "code",
   "execution_count": 142,
   "metadata": {},
   "outputs": [
    {
     "data": {
      "text/plain": [
       "<seaborn.axisgrid.FacetGrid at 0x22762d20108>"
      ]
     },
     "execution_count": 142,
     "metadata": {},
     "output_type": "execute_result"
    },
    {
     "data": {
      "image/png": "[encoded data removed]",
      "text/plain": [
       "<Figure size 430.5x360 with 1 Axes>"
      ]
     },
     "metadata": {
      "needs_background": "light"
     },
     "output_type": "display_data"
    }
   ],
   "source": [
    "sns.factorplot('Pclass', 'Survived', hue='Sex', data=data)"
   ]
  },
  {
   "cell_type": "markdown",
   "metadata": {},
   "source": [
    "The Women and Child first policy thus holds true irrespective of the class."
   ]
  },
  {
   "cell_type": "markdown",
   "metadata": {},
   "source": [
    "---\n",
    "\n",
    ":: 🏊‍♀️ Keep going<br>\n",
    ":::::: 🏊‍♀️ Keep going - 20.05.19.tue. pm11:00"
   ]
  },
  {
   "cell_type": "markdown",
   "metadata": {},
   "source": [
    "### Categorical Value\n",
    "* Embarked"
   ]
  },
  {
   "cell_type": "code",
   "execution_count": 143,
   "metadata": {},
   "outputs": [
    {
     "data": {
      "text/html": [
       "<style  type=\"text/css\" >\n",
       "    #T_93e463ee_99e1_11ea_afb3_309c238131e5row0_col0 {\n",
       "            background-color:  #fcfe66;\n",
       "            color:  #000000;\n",
       "        }    #T_93e463ee_99e1_11ea_afb3_309c238131e5row0_col1 {\n",
       "            background-color:  #d2e866;\n",
       "            color:  #000000;\n",
       "        }    #T_93e463ee_99e1_11ea_afb3_309c238131e5row0_col2 {\n",
       "            background-color:  #f2f866;\n",
       "            color:  #000000;\n",
       "        }    #T_93e463ee_99e1_11ea_afb3_309c238131e5row0_col3 {\n",
       "            background-color:  #d8ec66;\n",
       "            color:  #000000;\n",
       "        }    #T_93e463ee_99e1_11ea_afb3_309c238131e5row0_col4 {\n",
       "            background-color:  #e8f466;\n",
       "            color:  #000000;\n",
       "        }    #T_93e463ee_99e1_11ea_afb3_309c238131e5row1_col0 {\n",
       "            background-color:  #ffff66;\n",
       "            color:  #000000;\n",
       "        }    #T_93e463ee_99e1_11ea_afb3_309c238131e5row1_col1 {\n",
       "            background-color:  #f9fc66;\n",
       "            color:  #000000;\n",
       "        }    #T_93e463ee_99e1_11ea_afb3_309c238131e5row1_col2 {\n",
       "            background-color:  #fcfe66;\n",
       "            color:  #000000;\n",
       "        }    #T_93e463ee_99e1_11ea_afb3_309c238131e5row1_col3 {\n",
       "            background-color:  #fbfd66;\n",
       "            color:  #000000;\n",
       "        }    #T_93e463ee_99e1_11ea_afb3_309c238131e5row1_col4 {\n",
       "            background-color:  #fbfd66;\n",
       "            color:  #000000;\n",
       "        }    #T_93e463ee_99e1_11ea_afb3_309c238131e5row2_col0 {\n",
       "            background-color:  #e6f266;\n",
       "            color:  #000000;\n",
       "        }    #T_93e463ee_99e1_11ea_afb3_309c238131e5row2_col1 {\n",
       "            background-color:  #f0f866;\n",
       "            color:  #000000;\n",
       "        }    #T_93e463ee_99e1_11ea_afb3_309c238131e5row2_col2 {\n",
       "            background-color:  #eef666;\n",
       "            color:  #000000;\n",
       "        }    #T_93e463ee_99e1_11ea_afb3_309c238131e5row2_col3 {\n",
       "            background-color:  #e8f466;\n",
       "            color:  #000000;\n",
       "        }    #T_93e463ee_99e1_11ea_afb3_309c238131e5row2_col4 {\n",
       "            background-color:  #edf666;\n",
       "            color:  #000000;\n",
       "        }    #T_93e463ee_99e1_11ea_afb3_309c238131e5row3_col0 {\n",
       "            background-color:  #ffff66;\n",
       "            color:  #000000;\n",
       "        }    #T_93e463ee_99e1_11ea_afb3_309c238131e5row3_col1 {\n",
       "            background-color:  #ffff66;\n",
       "            color:  #000000;\n",
       "        }    #T_93e463ee_99e1_11ea_afb3_309c238131e5row3_col2 {\n",
       "            background-color:  #ffff66;\n",
       "            color:  #000000;\n",
       "        }    #T_93e463ee_99e1_11ea_afb3_309c238131e5row3_col3 {\n",
       "            background-color:  #ffff66;\n",
       "            color:  #000000;\n",
       "        }    #T_93e463ee_99e1_11ea_afb3_309c238131e5row3_col4 {\n",
       "            background-color:  #ffff66;\n",
       "            color:  #000000;\n",
       "        }    #T_93e463ee_99e1_11ea_afb3_309c238131e5row4_col0 {\n",
       "            background-color:  #ffff66;\n",
       "            color:  #000000;\n",
       "        }    #T_93e463ee_99e1_11ea_afb3_309c238131e5row4_col1 {\n",
       "            background-color:  #fefe66;\n",
       "            color:  #000000;\n",
       "        }    #T_93e463ee_99e1_11ea_afb3_309c238131e5row4_col2 {\n",
       "            background-color:  #ffff66;\n",
       "            color:  #000000;\n",
       "        }    #T_93e463ee_99e1_11ea_afb3_309c238131e5row4_col3 {\n",
       "            background-color:  #ffff66;\n",
       "            color:  #000000;\n",
       "        }    #T_93e463ee_99e1_11ea_afb3_309c238131e5row4_col4 {\n",
       "            background-color:  #ffff66;\n",
       "            color:  #000000;\n",
       "        }    #T_93e463ee_99e1_11ea_afb3_309c238131e5row5_col0 {\n",
       "            background-color:  #e3f166;\n",
       "            color:  #000000;\n",
       "        }    #T_93e463ee_99e1_11ea_afb3_309c238131e5row5_col1 {\n",
       "            background-color:  #e6f266;\n",
       "            color:  #000000;\n",
       "        }    #T_93e463ee_99e1_11ea_afb3_309c238131e5row5_col2 {\n",
       "            background-color:  #ecf666;\n",
       "            color:  #000000;\n",
       "        }    #T_93e463ee_99e1_11ea_afb3_309c238131e5row5_col3 {\n",
       "            background-color:  #f8fc66;\n",
       "            color:  #000000;\n",
       "        }    #T_93e463ee_99e1_11ea_afb3_309c238131e5row5_col4 {\n",
       "            background-color:  #ebf566;\n",
       "            color:  #000000;\n",
       "        }    #T_93e463ee_99e1_11ea_afb3_309c238131e5row6_col0 {\n",
       "            background-color:  #f9fc66;\n",
       "            color:  #000000;\n",
       "        }    #T_93e463ee_99e1_11ea_afb3_309c238131e5row6_col1 {\n",
       "            background-color:  #cde666;\n",
       "            color:  #000000;\n",
       "        }    #T_93e463ee_99e1_11ea_afb3_309c238131e5row6_col2 {\n",
       "            background-color:  #e4f266;\n",
       "            color:  #000000;\n",
       "        }    #T_93e463ee_99e1_11ea_afb3_309c238131e5row6_col3 {\n",
       "            background-color:  #bede66;\n",
       "            color:  #000000;\n",
       "        }    #T_93e463ee_99e1_11ea_afb3_309c238131e5row6_col4 {\n",
       "            background-color:  #dbed66;\n",
       "            color:  #000000;\n",
       "        }    #T_93e463ee_99e1_11ea_afb3_309c238131e5row7_col0 {\n",
       "            background-color:  #edf666;\n",
       "            color:  #000000;\n",
       "        }    #T_93e463ee_99e1_11ea_afb3_309c238131e5row7_col1 {\n",
       "            background-color:  #bdde66;\n",
       "            color:  #000000;\n",
       "        }    #T_93e463ee_99e1_11ea_afb3_309c238131e5row7_col2 {\n",
       "            background-color:  #d3e966;\n",
       "            color:  #000000;\n",
       "        }    #T_93e463ee_99e1_11ea_afb3_309c238131e5row7_col3 {\n",
       "            background-color:  #dcee66;\n",
       "            color:  #000000;\n",
       "        }    #T_93e463ee_99e1_11ea_afb3_309c238131e5row7_col4 {\n",
       "            background-color:  #d1e866;\n",
       "            color:  #000000;\n",
       "        }    #T_93e463ee_99e1_11ea_afb3_309c238131e5row8_col0 {\n",
       "            background-color:  #52a866;\n",
       "            color:  #000000;\n",
       "        }    #T_93e463ee_99e1_11ea_afb3_309c238131e5row8_col1 {\n",
       "            background-color:  #dcee66;\n",
       "            color:  #000000;\n",
       "        }    #T_93e463ee_99e1_11ea_afb3_309c238131e5row8_col2 {\n",
       "            background-color:  #81c066;\n",
       "            color:  #000000;\n",
       "        }    #T_93e463ee_99e1_11ea_afb3_309c238131e5row8_col3 {\n",
       "            background-color:  #b0d866;\n",
       "            color:  #000000;\n",
       "        }    #T_93e463ee_99e1_11ea_afb3_309c238131e5row8_col4 {\n",
       "            background-color:  #9acc66;\n",
       "            color:  #000000;\n",
       "        }    #T_93e463ee_99e1_11ea_afb3_309c238131e5row9_col0 {\n",
       "            background-color:  #008066;\n",
       "            color:  #f1f1f1;\n",
       "        }    #T_93e463ee_99e1_11ea_afb3_309c238131e5row9_col1 {\n",
       "            background-color:  #008066;\n",
       "            color:  #f1f1f1;\n",
       "        }    #T_93e463ee_99e1_11ea_afb3_309c238131e5row9_col2 {\n",
       "            background-color:  #008066;\n",
       "            color:  #f1f1f1;\n",
       "        }    #T_93e463ee_99e1_11ea_afb3_309c238131e5row9_col3 {\n",
       "            background-color:  #008066;\n",
       "            color:  #f1f1f1;\n",
       "        }    #T_93e463ee_99e1_11ea_afb3_309c238131e5row9_col4 {\n",
       "            background-color:  #008066;\n",
       "            color:  #f1f1f1;\n",
       "        }</style><table id=\"T_93e463ee_99e1_11ea_afb3_309c238131e5\" ><thead>    <tr>        <th class=\"blank\" ></th>        <th class=\"index_name level0\" >Sex</th>        <th class=\"col_heading level0 col0\" colspan=2>female</th>        <th class=\"col_heading level0 col2\" colspan=2>male</th>        <th class=\"col_heading level0 col4\" >All</th>    </tr>    <tr>        <th class=\"blank\" ></th>        <th class=\"index_name level1\" >Survived</th>        <th class=\"col_heading level1 col0\" >0</th>        <th class=\"col_heading level1 col1\" >1</th>        <th class=\"col_heading level1 col2\" >0</th>        <th class=\"col_heading level1 col3\" >1</th>        <th class=\"col_heading level1 col4\" ></th>    </tr>    <tr>        <th class=\"index_name level0\" >Embarked</th>        <th class=\"index_name level1\" >Pclass</th>        <th class=\"blank\" ></th>        <th class=\"blank\" ></th>        <th class=\"blank\" ></th>        <th class=\"blank\" ></th>        <th class=\"blank\" ></th>    </tr></thead><tbody>\n",
       "                <tr>\n",
       "                        <th id=\"T_93e463ee_99e1_11ea_afb3_309c238131e5level0_row0\" class=\"row_heading level0 row0\" rowspan=3>C</th>\n",
       "                        <th id=\"T_93e463ee_99e1_11ea_afb3_309c238131e5level1_row0\" class=\"row_heading level1 row0\" >1</th>\n",
       "                        <td id=\"T_93e463ee_99e1_11ea_afb3_309c238131e5row0_col0\" class=\"data row0 col0\" >1</td>\n",
       "                        <td id=\"T_93e463ee_99e1_11ea_afb3_309c238131e5row0_col1\" class=\"data row0 col1\" >42</td>\n",
       "                        <td id=\"T_93e463ee_99e1_11ea_afb3_309c238131e5row0_col2\" class=\"data row0 col2\" >25</td>\n",
       "                        <td id=\"T_93e463ee_99e1_11ea_afb3_309c238131e5row0_col3\" class=\"data row0 col3\" >17</td>\n",
       "                        <td id=\"T_93e463ee_99e1_11ea_afb3_309c238131e5row0_col4\" class=\"data row0 col4\" >85</td>\n",
       "            </tr>\n",
       "            <tr>\n",
       "                                <th id=\"T_93e463ee_99e1_11ea_afb3_309c238131e5level1_row1\" class=\"row_heading level1 row1\" >2</th>\n",
       "                        <td id=\"T_93e463ee_99e1_11ea_afb3_309c238131e5row1_col0\" class=\"data row1 col0\" >0</td>\n",
       "                        <td id=\"T_93e463ee_99e1_11ea_afb3_309c238131e5row1_col1\" class=\"data row1 col1\" >7</td>\n",
       "                        <td id=\"T_93e463ee_99e1_11ea_afb3_309c238131e5row1_col2\" class=\"data row1 col2\" >8</td>\n",
       "                        <td id=\"T_93e463ee_99e1_11ea_afb3_309c238131e5row1_col3\" class=\"data row1 col3\" >2</td>\n",
       "                        <td id=\"T_93e463ee_99e1_11ea_afb3_309c238131e5row1_col4\" class=\"data row1 col4\" >17</td>\n",
       "            </tr>\n",
       "            <tr>\n",
       "                                <th id=\"T_93e463ee_99e1_11ea_afb3_309c238131e5level1_row2\" class=\"row_heading level1 row2\" >3</th>\n",
       "                        <td id=\"T_93e463ee_99e1_11ea_afb3_309c238131e5row2_col0\" class=\"data row2 col0\" >8</td>\n",
       "                        <td id=\"T_93e463ee_99e1_11ea_afb3_309c238131e5row2_col1\" class=\"data row2 col1\" >15</td>\n",
       "                        <td id=\"T_93e463ee_99e1_11ea_afb3_309c238131e5row2_col2\" class=\"data row2 col2\" >33</td>\n",
       "                        <td id=\"T_93e463ee_99e1_11ea_afb3_309c238131e5row2_col3\" class=\"data row2 col3\" >10</td>\n",
       "                        <td id=\"T_93e463ee_99e1_11ea_afb3_309c238131e5row2_col4\" class=\"data row2 col4\" >66</td>\n",
       "            </tr>\n",
       "            <tr>\n",
       "                        <th id=\"T_93e463ee_99e1_11ea_afb3_309c238131e5level0_row3\" class=\"row_heading level0 row3\" rowspan=3>Q</th>\n",
       "                        <th id=\"T_93e463ee_99e1_11ea_afb3_309c238131e5level1_row3\" class=\"row_heading level1 row3\" >1</th>\n",
       "                        <td id=\"T_93e463ee_99e1_11ea_afb3_309c238131e5row3_col0\" class=\"data row3 col0\" >0</td>\n",
       "                        <td id=\"T_93e463ee_99e1_11ea_afb3_309c238131e5row3_col1\" class=\"data row3 col1\" >1</td>\n",
       "                        <td id=\"T_93e463ee_99e1_11ea_afb3_309c238131e5row3_col2\" class=\"data row3 col2\" >1</td>\n",
       "                        <td id=\"T_93e463ee_99e1_11ea_afb3_309c238131e5row3_col3\" class=\"data row3 col3\" >0</td>\n",
       "                        <td id=\"T_93e463ee_99e1_11ea_afb3_309c238131e5row3_col4\" class=\"data row3 col4\" >2</td>\n",
       "            </tr>\n",
       "            <tr>\n",
       "                                <th id=\"T_93e463ee_99e1_11ea_afb3_309c238131e5level1_row4\" class=\"row_heading level1 row4\" >2</th>\n",
       "                        <td id=\"T_93e463ee_99e1_11ea_afb3_309c238131e5row4_col0\" class=\"data row4 col0\" >0</td>\n",
       "                        <td id=\"T_93e463ee_99e1_11ea_afb3_309c238131e5row4_col1\" class=\"data row4 col1\" >2</td>\n",
       "                        <td id=\"T_93e463ee_99e1_11ea_afb3_309c238131e5row4_col2\" class=\"data row4 col2\" >1</td>\n",
       "                        <td id=\"T_93e463ee_99e1_11ea_afb3_309c238131e5row4_col3\" class=\"data row4 col3\" >0</td>\n",
       "                        <td id=\"T_93e463ee_99e1_11ea_afb3_309c238131e5row4_col4\" class=\"data row4 col4\" >3</td>\n",
       "            </tr>\n",
       "            <tr>\n",
       "                                <th id=\"T_93e463ee_99e1_11ea_afb3_309c238131e5level1_row5\" class=\"row_heading level1 row5\" >3</th>\n",
       "                        <td id=\"T_93e463ee_99e1_11ea_afb3_309c238131e5row5_col0\" class=\"data row5 col0\" >9</td>\n",
       "                        <td id=\"T_93e463ee_99e1_11ea_afb3_309c238131e5row5_col1\" class=\"data row5 col1\" >24</td>\n",
       "                        <td id=\"T_93e463ee_99e1_11ea_afb3_309c238131e5row5_col2\" class=\"data row5 col2\" >36</td>\n",
       "                        <td id=\"T_93e463ee_99e1_11ea_afb3_309c238131e5row5_col3\" class=\"data row5 col3\" >3</td>\n",
       "                        <td id=\"T_93e463ee_99e1_11ea_afb3_309c238131e5row5_col4\" class=\"data row5 col4\" >72</td>\n",
       "            </tr>\n",
       "            <tr>\n",
       "                        <th id=\"T_93e463ee_99e1_11ea_afb3_309c238131e5level0_row6\" class=\"row_heading level0 row6\" rowspan=3>S</th>\n",
       "                        <th id=\"T_93e463ee_99e1_11ea_afb3_309c238131e5level1_row6\" class=\"row_heading level1 row6\" >1</th>\n",
       "                        <td id=\"T_93e463ee_99e1_11ea_afb3_309c238131e5row6_col0\" class=\"data row6 col0\" >2</td>\n",
       "                        <td id=\"T_93e463ee_99e1_11ea_afb3_309c238131e5row6_col1\" class=\"data row6 col1\" >46</td>\n",
       "                        <td id=\"T_93e463ee_99e1_11ea_afb3_309c238131e5row6_col2\" class=\"data row6 col2\" >51</td>\n",
       "                        <td id=\"T_93e463ee_99e1_11ea_afb3_309c238131e5row6_col3\" class=\"data row6 col3\" >28</td>\n",
       "                        <td id=\"T_93e463ee_99e1_11ea_afb3_309c238131e5row6_col4\" class=\"data row6 col4\" >127</td>\n",
       "            </tr>\n",
       "            <tr>\n",
       "                                <th id=\"T_93e463ee_99e1_11ea_afb3_309c238131e5level1_row7\" class=\"row_heading level1 row7\" >2</th>\n",
       "                        <td id=\"T_93e463ee_99e1_11ea_afb3_309c238131e5row7_col0\" class=\"data row7 col0\" >6</td>\n",
       "                        <td id=\"T_93e463ee_99e1_11ea_afb3_309c238131e5row7_col1\" class=\"data row7 col1\" >61</td>\n",
       "                        <td id=\"T_93e463ee_99e1_11ea_afb3_309c238131e5row7_col2\" class=\"data row7 col2\" >82</td>\n",
       "                        <td id=\"T_93e463ee_99e1_11ea_afb3_309c238131e5row7_col3\" class=\"data row7 col3\" >15</td>\n",
       "                        <td id=\"T_93e463ee_99e1_11ea_afb3_309c238131e5row7_col4\" class=\"data row7 col4\" >164</td>\n",
       "            </tr>\n",
       "            <tr>\n",
       "                                <th id=\"T_93e463ee_99e1_11ea_afb3_309c238131e5level1_row8\" class=\"row_heading level1 row8\" >3</th>\n",
       "                        <td id=\"T_93e463ee_99e1_11ea_afb3_309c238131e5row8_col0\" class=\"data row8 col0\" >55</td>\n",
       "                        <td id=\"T_93e463ee_99e1_11ea_afb3_309c238131e5row8_col1\" class=\"data row8 col1\" >33</td>\n",
       "                        <td id=\"T_93e463ee_99e1_11ea_afb3_309c238131e5row8_col2\" class=\"data row8 col2\" >231</td>\n",
       "                        <td id=\"T_93e463ee_99e1_11ea_afb3_309c238131e5row8_col3\" class=\"data row8 col3\" >34</td>\n",
       "                        <td id=\"T_93e463ee_99e1_11ea_afb3_309c238131e5row8_col4\" class=\"data row8 col4\" >353</td>\n",
       "            </tr>\n",
       "            <tr>\n",
       "                        <th id=\"T_93e463ee_99e1_11ea_afb3_309c238131e5level0_row9\" class=\"row_heading level0 row9\" >All</th>\n",
       "                        <th id=\"T_93e463ee_99e1_11ea_afb3_309c238131e5level1_row9\" class=\"row_heading level1 row9\" ></th>\n",
       "                        <td id=\"T_93e463ee_99e1_11ea_afb3_309c238131e5row9_col0\" class=\"data row9 col0\" >81</td>\n",
       "                        <td id=\"T_93e463ee_99e1_11ea_afb3_309c238131e5row9_col1\" class=\"data row9 col1\" >231</td>\n",
       "                        <td id=\"T_93e463ee_99e1_11ea_afb3_309c238131e5row9_col2\" class=\"data row9 col2\" >468</td>\n",
       "                        <td id=\"T_93e463ee_99e1_11ea_afb3_309c238131e5row9_col3\" class=\"data row9 col3\" >109</td>\n",
       "                        <td id=\"T_93e463ee_99e1_11ea_afb3_309c238131e5row9_col4\" class=\"data row9 col4\" >889</td>\n",
       "            </tr>\n",
       "    </tbody></table>"
      ],
      "text/plain": [
       "<pandas.io.formats.style.Styler at 0x227629a3348>"
      ]
     },
     "execution_count": 143,
     "metadata": {},
     "output_type": "execute_result"
    }
   ],
   "source": [
    "pd.crosstab([data.Embarked, data.Pclass], [data.Sex, data.Survived], margins=True).style.background_gradient(cmap='summer_r')"
   ]
  },
  {
   "cell_type": "markdown",
   "metadata": {},
   "source": [
    "Chances for Survival by Port of Embarkation"
   ]
  },
  {
   "cell_type": "code",
   "execution_count": 144,
   "metadata": {},
   "outputs": [
    {
     "data": {
      "image/png": "[encoded data removed]",
      "text/plain": [
       "<Figure size 360x216 with 1 Axes>"
      ]
     },
     "metadata": {
      "needs_background": "light"
     },
     "output_type": "display_data"
    }
   ],
   "source": [
    "sns.factorplot('Embarked', 'Survived', data=data)\n",
    "fig=plt.gcf()\n",
    "fig.set_size_inches(5, 3)\n",
    "plt.show()"
   ]
  },
  {
   "cell_type": "markdown",
   "metadata": {},
   "source": [
    "The chances for survival for Port C is highest around 0.55 while it is lowest for S"
   ]
  },
  {
   "cell_type": "code",
   "execution_count": 145,
   "metadata": {},
   "outputs": [
    {
     "data": {
      "image/png": "[encoded data removed]",
      "text/plain": [
       "<Figure size 1440x1080 with 4 Axes>"
      ]
     },
     "metadata": {
      "needs_background": "light"
     },
     "output_type": "display_data"
    }
   ],
   "source": [
    "f, ax = plt.subplots(2, 2, figsize=(20, 15))\n",
    "sns.countplot('Embarked', data=data, ax=ax[0, 0])\n",
    "ax[0, 0].set_title('No. Of Passengers Boarded')\n",
    "sns.countplot('Embarked', hue='Sex', data=data, ax=ax[0, 1])\n",
    "ax[0, 1].set_title('Male-Female Split for Embarked')\n",
    "sns.countplot('Embarked', hue='Survived', data=data, ax=ax[1,0])\n",
    "ax[1, 1].set_title('Embarked vs Survived')\n",
    "sns.countplot('Embarked', hue='Pclass', data=data, ax=ax[1, 1])\n",
    "ax[1, 1].set_title('Embarked vs Pclass')\n",
    "plt.subplots_adjust(wspace=0.2, hspace=0.3)\n",
    "plt.show()"
   ]
  },
  {
   "cell_type": "markdown",
   "metadata": {},
   "source": [
    "*선착장별 승객들의 좌석 등급은 어떻게 될까?*"
   ]
  },
  {
   "cell_type": "code",
   "execution_count": 146,
   "metadata": {},
   "outputs": [
    {
     "data": {
      "text/plain": [
       "<matplotlib.axes._subplots.AxesSubplot at 0x2276315cd48>"
      ]
     },
     "execution_count": 146,
     "metadata": {},
     "output_type": "execute_result"
    },
    {
     "data": {
      "image/png": "[encoded data removed]",
      "text/plain": [
       "<Figure size 432x288 with 1 Axes>"
      ]
     },
     "metadata": {
      "needs_background": "light"
     },
     "output_type": "display_data"
    }
   ],
   "source": [
    "sns.countplot('Embarked', hue='Pclass', data=data)"
   ]
  },
  {
   "cell_type": "markdown",
   "metadata": {},
   "source": [
    "**Observations**:<br>\n",
    "1) Maximum passengers boarderd from S, Majority of them being from Pclass 3.\n",
    "\n",
    "2) The Passengers from C look to be lucky as good proportion of them survived. The reason for this may be the rescue of all the Pclass 1 and Pclass 2 Passengers.\n",
    "\n",
    "3) The Embarked S looks to the port from where majority of the rich people boarded. Still the chances for survival is low here, that is because many passengers from Pclass3 around 81% didn't survive\n",
    "\n",
    "4) Port Q has almost 95% or the were from Pclass 3."
   ]
  },
  {
   "cell_type": "code",
   "execution_count": 150,
   "metadata": {},
   "outputs": [
    {
     "data": {
      "text/plain": [
       "<seaborn.axisgrid.FacetGrid at 0x22763680f88>"
      ]
     },
     "execution_count": 150,
     "metadata": {},
     "output_type": "execute_result"
    },
    {
     "data": {
      "image/png": "[encoded data removed]",
      "text/plain": [
       "<Figure size 1150.5x360 with 3 Axes>"
      ]
     },
     "metadata": {
      "needs_background": "light"
     },
     "output_type": "display_data"
    }
   ],
   "source": [
    "sns.factorplot('Pclass', 'Survived', hue='Sex', col='Embarked', data=data)"
   ]
  },
  {
   "cell_type": "markdown",
   "metadata": {},
   "source": [
    "**Observations:**<br>\n",
    "1) The survival chances are almost 1 for women for Pclass 1 and Pclass2 irrespective of the Class<br>\n",
    "2) Port S, looks to be very unlucky for Pclass3 Passengers as the survival rate for both men and women is very low.(Money Matter)<br>\n",
    "3) Port Q looks to be unlukiest for Men, as almost all were from Pclass 3."
   ]
  },
  {
   "cell_type": "markdown",
   "metadata": {},
   "source": [
    "---\n",
    "\n",
    "Let's get it started!!😎 20.05.20. am 00:12\n",
    "\n",
    "---"
   ]
  },
  {
   "cell_type": "markdown",
   "metadata": {},
   "source": [
    "### Filling Embarked NaN"
   ]
  },
  {
   "cell_type": "markdown",
   "metadata": {},
   "source": [
    "as we saw that maximum passengers boared from Port S, we replace NaA with S.<br>\n",
    "\n",
    "많은 승객들이 S포트에서 탑승하기 때문에 NaN값을 S로 채워주자"
   ]
  },
  {
   "cell_type": "code",
   "execution_count": 153,
   "metadata": {},
   "outputs": [
    {
     "data": {
      "text/plain": [
       "<matplotlib.axes._subplots.AxesSubplot at 0x227636f5488>"
      ]
     },
     "execution_count": 153,
     "metadata": {},
     "output_type": "execute_result"
    },
    {
     "data": {
      "image/png": "[encoded data removed]",
      "text/plain": [
       "<Figure size 432x288 with 1 Axes>"
      ]
     },
     "metadata": {
      "needs_background": "light"
     },
     "output_type": "display_data"
    }
   ],
   "source": [
    "data.Embarked.value_counts().plot.bar()"
   ]
  },
  {
   "cell_type": "code",
   "execution_count": 156,
   "metadata": {},
   "outputs": [
    {
     "data": {
      "text/plain": [
       "2"
      ]
     },
     "execution_count": 156,
     "metadata": {},
     "output_type": "execute_result"
    }
   ],
   "source": [
    "data['Embarked'].isnull().sum()"
   ]
  },
  {
   "cell_type": "code",
   "execution_count": 157,
   "metadata": {},
   "outputs": [],
   "source": [
    "data['Embarked'].fillna('S', inplace=True)"
   ]
  },
  {
   "cell_type": "code",
   "execution_count": 158,
   "metadata": {},
   "outputs": [
    {
     "data": {
      "text/plain": [
       "False"
      ]
     },
     "execution_count": 158,
     "metadata": {},
     "output_type": "execute_result"
    }
   ],
   "source": [
    "data.Embarked.isnull().any()  # Finally No NaN value?"
   ]
  },
  {
   "cell_type": "markdown",
   "metadata": {},
   "source": [
    "### Discrete Feature<br>\n",
    "* SibSip"
   ]
  },
  {
   "cell_type": "code",
   "execution_count": 159,
   "metadata": {},
   "outputs": [
    {
     "data": {
      "text/plain": [
       "0    608\n",
       "1    209\n",
       "2     28\n",
       "4     18\n",
       "3     16\n",
       "8      7\n",
       "5      5\n",
       "Name: SibSp, dtype: int64"
      ]
     },
     "execution_count": 159,
     "metadata": {},
     "output_type": "execute_result"
    }
   ],
   "source": [
    "data['SibSp'].value_counts()"
   ]
  },
  {
   "cell_type": "code",
   "execution_count": 160,
   "metadata": {},
   "outputs": [
    {
     "data": {
      "text/html": [
       "<style  type=\"text/css\" >\n",
       "    #T_d903bac2_99e3_11ea_a71f_309c238131e5row0_col0 {\n",
       "            background-color:  #008066;\n",
       "            color:  #f1f1f1;\n",
       "        }    #T_d903bac2_99e3_11ea_a71f_309c238131e5row0_col1 {\n",
       "            background-color:  #008066;\n",
       "            color:  #f1f1f1;\n",
       "        }    #T_d903bac2_99e3_11ea_a71f_309c238131e5row1_col0 {\n",
       "            background-color:  #c4e266;\n",
       "            color:  #000000;\n",
       "        }    #T_d903bac2_99e3_11ea_a71f_309c238131e5row1_col1 {\n",
       "            background-color:  #77bb66;\n",
       "            color:  #000000;\n",
       "        }    #T_d903bac2_99e3_11ea_a71f_309c238131e5row2_col0 {\n",
       "            background-color:  #f9fc66;\n",
       "            color:  #000000;\n",
       "        }    #T_d903bac2_99e3_11ea_a71f_309c238131e5row2_col1 {\n",
       "            background-color:  #f0f866;\n",
       "            color:  #000000;\n",
       "        }    #T_d903bac2_99e3_11ea_a71f_309c238131e5row3_col0 {\n",
       "            background-color:  #fbfd66;\n",
       "            color:  #000000;\n",
       "        }    #T_d903bac2_99e3_11ea_a71f_309c238131e5row3_col1 {\n",
       "            background-color:  #fbfd66;\n",
       "            color:  #000000;\n",
       "        }    #T_d903bac2_99e3_11ea_a71f_309c238131e5row4_col0 {\n",
       "            background-color:  #f9fc66;\n",
       "            color:  #000000;\n",
       "        }    #T_d903bac2_99e3_11ea_a71f_309c238131e5row4_col1 {\n",
       "            background-color:  #fcfe66;\n",
       "            color:  #000000;\n",
       "        }    #T_d903bac2_99e3_11ea_a71f_309c238131e5row5_col0 {\n",
       "            background-color:  #ffff66;\n",
       "            color:  #000000;\n",
       "        }    #T_d903bac2_99e3_11ea_a71f_309c238131e5row5_col1 {\n",
       "            background-color:  #ffff66;\n",
       "            color:  #000000;\n",
       "        }    #T_d903bac2_99e3_11ea_a71f_309c238131e5row6_col0 {\n",
       "            background-color:  #fefe66;\n",
       "            color:  #000000;\n",
       "        }    #T_d903bac2_99e3_11ea_a71f_309c238131e5row6_col1 {\n",
       "            background-color:  #ffff66;\n",
       "            color:  #000000;\n",
       "        }</style><table id=\"T_d903bac2_99e3_11ea_a71f_309c238131e5\" ><thead>    <tr>        <th class=\"index_name level0\" >Survived</th>        <th class=\"col_heading level0 col0\" >0</th>        <th class=\"col_heading level0 col1\" >1</th>    </tr>    <tr>        <th class=\"index_name level0\" >SibSp</th>        <th class=\"blank\" ></th>        <th class=\"blank\" ></th>    </tr></thead><tbody>\n",
       "                <tr>\n",
       "                        <th id=\"T_d903bac2_99e3_11ea_a71f_309c238131e5level0_row0\" class=\"row_heading level0 row0\" >0</th>\n",
       "                        <td id=\"T_d903bac2_99e3_11ea_a71f_309c238131e5row0_col0\" class=\"data row0 col0\" >398</td>\n",
       "                        <td id=\"T_d903bac2_99e3_11ea_a71f_309c238131e5row0_col1\" class=\"data row0 col1\" >210</td>\n",
       "            </tr>\n",
       "            <tr>\n",
       "                        <th id=\"T_d903bac2_99e3_11ea_a71f_309c238131e5level0_row1\" class=\"row_heading level0 row1\" >1</th>\n",
       "                        <td id=\"T_d903bac2_99e3_11ea_a71f_309c238131e5row1_col0\" class=\"data row1 col0\" >97</td>\n",
       "                        <td id=\"T_d903bac2_99e3_11ea_a71f_309c238131e5row1_col1\" class=\"data row1 col1\" >112</td>\n",
       "            </tr>\n",
       "            <tr>\n",
       "                        <th id=\"T_d903bac2_99e3_11ea_a71f_309c238131e5level0_row2\" class=\"row_heading level0 row2\" >2</th>\n",
       "                        <td id=\"T_d903bac2_99e3_11ea_a71f_309c238131e5row2_col0\" class=\"data row2 col0\" >15</td>\n",
       "                        <td id=\"T_d903bac2_99e3_11ea_a71f_309c238131e5row2_col1\" class=\"data row2 col1\" >13</td>\n",
       "            </tr>\n",
       "            <tr>\n",
       "                        <th id=\"T_d903bac2_99e3_11ea_a71f_309c238131e5level0_row3\" class=\"row_heading level0 row3\" >3</th>\n",
       "                        <td id=\"T_d903bac2_99e3_11ea_a71f_309c238131e5row3_col0\" class=\"data row3 col0\" >12</td>\n",
       "                        <td id=\"T_d903bac2_99e3_11ea_a71f_309c238131e5row3_col1\" class=\"data row3 col1\" >4</td>\n",
       "            </tr>\n",
       "            <tr>\n",
       "                        <th id=\"T_d903bac2_99e3_11ea_a71f_309c238131e5level0_row4\" class=\"row_heading level0 row4\" >4</th>\n",
       "                        <td id=\"T_d903bac2_99e3_11ea_a71f_309c238131e5row4_col0\" class=\"data row4 col0\" >15</td>\n",
       "                        <td id=\"T_d903bac2_99e3_11ea_a71f_309c238131e5row4_col1\" class=\"data row4 col1\" >3</td>\n",
       "            </tr>\n",
       "            <tr>\n",
       "                        <th id=\"T_d903bac2_99e3_11ea_a71f_309c238131e5level0_row5\" class=\"row_heading level0 row5\" >5</th>\n",
       "                        <td id=\"T_d903bac2_99e3_11ea_a71f_309c238131e5row5_col0\" class=\"data row5 col0\" >5</td>\n",
       "                        <td id=\"T_d903bac2_99e3_11ea_a71f_309c238131e5row5_col1\" class=\"data row5 col1\" >0</td>\n",
       "            </tr>\n",
       "            <tr>\n",
       "                        <th id=\"T_d903bac2_99e3_11ea_a71f_309c238131e5level0_row6\" class=\"row_heading level0 row6\" >8</th>\n",
       "                        <td id=\"T_d903bac2_99e3_11ea_a71f_309c238131e5row6_col0\" class=\"data row6 col0\" >7</td>\n",
       "                        <td id=\"T_d903bac2_99e3_11ea_a71f_309c238131e5row6_col1\" class=\"data row6 col1\" >0</td>\n",
       "            </tr>\n",
       "    </tbody></table>"
      ],
      "text/plain": [
       "<pandas.io.formats.style.Styler at 0x227537d5dc8>"
      ]
     },
     "execution_count": 160,
     "metadata": {},
     "output_type": "execute_result"
    }
   ],
   "source": [
    "pd.crosstab([data.SibSp], data.Survived).style.background_gradient(cmap='summer_r')"
   ]
  },
  {
   "cell_type": "code",
   "execution_count": 164,
   "metadata": {},
   "outputs": [
    {
     "data": {
      "image/png": "[encoded data removed]",
      "text/plain": [
       "<Figure size 1440x576 with 2 Axes>"
      ]
     },
     "metadata": {
      "needs_background": "light"
     },
     "output_type": "display_data"
    }
   ],
   "source": [
    "f, ax = plt.subplots(1, 2, figsize=(20, 8))\n",
    "sns.barplot('SibSp', 'Survived', data=data, ax=ax[0])\n",
    "ax[0].set_title('SibSp vs Survived')\n",
    "sns.factorplot('SibSp', 'Survived', data=data, ax=ax[1])\n",
    "plt.close(2)\n",
    "plt.show()"
   ]
  },
  {
   "cell_type": "markdown",
   "metadata": {},
   "source": [
    "**Observations:**<br>\n",
    "* The barplot and factorplot shows that if a passenger is alone on board with no siblings, he have 34.5% survival rate.\n",
    "* The graph roughly decrease if the number of siblins increase. This make sense\n",
    "    * That is, If I have a family on board, I will try to save them instead of saving myself first.\n",
    "* Surprisingly the survival for families with 5-8 members is 0%. The reason may be Pclass?"
   ]
  },
  {
   "cell_type": "code",
   "execution_count": 167,
   "metadata": {},
   "outputs": [
    {
     "data": {
      "text/html": [
       "<style  type=\"text/css\" >\n",
       "    #T_4cb43550_99e5_11ea_bc62_309c238131e5row0_col0 {\n",
       "            background-color:  #008066;\n",
       "            color:  #f1f1f1;\n",
       "        }    #T_4cb43550_99e5_11ea_bc62_309c238131e5row0_col1 {\n",
       "            background-color:  #008066;\n",
       "            color:  #f1f1f1;\n",
       "        }    #T_4cb43550_99e5_11ea_bc62_309c238131e5row0_col2 {\n",
       "            background-color:  #008066;\n",
       "            color:  #f1f1f1;\n",
       "        }    #T_4cb43550_99e5_11ea_bc62_309c238131e5row1_col0 {\n",
       "            background-color:  #7bbd66;\n",
       "            color:  #000000;\n",
       "        }    #T_4cb43550_99e5_11ea_bc62_309c238131e5row1_col1 {\n",
       "            background-color:  #8ac466;\n",
       "            color:  #000000;\n",
       "        }    #T_4cb43550_99e5_11ea_bc62_309c238131e5row1_col2 {\n",
       "            background-color:  #c6e266;\n",
       "            color:  #000000;\n",
       "        }    #T_4cb43550_99e5_11ea_bc62_309c238131e5row2_col0 {\n",
       "            background-color:  #f6fa66;\n",
       "            color:  #000000;\n",
       "        }    #T_4cb43550_99e5_11ea_bc62_309c238131e5row2_col1 {\n",
       "            background-color:  #eef666;\n",
       "            color:  #000000;\n",
       "        }    #T_4cb43550_99e5_11ea_bc62_309c238131e5row2_col2 {\n",
       "            background-color:  #f8fc66;\n",
       "            color:  #000000;\n",
       "        }    #T_4cb43550_99e5_11ea_bc62_309c238131e5row3_col0 {\n",
       "            background-color:  #fafc66;\n",
       "            color:  #000000;\n",
       "        }    #T_4cb43550_99e5_11ea_bc62_309c238131e5row3_col1 {\n",
       "            background-color:  #fdfe66;\n",
       "            color:  #000000;\n",
       "        }    #T_4cb43550_99e5_11ea_bc62_309c238131e5row3_col2 {\n",
       "            background-color:  #fafc66;\n",
       "            color:  #000000;\n",
       "        }    #T_4cb43550_99e5_11ea_bc62_309c238131e5row4_col0 {\n",
       "            background-color:  #ffff66;\n",
       "            color:  #000000;\n",
       "        }    #T_4cb43550_99e5_11ea_bc62_309c238131e5row4_col1 {\n",
       "            background-color:  #ffff66;\n",
       "            color:  #000000;\n",
       "        }    #T_4cb43550_99e5_11ea_bc62_309c238131e5row4_col2 {\n",
       "            background-color:  #f6fa66;\n",
       "            color:  #000000;\n",
       "        }    #T_4cb43550_99e5_11ea_bc62_309c238131e5row5_col0 {\n",
       "            background-color:  #ffff66;\n",
       "            color:  #000000;\n",
       "        }    #T_4cb43550_99e5_11ea_bc62_309c238131e5row5_col1 {\n",
       "            background-color:  #ffff66;\n",
       "            color:  #000000;\n",
       "        }    #T_4cb43550_99e5_11ea_bc62_309c238131e5row5_col2 {\n",
       "            background-color:  #ffff66;\n",
       "            color:  #000000;\n",
       "        }    #T_4cb43550_99e5_11ea_bc62_309c238131e5row6_col0 {\n",
       "            background-color:  #ffff66;\n",
       "            color:  #000000;\n",
       "        }    #T_4cb43550_99e5_11ea_bc62_309c238131e5row6_col1 {\n",
       "            background-color:  #ffff66;\n",
       "            color:  #000000;\n",
       "        }    #T_4cb43550_99e5_11ea_bc62_309c238131e5row6_col2 {\n",
       "            background-color:  #fefe66;\n",
       "            color:  #000000;\n",
       "        }</style><table id=\"T_4cb43550_99e5_11ea_bc62_309c238131e5\" ><thead>    <tr>        <th class=\"index_name level0\" >Pclass</th>        <th class=\"col_heading level0 col0\" >1</th>        <th class=\"col_heading level0 col1\" >2</th>        <th class=\"col_heading level0 col2\" >3</th>    </tr>    <tr>        <th class=\"index_name level0\" >SibSp</th>        <th class=\"blank\" ></th>        <th class=\"blank\" ></th>        <th class=\"blank\" ></th>    </tr></thead><tbody>\n",
       "                <tr>\n",
       "                        <th id=\"T_4cb43550_99e5_11ea_bc62_309c238131e5level0_row0\" class=\"row_heading level0 row0\" >0</th>\n",
       "                        <td id=\"T_4cb43550_99e5_11ea_bc62_309c238131e5row0_col0\" class=\"data row0 col0\" >137</td>\n",
       "                        <td id=\"T_4cb43550_99e5_11ea_bc62_309c238131e5row0_col1\" class=\"data row0 col1\" >120</td>\n",
       "                        <td id=\"T_4cb43550_99e5_11ea_bc62_309c238131e5row0_col2\" class=\"data row0 col2\" >351</td>\n",
       "            </tr>\n",
       "            <tr>\n",
       "                        <th id=\"T_4cb43550_99e5_11ea_bc62_309c238131e5level0_row1\" class=\"row_heading level0 row1\" >1</th>\n",
       "                        <td id=\"T_4cb43550_99e5_11ea_bc62_309c238131e5row1_col0\" class=\"data row1 col0\" >71</td>\n",
       "                        <td id=\"T_4cb43550_99e5_11ea_bc62_309c238131e5row1_col1\" class=\"data row1 col1\" >55</td>\n",
       "                        <td id=\"T_4cb43550_99e5_11ea_bc62_309c238131e5row1_col2\" class=\"data row1 col2\" >83</td>\n",
       "            </tr>\n",
       "            <tr>\n",
       "                        <th id=\"T_4cb43550_99e5_11ea_bc62_309c238131e5level0_row2\" class=\"row_heading level0 row2\" >2</th>\n",
       "                        <td id=\"T_4cb43550_99e5_11ea_bc62_309c238131e5row2_col0\" class=\"data row2 col0\" >5</td>\n",
       "                        <td id=\"T_4cb43550_99e5_11ea_bc62_309c238131e5row2_col1\" class=\"data row2 col1\" >8</td>\n",
       "                        <td id=\"T_4cb43550_99e5_11ea_bc62_309c238131e5row2_col2\" class=\"data row2 col2\" >15</td>\n",
       "            </tr>\n",
       "            <tr>\n",
       "                        <th id=\"T_4cb43550_99e5_11ea_bc62_309c238131e5level0_row3\" class=\"row_heading level0 row3\" >3</th>\n",
       "                        <td id=\"T_4cb43550_99e5_11ea_bc62_309c238131e5row3_col0\" class=\"data row3 col0\" >3</td>\n",
       "                        <td id=\"T_4cb43550_99e5_11ea_bc62_309c238131e5row3_col1\" class=\"data row3 col1\" >1</td>\n",
       "                        <td id=\"T_4cb43550_99e5_11ea_bc62_309c238131e5row3_col2\" class=\"data row3 col2\" >12</td>\n",
       "            </tr>\n",
       "            <tr>\n",
       "                        <th id=\"T_4cb43550_99e5_11ea_bc62_309c238131e5level0_row4\" class=\"row_heading level0 row4\" >4</th>\n",
       "                        <td id=\"T_4cb43550_99e5_11ea_bc62_309c238131e5row4_col0\" class=\"data row4 col0\" >0</td>\n",
       "                        <td id=\"T_4cb43550_99e5_11ea_bc62_309c238131e5row4_col1\" class=\"data row4 col1\" >0</td>\n",
       "                        <td id=\"T_4cb43550_99e5_11ea_bc62_309c238131e5row4_col2\" class=\"data row4 col2\" >18</td>\n",
       "            </tr>\n",
       "            <tr>\n",
       "                        <th id=\"T_4cb43550_99e5_11ea_bc62_309c238131e5level0_row5\" class=\"row_heading level0 row5\" >5</th>\n",
       "                        <td id=\"T_4cb43550_99e5_11ea_bc62_309c238131e5row5_col0\" class=\"data row5 col0\" >0</td>\n",
       "                        <td id=\"T_4cb43550_99e5_11ea_bc62_309c238131e5row5_col1\" class=\"data row5 col1\" >0</td>\n",
       "                        <td id=\"T_4cb43550_99e5_11ea_bc62_309c238131e5row5_col2\" class=\"data row5 col2\" >5</td>\n",
       "            </tr>\n",
       "            <tr>\n",
       "                        <th id=\"T_4cb43550_99e5_11ea_bc62_309c238131e5level0_row6\" class=\"row_heading level0 row6\" >8</th>\n",
       "                        <td id=\"T_4cb43550_99e5_11ea_bc62_309c238131e5row6_col0\" class=\"data row6 col0\" >0</td>\n",
       "                        <td id=\"T_4cb43550_99e5_11ea_bc62_309c238131e5row6_col1\" class=\"data row6 col1\" >0</td>\n",
       "                        <td id=\"T_4cb43550_99e5_11ea_bc62_309c238131e5row6_col2\" class=\"data row6 col2\" >7</td>\n",
       "            </tr>\n",
       "    </tbody></table>"
      ],
      "text/plain": [
       "<pandas.io.formats.style.Styler at 0x22753de01c8>"
      ]
     },
     "execution_count": 167,
     "metadata": {},
     "output_type": "execute_result"
    }
   ],
   "source": [
    "pd.crosstab(data.SibSp, data.Pclass).style.background_gradient(cmap='summer_r')"
   ]
  },
  {
   "cell_type": "markdown",
   "metadata": {},
   "source": [
    "The reason is <code>Pclass</code>. The crosstab shows that Person with SibSp>3 were all in Pclass3.<br>\n",
    "It is imminent that all the large families in Pclass 3(>3) died."
   ]
  },
  {
   "cell_type": "markdown",
   "metadata": {},
   "source": [
    "### Parch\n",
    "* Parch: # of parents/children on Titanic"
   ]
  },
  {
   "cell_type": "code",
   "execution_count": 168,
   "metadata": {},
   "outputs": [
    {
     "data": {
      "text/html": [
       "<style  type=\"text/css\" >\n",
       "    #T_b3fd9fa4_99e5_11ea_9f63_309c238131e5row0_col0 {\n",
       "            background-color:  #008066;\n",
       "            color:  #f1f1f1;\n",
       "        }    #T_b3fd9fa4_99e5_11ea_9f63_309c238131e5row0_col1 {\n",
       "            background-color:  #008066;\n",
       "            color:  #f1f1f1;\n",
       "        }    #T_b3fd9fa4_99e5_11ea_9f63_309c238131e5row0_col2 {\n",
       "            background-color:  #008066;\n",
       "            color:  #f1f1f1;\n",
       "        }    #T_b3fd9fa4_99e5_11ea_9f63_309c238131e5row1_col0 {\n",
       "            background-color:  #cfe766;\n",
       "            color:  #000000;\n",
       "        }    #T_b3fd9fa4_99e5_11ea_9f63_309c238131e5row1_col1 {\n",
       "            background-color:  #c2e066;\n",
       "            color:  #000000;\n",
       "        }    #T_b3fd9fa4_99e5_11ea_9f63_309c238131e5row1_col2 {\n",
       "            background-color:  #dbed66;\n",
       "            color:  #000000;\n",
       "        }    #T_b3fd9fa4_99e5_11ea_9f63_309c238131e5row2_col0 {\n",
       "            background-color:  #dfef66;\n",
       "            color:  #000000;\n",
       "        }    #T_b3fd9fa4_99e5_11ea_9f63_309c238131e5row2_col1 {\n",
       "            background-color:  #e1f066;\n",
       "            color:  #000000;\n",
       "        }    #T_b3fd9fa4_99e5_11ea_9f63_309c238131e5row2_col2 {\n",
       "            background-color:  #e3f166;\n",
       "            color:  #000000;\n",
       "        }    #T_b3fd9fa4_99e5_11ea_9f63_309c238131e5row3_col0 {\n",
       "            background-color:  #ffff66;\n",
       "            color:  #000000;\n",
       "        }    #T_b3fd9fa4_99e5_11ea_9f63_309c238131e5row3_col1 {\n",
       "            background-color:  #fcfe66;\n",
       "            color:  #000000;\n",
       "        }    #T_b3fd9fa4_99e5_11ea_9f63_309c238131e5row3_col2 {\n",
       "            background-color:  #fefe66;\n",
       "            color:  #000000;\n",
       "        }    #T_b3fd9fa4_99e5_11ea_9f63_309c238131e5row4_col0 {\n",
       "            background-color:  #fefe66;\n",
       "            color:  #000000;\n",
       "        }    #T_b3fd9fa4_99e5_11ea_9f63_309c238131e5row4_col1 {\n",
       "            background-color:  #ffff66;\n",
       "            color:  #000000;\n",
       "        }    #T_b3fd9fa4_99e5_11ea_9f63_309c238131e5row4_col2 {\n",
       "            background-color:  #fefe66;\n",
       "            color:  #000000;\n",
       "        }    #T_b3fd9fa4_99e5_11ea_9f63_309c238131e5row5_col0 {\n",
       "            background-color:  #ffff66;\n",
       "            color:  #000000;\n",
       "        }    #T_b3fd9fa4_99e5_11ea_9f63_309c238131e5row5_col1 {\n",
       "            background-color:  #ffff66;\n",
       "            color:  #000000;\n",
       "        }    #T_b3fd9fa4_99e5_11ea_9f63_309c238131e5row5_col2 {\n",
       "            background-color:  #fdfe66;\n",
       "            color:  #000000;\n",
       "        }    #T_b3fd9fa4_99e5_11ea_9f63_309c238131e5row6_col0 {\n",
       "            background-color:  #ffff66;\n",
       "            color:  #000000;\n",
       "        }    #T_b3fd9fa4_99e5_11ea_9f63_309c238131e5row6_col1 {\n",
       "            background-color:  #ffff66;\n",
       "            color:  #000000;\n",
       "        }    #T_b3fd9fa4_99e5_11ea_9f63_309c238131e5row6_col2 {\n",
       "            background-color:  #ffff66;\n",
       "            color:  #000000;\n",
       "        }</style><table id=\"T_b3fd9fa4_99e5_11ea_9f63_309c238131e5\" ><thead>    <tr>        <th class=\"index_name level0\" >Pclass</th>        <th class=\"col_heading level0 col0\" >1</th>        <th class=\"col_heading level0 col1\" >2</th>        <th class=\"col_heading level0 col2\" >3</th>    </tr>    <tr>        <th class=\"index_name level0\" >Parch</th>        <th class=\"blank\" ></th>        <th class=\"blank\" ></th>        <th class=\"blank\" ></th>    </tr></thead><tbody>\n",
       "                <tr>\n",
       "                        <th id=\"T_b3fd9fa4_99e5_11ea_9f63_309c238131e5level0_row0\" class=\"row_heading level0 row0\" >0</th>\n",
       "                        <td id=\"T_b3fd9fa4_99e5_11ea_9f63_309c238131e5row0_col0\" class=\"data row0 col0\" >163</td>\n",
       "                        <td id=\"T_b3fd9fa4_99e5_11ea_9f63_309c238131e5row0_col1\" class=\"data row0 col1\" >134</td>\n",
       "                        <td id=\"T_b3fd9fa4_99e5_11ea_9f63_309c238131e5row0_col2\" class=\"data row0 col2\" >381</td>\n",
       "            </tr>\n",
       "            <tr>\n",
       "                        <th id=\"T_b3fd9fa4_99e5_11ea_9f63_309c238131e5level0_row1\" class=\"row_heading level0 row1\" >1</th>\n",
       "                        <td id=\"T_b3fd9fa4_99e5_11ea_9f63_309c238131e5row1_col0\" class=\"data row1 col0\" >31</td>\n",
       "                        <td id=\"T_b3fd9fa4_99e5_11ea_9f63_309c238131e5row1_col1\" class=\"data row1 col1\" >32</td>\n",
       "                        <td id=\"T_b3fd9fa4_99e5_11ea_9f63_309c238131e5row1_col2\" class=\"data row1 col2\" >55</td>\n",
       "            </tr>\n",
       "            <tr>\n",
       "                        <th id=\"T_b3fd9fa4_99e5_11ea_9f63_309c238131e5level0_row2\" class=\"row_heading level0 row2\" >2</th>\n",
       "                        <td id=\"T_b3fd9fa4_99e5_11ea_9f63_309c238131e5row2_col0\" class=\"data row2 col0\" >21</td>\n",
       "                        <td id=\"T_b3fd9fa4_99e5_11ea_9f63_309c238131e5row2_col1\" class=\"data row2 col1\" >16</td>\n",
       "                        <td id=\"T_b3fd9fa4_99e5_11ea_9f63_309c238131e5row2_col2\" class=\"data row2 col2\" >43</td>\n",
       "            </tr>\n",
       "            <tr>\n",
       "                        <th id=\"T_b3fd9fa4_99e5_11ea_9f63_309c238131e5level0_row3\" class=\"row_heading level0 row3\" >3</th>\n",
       "                        <td id=\"T_b3fd9fa4_99e5_11ea_9f63_309c238131e5row3_col0\" class=\"data row3 col0\" >0</td>\n",
       "                        <td id=\"T_b3fd9fa4_99e5_11ea_9f63_309c238131e5row3_col1\" class=\"data row3 col1\" >2</td>\n",
       "                        <td id=\"T_b3fd9fa4_99e5_11ea_9f63_309c238131e5row3_col2\" class=\"data row3 col2\" >3</td>\n",
       "            </tr>\n",
       "            <tr>\n",
       "                        <th id=\"T_b3fd9fa4_99e5_11ea_9f63_309c238131e5level0_row4\" class=\"row_heading level0 row4\" >4</th>\n",
       "                        <td id=\"T_b3fd9fa4_99e5_11ea_9f63_309c238131e5row4_col0\" class=\"data row4 col0\" >1</td>\n",
       "                        <td id=\"T_b3fd9fa4_99e5_11ea_9f63_309c238131e5row4_col1\" class=\"data row4 col1\" >0</td>\n",
       "                        <td id=\"T_b3fd9fa4_99e5_11ea_9f63_309c238131e5row4_col2\" class=\"data row4 col2\" >3</td>\n",
       "            </tr>\n",
       "            <tr>\n",
       "                        <th id=\"T_b3fd9fa4_99e5_11ea_9f63_309c238131e5level0_row5\" class=\"row_heading level0 row5\" >5</th>\n",
       "                        <td id=\"T_b3fd9fa4_99e5_11ea_9f63_309c238131e5row5_col0\" class=\"data row5 col0\" >0</td>\n",
       "                        <td id=\"T_b3fd9fa4_99e5_11ea_9f63_309c238131e5row5_col1\" class=\"data row5 col1\" >0</td>\n",
       "                        <td id=\"T_b3fd9fa4_99e5_11ea_9f63_309c238131e5row5_col2\" class=\"data row5 col2\" >5</td>\n",
       "            </tr>\n",
       "            <tr>\n",
       "                        <th id=\"T_b3fd9fa4_99e5_11ea_9f63_309c238131e5level0_row6\" class=\"row_heading level0 row6\" >6</th>\n",
       "                        <td id=\"T_b3fd9fa4_99e5_11ea_9f63_309c238131e5row6_col0\" class=\"data row6 col0\" >0</td>\n",
       "                        <td id=\"T_b3fd9fa4_99e5_11ea_9f63_309c238131e5row6_col1\" class=\"data row6 col1\" >0</td>\n",
       "                        <td id=\"T_b3fd9fa4_99e5_11ea_9f63_309c238131e5row6_col2\" class=\"data row6 col2\" >1</td>\n",
       "            </tr>\n",
       "    </tbody></table>"
      ],
      "text/plain": [
       "<pandas.io.formats.style.Styler at 0x22756c26a48>"
      ]
     },
     "execution_count": 168,
     "metadata": {},
     "output_type": "execute_result"
    }
   ],
   "source": [
    "pd.crosstab(data.Parch, data.Pclass).style.background_gradient(cmap='summer_r')"
   ]
  },
  {
   "cell_type": "code",
   "execution_count": 171,
   "metadata": {},
   "outputs": [
    {
     "data": {
      "image/png": "[encoded data removed]",
      "text/plain": [
       "<Figure size 1296x576 with 2 Axes>"
      ]
     },
     "metadata": {
      "needs_background": "light"
     },
     "output_type": "display_data"
    }
   ],
   "source": [
    "f, ax = plt.subplots(1, 2, figsize=(18, 8))\n",
    "sns.barplot('Parch', 'Survived', data=data, ax=ax[0])\n",
    "ax[0].set_title('Parch vs Survived')\n",
    "sns.factorplot('Parch', 'Survived', data=data, ax=ax[1])\n",
    "ax[1].set_title('Parch vs Survived')\n",
    "plt.close(2)\n",
    "plt.show()"
   ]
  },
  {
   "cell_type": "markdown",
   "metadata": {},
   "source": [
    "**Observations**<br>\n",
    "* Here too the results are quite similar\n",
    "* Passengers with their parents onboard have greater chance of survival. It however reduces as the number goes up.\n",
    "* The chances of survival is good for sombody has 1-3 parents on the ship.\n",
    "* Being alone also proves to be fatal and the chances for survival decreases when somebody has > 4 parents on the ship."
   ]
  },
  {
   "cell_type": "markdown",
   "metadata": {},
   "source": [
    "### Continous Feature\n",
    "* Fare"
   ]
  },
  {
   "cell_type": "code",
   "execution_count": 172,
   "metadata": {},
   "outputs": [
    {
     "name": "stdout",
     "output_type": "stream",
     "text": [
      "Highest Fare was:  512.3292\n",
      "Lowest Fare was:  0.0\n",
      "Average Fare was:  32.2042079685746\n"
     ]
    }
   ],
   "source": [
    "print('Highest Fare was: ', data['Fare'].max())\n",
    "print('Lowest Fare was: ', data['Fare'].min())\n",
    "print('Average Fare was: ', data['Fare'].mean())"
   ]
  },
  {
   "cell_type": "markdown",
   "metadata": {},
   "source": [
    "The lowest fare is 0.0. "
   ]
  },
  {
   "cell_type": "code",
   "execution_count": 181,
   "metadata": {},
   "outputs": [
    {
     "data": {
      "text/plain": [
       "\"\\nsns.distplot(data[data['Pclass']==1].Fare, ax=ax[3])\\nsns.distplot(data[data.Pclass==2].Fare, ax=ax[3])\\nsns.distplot(data[data.Pclass==3].Fare, ax=ax[3])\\nax[3].set_title('Fare in Pclass 4')\\n\""
      ]
     },
     "execution_count": 181,
     "metadata": {},
     "output_type": "execute_result"
    },
    {
     "data": {
      "image/png": "[encoded data removed]",
      "text/plain": [
       "<Figure size 1440x576 with 3 Axes>"
      ]
     },
     "metadata": {
      "needs_background": "light"
     },
     "output_type": "display_data"
    }
   ],
   "source": [
    "f, ax = plt.subplots(1, 3, figsize=(20, 8))\n",
    "sns.distplot(data[data['Pclass']==1].Fare, ax=ax[0])\n",
    "ax[0].set_title('Fare in Pclass 1')\n",
    "sns.distplot(data[data.Pclass==2].Fare, ax=ax[1])\n",
    "ax[1].set_title('Fare in Pclass 2')\n",
    "sns.distplot(data[data.Pclass==3].Fare, ax=ax[2])\n",
    "ax[2].set_title('Fare in Pclass 3')\n",
    "\n",
    "'''\n",
    "sns.distplot(data[data['Pclass']==1].Fare, ax=ax[3])\n",
    "sns.distplot(data[data.Pclass==2].Fare, ax=ax[3])\n",
    "sns.distplot(data[data.Pclass==3].Fare, ax=ax[3])\n",
    "ax[3].set_title('Fare in Pclass 4')\n",
    "'''"
   ]
  },
  {
   "cell_type": "markdown",
   "metadata": {},
   "source": [
    "**Observations**:<br>\n",
    "* There looks to be a large distribution in the fares of Passengers in Pclass1 and this distribution goes on decreasing as the standards reduces.\n",
    "* As this is also continous, we can convert into discrete values by using binning."
   ]
  },
  {
   "cell_type": "markdown",
   "metadata": {},
   "source": [
    "*위의 도표를 해석하는 방법을 익혀보도록 하자...!* -20.05.20.wed.am00:52 <br>\n",
    "*What is Univariate distributions??*"
   ]
  },
  {
   "cell_type": "markdown",
   "metadata": {},
   "source": [
    "## Observations in a Nutshell for all features:\n",
    "* Sex: The chance of survival for women is high as compared to men\n",
    "* Pclass: There is a visible trend that being 1st class passenger gives you better chances of survival.\n",
    "    * The survival rate for Pclass3 is very low.\n",
    "    * For women, the chance of survival from Pclass1 is almost 1 and is high too for those from Pclass2(Money Powers...)\n",
    "* Age: Children less then 5-10 years do have a high chance of survival\n",
    "    * Passengers between age group 15 to 35 died a lot.\n",
    "* Embarked: This is a very interesting feature.\n",
    "    * The chances of survival a t C looks to be better than even though the majority of Pclass1 Passengers got up at S.<br>\n",
    "    * Passengers at Q were all from Pclass3.\n",
    "* Parch+SibSp: Having 1-2 siblings, spouse on board or 1-3 Parents shows a greater chance of probability rather than being alone or having a large family travelling with you"
   ]
  },
  {
   "cell_type": "markdown",
   "metadata": {},
   "source": [
    "### Correlation Between The Features"
   ]
  },
  {
   "cell_type": "code",
   "execution_count": 189,
   "metadata": {},
   "outputs": [
    {
     "data": {
      "image/png": "[encoded data removed]",
      "text/plain": [
       "<Figure size 576x576 with 2 Axes>"
      ]
     },
     "metadata": {
      "needs_background": "light"
     },
     "output_type": "display_data"
    }
   ],
   "source": [
    "sns.heatmap(data.corr(),annot=True,cmap='RdYlGn',linewidths=0.2) #data.corr()-->correlation matrix\n",
    "fig=plt.gcf()\n",
    "fig.set_size_inches(8,8)\n",
    "plt.show()"
   ]
  },
  {
   "cell_type": "markdown",
   "metadata": {},
   "source": [
    "**Interpreting The Heatmap**<br>\n",
    "* The first thing to note is that only the numerical features are compared it is obvious that we cannot correlate between alphabets or strings.\n",
    "* before understanding the plot, lets see what exactly correlation is.\n",
    "\n",
    "oh....god...!😊"
   ]
  },
  {
   "cell_type": "markdown",
   "metadata": {},
   "source": [
    "### What Correlation is??"
   ]
  },
  {
   "cell_type": "markdown",
   "metadata": {},
   "source": [
    "* Positive Correlation:\n",
    "    * If an increase in feature A lead to increase in feature B, then they are positively correlated.(Positive correlation)\n",
    "    * A value 1 mean perfect positive correlation\n",
    "* Negative Correlation:\n",
    "    * If an increase in feature A lead to decrease in feature B, then they are negatively correlated.\n",
    "    * A value -1 mean perfect negative correlation\n",
    "    \n",
    "    "
   ]
  },
  {
   "cell_type": "markdown",
   "metadata": {},
   "source": [
    "<code>MultiColinearity</code>"
   ]
  },
  {
   "cell_type": "markdown",
   "metadata": {},
   "source": [
    "Now lets say that two features are highly or perfectly correlated, so the increase in one leads to increase in the other. This means that both the features are containing highly similar information and there is very little or no variance in information. This is known as <code>MultiColinearity</code> as both of them contains almost the same information."
   ]
  },
  {
   "cell_type": "markdown",
   "metadata": {},
   "source": [
    "<code>redundant features</code>"
   ]
  },
  {
   "cell_type": "markdown",
   "metadata": {},
   "source": [
    "So do you think we should use both of them as one of them is redundant. While making or training models, we should try to eliminate <code>redundant features</code> as it reduces training time and many such advantages."
   ]
  },
  {
   "cell_type": "markdown",
   "metadata": {},
   "source": [
    "Now from the above heatmap,we can see that the features are not much correlated. The highest correlation is between SibSp and Parch i.e 0.41. \n",
    "\n",
    "So we can carry on with all features."
   ]
  },
  {
   "cell_type": "markdown",
   "metadata": {},
   "source": [
    "<code>correlation</code>을 살펴보면 대부분의 feature들이 강한 상관관계를 가지고 있지 않다는 것을 알 수 있다. 가장 강한 correlation은 SibSp과 Parch의 0.41이다.<br>\n",
    "따라서 우리는 모든 feature를 사용할 수 있다."
   ]
  },
  {
   "cell_type": "markdown",
   "metadata": {},
   "source": [
    "---\n",
    "\n",
    "여기서부터는 Part2. Feature Engineering 및 Data Cleaning 영역입니다...!!\n",
    "\n",
    "---"
   ]
  },
  {
   "cell_type": "code",
   "execution_count": null,
   "metadata": {},
   "outputs": [],
   "source": []
  },
  {
   "cell_type": "code",
   "execution_count": null,
   "metadata": {},
   "outputs": [],
   "source": []
  },
  {
   "cell_type": "markdown",
   "metadata": {},
   "source": [
    "## Appendix\n",
    "\n",
    "### Notebook을 공부하면서 정리하는 기본 개념들"
   ]
  },
  {
   "cell_type": "markdown",
   "metadata": {},
   "source": [
    "* 정말 기본적인 것부터 시작 하고 싶다면 Pandas Tutorial을 한 번 제대로 공부하고 올 필요가 있다고 생각한다(매우 강한 긍정😀) -20.05.19.tue-\n",
    "    * Pandas Tutorial<br>\n",
    "        https://pandas.pydata.org/pandas-docs/stable/getting_started/tutorials.html\n",
    "        "
   ]
  },
  {
   "cell_type": "markdown",
   "metadata": {},
   "source": [
    "1. <code>pandas.DataFrame.count</code>"
   ]
  },
  {
   "cell_type": "markdown",
   "metadata": {},
   "source": [
    "Count non-NA cells for each column or row."
   ]
  },
  {
   "cell_type": "markdown",
   "metadata": {},
   "source": [
    "2. <code>pandas.dataframe.groupby()</code>"
   ]
  },
  {
   "cell_type": "code",
   "execution_count": 28,
   "metadata": {},
   "outputs": [
    {
     "data": {
      "text/html": [
       "<div>\n",
       "<style scoped>\n",
       "    .dataframe tbody tr th:only-of-type {\n",
       "        vertical-align: middle;\n",
       "    }\n",
       "\n",
       "    .dataframe tbody tr th {\n",
       "        vertical-align: top;\n",
       "    }\n",
       "\n",
       "    .dataframe thead th {\n",
       "        text-align: right;\n",
       "    }\n",
       "</style>\n",
       "<table border=\"1\" class=\"dataframe\">\n",
       "  <thead>\n",
       "    <tr style=\"text-align: right;\">\n",
       "      <th></th>\n",
       "      <th>PassengerId</th>\n",
       "      <th>Survived</th>\n",
       "      <th>Pclass</th>\n",
       "      <th>Name</th>\n",
       "      <th>Age</th>\n",
       "      <th>SibSp</th>\n",
       "      <th>Parch</th>\n",
       "      <th>Ticket</th>\n",
       "      <th>Fare</th>\n",
       "      <th>Cabin</th>\n",
       "      <th>Embarked</th>\n",
       "    </tr>\n",
       "    <tr>\n",
       "      <th>Sex</th>\n",
       "      <th></th>\n",
       "      <th></th>\n",
       "      <th></th>\n",
       "      <th></th>\n",
       "      <th></th>\n",
       "      <th></th>\n",
       "      <th></th>\n",
       "      <th></th>\n",
       "      <th></th>\n",
       "      <th></th>\n",
       "      <th></th>\n",
       "    </tr>\n",
       "  </thead>\n",
       "  <tbody>\n",
       "    <tr>\n",
       "      <th>female</th>\n",
       "      <td>314</td>\n",
       "      <td>314</td>\n",
       "      <td>314</td>\n",
       "      <td>314</td>\n",
       "      <td>261</td>\n",
       "      <td>314</td>\n",
       "      <td>314</td>\n",
       "      <td>314</td>\n",
       "      <td>314</td>\n",
       "      <td>97</td>\n",
       "      <td>312</td>\n",
       "    </tr>\n",
       "    <tr>\n",
       "      <th>male</th>\n",
       "      <td>577</td>\n",
       "      <td>577</td>\n",
       "      <td>577</td>\n",
       "      <td>577</td>\n",
       "      <td>453</td>\n",
       "      <td>577</td>\n",
       "      <td>577</td>\n",
       "      <td>577</td>\n",
       "      <td>577</td>\n",
       "      <td>107</td>\n",
       "      <td>577</td>\n",
       "    </tr>\n",
       "  </tbody>\n",
       "</table>\n",
       "</div>"
      ],
      "text/plain": [
       "        PassengerId  Survived  Pclass  Name  Age  SibSp  Parch  Ticket  Fare  \\\n",
       "Sex                                                                            \n",
       "female          314       314     314   314  261    314    314     314   314   \n",
       "male            577       577     577   577  453    577    577     577   577   \n",
       "\n",
       "        Cabin  Embarked  \n",
       "Sex                      \n",
       "female     97       312  \n",
       "male      107       577  "
      ]
     },
     "execution_count": 28,
     "metadata": {},
     "output_type": "execute_result"
    }
   ],
   "source": [
    "data.groupby('Sex').count()"
   ]
  },
  {
   "cell_type": "code",
   "execution_count": 34,
   "metadata": {},
   "outputs": [
    {
     "ename": "AttributeError",
     "evalue": "'DataFrameGroupBy' object has no attribute 'value_counts'",
     "output_type": "error",
     "traceback": [
      "\u001b[1;31m---------------------------------------------------------------------------\u001b[0m",
      "\u001b[1;31mAttributeError\u001b[0m                            Traceback (most recent call last)",
      "\u001b[1;32m<ipython-input-34-221df2331663>\u001b[0m in \u001b[0;36m<module>\u001b[1;34m\u001b[0m\n\u001b[1;32m----> 1\u001b[1;33m \u001b[0mdata\u001b[0m\u001b[1;33m.\u001b[0m\u001b[0mgroupby\u001b[0m\u001b[1;33m(\u001b[0m\u001b[1;34m'Sex'\u001b[0m\u001b[1;33m)\u001b[0m\u001b[1;33m.\u001b[0m\u001b[0mvalue_counts\u001b[0m\u001b[1;33m(\u001b[0m\u001b[1;33m)\u001b[0m\u001b[1;33m\u001b[0m\u001b[1;33m\u001b[0m\u001b[0m\n\u001b[0m",
      "\u001b[1;32m~\\Anaconda3\\lib\\site-packages\\pandas\\core\\groupby\\groupby.py\u001b[0m in \u001b[0;36m__getattr__\u001b[1;34m(self, attr)\u001b[0m\n\u001b[0;32m    564\u001b[0m \u001b[1;33m\u001b[0m\u001b[0m\n\u001b[0;32m    565\u001b[0m         raise AttributeError(\n\u001b[1;32m--> 566\u001b[1;33m             \u001b[1;34m\"%r object has no attribute %r\"\u001b[0m \u001b[1;33m%\u001b[0m \u001b[1;33m(\u001b[0m\u001b[0mtype\u001b[0m\u001b[1;33m(\u001b[0m\u001b[0mself\u001b[0m\u001b[1;33m)\u001b[0m\u001b[1;33m.\u001b[0m\u001b[0m__name__\u001b[0m\u001b[1;33m,\u001b[0m \u001b[0mattr\u001b[0m\u001b[1;33m)\u001b[0m\u001b[1;33m\u001b[0m\u001b[1;33m\u001b[0m\u001b[0m\n\u001b[0m\u001b[0;32m    567\u001b[0m         )\n\u001b[0;32m    568\u001b[0m \u001b[1;33m\u001b[0m\u001b[0m\n",
      "\u001b[1;31mAttributeError\u001b[0m: 'DataFrameGroupBy' object has no attribute 'value_counts'"
     ]
    }
   ],
   "source": [
    "data.groupby('Sex').value_counts()"
   ]
  },
  {
   "cell_type": "markdown",
   "metadata": {},
   "source": [
    "<code>dataframe.groupby()</code>에는 <code>.value_counts()</code>를 사용할 수 없다."
   ]
  },
  {
   "cell_type": "code",
   "execution_count": 35,
   "metadata": {},
   "outputs": [
    {
     "data": {
      "text/plain": [
       "male      577\n",
       "female    314\n",
       "Name: Sex, dtype: int64"
      ]
     },
     "execution_count": 35,
     "metadata": {},
     "output_type": "execute_result"
    }
   ],
   "source": [
    "data.Sex.value_counts()"
   ]
  },
  {
   "cell_type": "markdown",
   "metadata": {},
   "source": [
    "3. <code>violinplot</code><br>\n",
    "https://seaborn.pydata.org/generated/seaborn.violinplot.html"
   ]
  },
  {
   "cell_type": "markdown",
   "metadata": {},
   "source": [
    "상자 그림과 커널 밀도 추정값의 조합을 그립니다.\n",
    "\n",
    "<code>Violin plot</code>은 box plot 및 whisker plot과 비슷한 역할을 합니다. <code>Violin plot</code>은 정량적 데이터의 분포를 보여줍니다. 하나 또는 그 이상의 범주형 변수의 몇몇 특성들을 통해 분포를 비교할 수 있게 됩니다. \n",
    "\n",
    "모든 플롯 구성 요소가 실제 데이터 포인트에 해당하는 box plot과 달리 <code>Violin plot</code>에는 기본 분포의 커널 밀도 추정(kernel density estimation)이 있습니다.\n",
    "\n",
    "자세한 정보는 <a src=\"https://seaborn.pydata.org/generated/seaborn.violinplot.html\">Document</a>를 참고하시면 좋을 것 같습니다."
   ]
  },
  {
   "cell_type": "markdown",
   "metadata": {},
   "source": [
    "4. <code>Box Plot</code> "
   ]
  },
  {
   "cell_type": "markdown",
   "metadata": {},
   "source": [
    "<참고 - 프로도의 머리속><br>\n",
    "    https://leebaro.tistory.com/entry/%EB%B0%95%EC%8A%A4-%ED%94%8C%EB%A1%AFbox-plot-%EC%84%A4%EB%AA%85"
   ]
  },
  {
   "cell_type": "code",
   "execution_count": 73,
   "metadata": {},
   "outputs": [
    {
     "data": {
      "text/plain": [
       "<matplotlib.axes._subplots.AxesSubplot at 0x229b60714c8>"
      ]
     },
     "execution_count": 73,
     "metadata": {},
     "output_type": "execute_result"
    },
    {
     "data": {
      "image/png": "[encoded data removed]",
      "text/plain": [
       "<Figure size 432x288 with 1 Axes>"
      ]
     },
     "metadata": {},
     "output_type": "display_data"
    }
   ],
   "source": [
    "sns.boxplot('Sex','Age', data=data)"
   ]
  },
  {
   "cell_type": "markdown",
   "metadata": {},
   "source": [
    "* Box plot을 사용하는 이유\n",
    "    * box plot의 목적은 많은 데이터를 눈으로 확인하기 어려울 때, 그림을 이용해 데이터 집합의 범위와 중앙값을 빠르게 확인할 수 있는 목적으로 사용한다. \n",
    "    * 또한 통계적으로 이상치(ourlier)가 있는지도 확인할 수 있다.\n",
    "    * 기술 통계학에서 box plot은 수치적 자료를 표현하는 그래프이다.\n",
    "* Box Plot의 Five number summary\n",
    "    * 1. 최솟값: 제 1사분위에서 1.5 IQR을 뺀 위치이다.\n",
    "    * 2. 제 1사분위(Q1): 25%의 위치를 의미한다.\n",
    "    * 3. 제 2사분위(Q2): 50%의 위치로 중앙값(median)을 의미한다.\n",
    "    * 4. 제 3사분위(Q3): 75%의 위치를 의미한다.\n",
    "    * 5. 최댓값: 제 3사분위에서 1.5 IQR을 더한 위치이다.\n",
    "    * 최솟값과 최댓값을 넘어가는 위치에 있는 값을 이상치(Outlier)라고 부른다."
   ]
  },
  {
   "cell_type": "markdown",
   "metadata": {},
   "source": [
    "📌 해석할 수 있어야 할 것 같다. (Data Mining시간에 배웠었는데... 이론만 해서 기억속에서 잊혀진듯...) -20.05.19.Tue-"
   ]
  },
  {
   "cell_type": "code",
   "execution_count": null,
   "metadata": {},
   "outputs": [],
   "source": []
  }
 ],
 "metadata": {
  "kernelspec": {
   "display_name": "Python 3",
   "language": "python",
   "name": "python3"
  },
  "language_info": {
   "codemirror_mode": {
    "name": "ipython",
    "version": 3
   },
   "file_extension": ".py",
   "mimetype": "text/x-python",
   "name": "python",
   "nbconvert_exporter": "python",
   "pygments_lexer": "ipython3",
   "version": "3.7.4"
  }
 },
 "nbformat": 4,
 "nbformat_minor": 4
}

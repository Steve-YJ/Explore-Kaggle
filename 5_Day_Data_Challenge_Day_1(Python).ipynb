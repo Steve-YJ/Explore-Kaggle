{
  "nbformat": 4,
  "nbformat_minor": 0,
  "metadata": {
    "colab": {
      "name": "5 Day Data Challenge:Day 1(Python).ipynb",
      "provenance": [],
      "authorship_tag": "ABX9TyM91NVHyHM1d74aw3VfyXun",
      "include_colab_link": true
    },
    "kernelspec": {
      "name": "python3",
      "display_name": "Python 3"
    }
  },
  "cells": [
    {
      "cell_type": "markdown",
      "metadata": {
        "id": "view-in-github",
        "colab_type": "text"
      },
      "source": [
        "<a href=\"https://colab.research.google.com/github/Steve-YJ/Explore-Kaggle/blob/master/5_Day_Data_Challenge_Day_1(Python).ipynb\" target=\"_parent\"><img src=\"https://colab.research.google.com/assets/colab-badge.svg\" alt=\"Open In Colab\"/></a>"
      ]
    },
    {
      "cell_type": "markdown",
      "metadata": {
        "id": "Qrjz7MOsPgBZ"
      },
      "source": [
        "Import pandas so we can use data frames."
      ]
    },
    {
      "cell_type": "code",
      "metadata": {
        "id": "Ba2SiyBzNkqo"
      },
      "source": [
        "# import pandas\n",
        "\n",
        "import pandas as pd"
      ],
      "execution_count": 1,
      "outputs": []
    },
    {
      "cell_type": "markdown",
      "metadata": {
        "id": "vKyRp4NNPi5f"
      },
      "source": [
        "Read in and print out entire csv"
      ]
    },
    {
      "cell_type": "code",
      "metadata": {
        "id": "yZp2qxRiPxv1"
      },
      "source": [
        "%load_ext autoreload\n",
        "%autoreload 2"
      ],
      "execution_count": 4,
      "outputs": []
    },
    {
      "cell_type": "code",
      "metadata": {
        "id": "uUYEKQosP3ra",
        "outputId": "0b4bee06-b375-4d9c-8b98-16f2bc38b963",
        "colab": {
          "base_uri": "https://localhost:8080/",
          "height": 35
        }
      },
      "source": [
        "from google.colab import drive\n",
        "drive.mount('/content/drive')"
      ],
      "execution_count": 5,
      "outputs": [
        {
          "output_type": "stream",
          "text": [
            "Mounted at /content/drive\n"
          ],
          "name": "stdout"
        }
      ]
    },
    {
      "cell_type": "code",
      "metadata": {
        "id": "2_V-gClkQD35",
        "outputId": "4037e580-c7e9-4576-9d34-f44d591e21eb",
        "colab": {
          "base_uri": "https://localhost:8080/",
          "height": 35
        }
      },
      "source": [
        "%cd drive/My\\ Drive/Kaggle-DataScience/Explore-Kernels"
      ],
      "execution_count": 7,
      "outputs": [
        {
          "output_type": "stream",
          "text": [
            "/content/drive/My Drive/Kaggle-DataScience/Explore-Kernels\n"
          ],
          "name": "stdout"
        }
      ]
    },
    {
      "cell_type": "code",
      "metadata": {
        "id": "TVwB1P-OQNWo",
        "outputId": "0f6feb19-4d7c-43d4-c96b-085b181279ef",
        "colab": {
          "base_uri": "https://localhost:8080/",
          "height": 89
        }
      },
      "source": [
        "! ls"
      ],
      "execution_count": 8,
      "outputs": [
        {
          "output_type": "stream",
          "text": [
            "'01. [House Prices] Comprehensive data exploration with Python.ipynb'\n",
            "'02.[House Price] predict 0.3% Advanced Regression Techs.ipynb'\n",
            "'5 Day Data Challenge:Day 1(Python).ipynb'\n",
            " data\n"
          ],
          "name": "stdout"
        }
      ]
    },
    {
      "cell_type": "code",
      "metadata": {
        "id": "mzbcgevIPmMA",
        "outputId": "8c697cd4-2460-46e1-971a-eb09337dd071",
        "colab": {
          "base_uri": "https://localhost:8080/",
          "height": 507
        }
      },
      "source": [
        "pd.read_csv(\"./data/archive.csv\")"
      ],
      "execution_count": 9,
      "outputs": [
        {
          "output_type": "execute_result",
          "data": {
            "text/html": [
              "<div>\n",
              "<style scoped>\n",
              "    .dataframe tbody tr th:only-of-type {\n",
              "        vertical-align: middle;\n",
              "    }\n",
              "\n",
              "    .dataframe tbody tr th {\n",
              "        vertical-align: top;\n",
              "    }\n",
              "\n",
              "    .dataframe thead th {\n",
              "        text-align: right;\n",
              "    }\n",
              "</style>\n",
              "<table border=\"1\" class=\"dataframe\">\n",
              "  <thead>\n",
              "    <tr style=\"text-align: right;\">\n",
              "      <th></th>\n",
              "      <th>Year</th>\n",
              "      <th>Punxsutawney Phil</th>\n",
              "      <th>February Average Temperature</th>\n",
              "      <th>February Average Temperature (Northeast)</th>\n",
              "      <th>February Average Temperature (Midwest)</th>\n",
              "      <th>February Average Temperature (Pennsylvania)</th>\n",
              "      <th>March Average Temperature</th>\n",
              "      <th>March Average Temperature (Northeast)</th>\n",
              "      <th>March Average Temperature (Midwest)</th>\n",
              "      <th>March Average Temperature (Pennsylvania)</th>\n",
              "    </tr>\n",
              "  </thead>\n",
              "  <tbody>\n",
              "    <tr>\n",
              "      <th>0</th>\n",
              "      <td>1886</td>\n",
              "      <td>No Record</td>\n",
              "      <td>NaN</td>\n",
              "      <td>NaN</td>\n",
              "      <td>NaN</td>\n",
              "      <td>NaN</td>\n",
              "      <td>NaN</td>\n",
              "      <td>NaN</td>\n",
              "      <td>NaN</td>\n",
              "      <td>NaN</td>\n",
              "    </tr>\n",
              "    <tr>\n",
              "      <th>1</th>\n",
              "      <td>1887</td>\n",
              "      <td>Full Shadow</td>\n",
              "      <td>NaN</td>\n",
              "      <td>NaN</td>\n",
              "      <td>NaN</td>\n",
              "      <td>NaN</td>\n",
              "      <td>NaN</td>\n",
              "      <td>NaN</td>\n",
              "      <td>NaN</td>\n",
              "      <td>NaN</td>\n",
              "    </tr>\n",
              "    <tr>\n",
              "      <th>2</th>\n",
              "      <td>1888</td>\n",
              "      <td>Full Shadow</td>\n",
              "      <td>NaN</td>\n",
              "      <td>NaN</td>\n",
              "      <td>NaN</td>\n",
              "      <td>NaN</td>\n",
              "      <td>NaN</td>\n",
              "      <td>NaN</td>\n",
              "      <td>NaN</td>\n",
              "      <td>NaN</td>\n",
              "    </tr>\n",
              "    <tr>\n",
              "      <th>3</th>\n",
              "      <td>1889</td>\n",
              "      <td>No Record</td>\n",
              "      <td>NaN</td>\n",
              "      <td>NaN</td>\n",
              "      <td>NaN</td>\n",
              "      <td>NaN</td>\n",
              "      <td>NaN</td>\n",
              "      <td>NaN</td>\n",
              "      <td>NaN</td>\n",
              "      <td>NaN</td>\n",
              "    </tr>\n",
              "    <tr>\n",
              "      <th>4</th>\n",
              "      <td>1890</td>\n",
              "      <td>No Shadow</td>\n",
              "      <td>NaN</td>\n",
              "      <td>NaN</td>\n",
              "      <td>NaN</td>\n",
              "      <td>NaN</td>\n",
              "      <td>NaN</td>\n",
              "      <td>NaN</td>\n",
              "      <td>NaN</td>\n",
              "      <td>NaN</td>\n",
              "    </tr>\n",
              "    <tr>\n",
              "      <th>...</th>\n",
              "      <td>...</td>\n",
              "      <td>...</td>\n",
              "      <td>...</td>\n",
              "      <td>...</td>\n",
              "      <td>...</td>\n",
              "      <td>...</td>\n",
              "      <td>...</td>\n",
              "      <td>...</td>\n",
              "      <td>...</td>\n",
              "      <td>...</td>\n",
              "    </tr>\n",
              "    <tr>\n",
              "      <th>127</th>\n",
              "      <td>2013</td>\n",
              "      <td>No Shadow</td>\n",
              "      <td>34.77</td>\n",
              "      <td>25.3</td>\n",
              "      <td>33.4</td>\n",
              "      <td>27.4</td>\n",
              "      <td>40.91</td>\n",
              "      <td>32.7</td>\n",
              "      <td>37.3</td>\n",
              "      <td>33.9</td>\n",
              "    </tr>\n",
              "    <tr>\n",
              "      <th>128</th>\n",
              "      <td>2014</td>\n",
              "      <td>Full Shadow</td>\n",
              "      <td>32.13</td>\n",
              "      <td>21.0</td>\n",
              "      <td>27.1</td>\n",
              "      <td>22.8</td>\n",
              "      <td>40.51</td>\n",
              "      <td>26.0</td>\n",
              "      <td>38.0</td>\n",
              "      <td>30.3</td>\n",
              "    </tr>\n",
              "    <tr>\n",
              "      <th>129</th>\n",
              "      <td>2015</td>\n",
              "      <td>Full Shadow</td>\n",
              "      <td>32.99</td>\n",
              "      <td>12.1</td>\n",
              "      <td>23.4</td>\n",
              "      <td>16.1</td>\n",
              "      <td>45.39</td>\n",
              "      <td>27.8</td>\n",
              "      <td>41.6</td>\n",
              "      <td>31.6</td>\n",
              "    </tr>\n",
              "    <tr>\n",
              "      <th>130</th>\n",
              "      <td>2016</td>\n",
              "      <td>No Shadow</td>\n",
              "      <td>39.47</td>\n",
              "      <td>28.1</td>\n",
              "      <td>36.9</td>\n",
              "      <td>30.8</td>\n",
              "      <td>47.50</td>\n",
              "      <td>38.8</td>\n",
              "      <td>49.5</td>\n",
              "      <td>43.4</td>\n",
              "    </tr>\n",
              "    <tr>\n",
              "      <th>131</th>\n",
              "      <td>1901-2000</td>\n",
              "      <td>NaN</td>\n",
              "      <td>33.82</td>\n",
              "      <td>22.5</td>\n",
              "      <td>32.9</td>\n",
              "      <td>26.5</td>\n",
              "      <td>41.50</td>\n",
              "      <td>32.3</td>\n",
              "      <td>42.4</td>\n",
              "      <td>35.9</td>\n",
              "    </tr>\n",
              "  </tbody>\n",
              "</table>\n",
              "<p>132 rows × 10 columns</p>\n",
              "</div>"
            ],
            "text/plain": [
              "          Year  ... March Average Temperature (Pennsylvania)\n",
              "0         1886  ...                                      NaN\n",
              "1         1887  ...                                      NaN\n",
              "2         1888  ...                                      NaN\n",
              "3         1889  ...                                      NaN\n",
              "4         1890  ...                                      NaN\n",
              "..         ...  ...                                      ...\n",
              "127       2013  ...                                     33.9\n",
              "128       2014  ...                                     30.3\n",
              "129       2015  ...                                     31.6\n",
              "130       2016  ...                                     43.4\n",
              "131  1901-2000  ...                                     35.9\n",
              "\n",
              "[132 rows x 10 columns]"
            ]
          },
          "metadata": {
            "tags": []
          },
          "execution_count": 9
        }
      ]
    },
    {
      "cell_type": "markdown",
      "metadata": {
        "id": "La-hD3NYQRV1"
      },
      "source": [
        "Assign our data to a variable named data and describe/summarize it."
      ]
    },
    {
      "cell_type": "code",
      "metadata": {
        "id": "2Wx0iT6QQWCY",
        "outputId": "d7e24c42-21f0-4c52-c494-7c9ed342fda4",
        "colab": {
          "base_uri": "https://localhost:8080/",
          "height": 348
        }
      },
      "source": [
        "data = pd.read_csv(\"./data/archive.csv\")\n",
        "data.describe()"
      ],
      "execution_count": 10,
      "outputs": [
        {
          "output_type": "execute_result",
          "data": {
            "text/html": [
              "<div>\n",
              "<style scoped>\n",
              "    .dataframe tbody tr th:only-of-type {\n",
              "        vertical-align: middle;\n",
              "    }\n",
              "\n",
              "    .dataframe tbody tr th {\n",
              "        vertical-align: top;\n",
              "    }\n",
              "\n",
              "    .dataframe thead th {\n",
              "        text-align: right;\n",
              "    }\n",
              "</style>\n",
              "<table border=\"1\" class=\"dataframe\">\n",
              "  <thead>\n",
              "    <tr style=\"text-align: right;\">\n",
              "      <th></th>\n",
              "      <th>February Average Temperature</th>\n",
              "      <th>February Average Temperature (Northeast)</th>\n",
              "      <th>February Average Temperature (Midwest)</th>\n",
              "      <th>February Average Temperature (Pennsylvania)</th>\n",
              "      <th>March Average Temperature</th>\n",
              "      <th>March Average Temperature (Northeast)</th>\n",
              "      <th>March Average Temperature (Midwest)</th>\n",
              "      <th>March Average Temperature (Pennsylvania)</th>\n",
              "    </tr>\n",
              "  </thead>\n",
              "  <tbody>\n",
              "    <tr>\n",
              "      <th>count</th>\n",
              "      <td>123.000000</td>\n",
              "      <td>123.000000</td>\n",
              "      <td>123.000000</td>\n",
              "      <td>123.000000</td>\n",
              "      <td>123.000000</td>\n",
              "      <td>123.000000</td>\n",
              "      <td>123.00000</td>\n",
              "      <td>123.00000</td>\n",
              "    </tr>\n",
              "    <tr>\n",
              "      <th>mean</th>\n",
              "      <td>33.802846</td>\n",
              "      <td>22.691870</td>\n",
              "      <td>32.695935</td>\n",
              "      <td>26.522764</td>\n",
              "      <td>41.697398</td>\n",
              "      <td>32.367480</td>\n",
              "      <td>42.56748</td>\n",
              "      <td>35.90813</td>\n",
              "    </tr>\n",
              "    <tr>\n",
              "      <th>std</th>\n",
              "      <td>3.269379</td>\n",
              "      <td>4.265619</td>\n",
              "      <td>4.843881</td>\n",
              "      <td>4.512293</td>\n",
              "      <td>2.936268</td>\n",
              "      <td>3.873586</td>\n",
              "      <td>4.49290</td>\n",
              "      <td>4.19167</td>\n",
              "    </tr>\n",
              "    <tr>\n",
              "      <th>min</th>\n",
              "      <td>25.230000</td>\n",
              "      <td>10.400000</td>\n",
              "      <td>20.300000</td>\n",
              "      <td>15.200000</td>\n",
              "      <td>35.440000</td>\n",
              "      <td>24.200000</td>\n",
              "      <td>28.50000</td>\n",
              "      <td>24.50000</td>\n",
              "    </tr>\n",
              "    <tr>\n",
              "      <th>25%</th>\n",
              "      <td>31.785000</td>\n",
              "      <td>20.050000</td>\n",
              "      <td>29.650000</td>\n",
              "      <td>23.600000</td>\n",
              "      <td>39.390000</td>\n",
              "      <td>29.700000</td>\n",
              "      <td>39.15000</td>\n",
              "      <td>33.00000</td>\n",
              "    </tr>\n",
              "    <tr>\n",
              "      <th>50%</th>\n",
              "      <td>33.690000</td>\n",
              "      <td>22.900000</td>\n",
              "      <td>33.100000</td>\n",
              "      <td>26.900000</td>\n",
              "      <td>41.790000</td>\n",
              "      <td>32.500000</td>\n",
              "      <td>42.80000</td>\n",
              "      <td>35.90000</td>\n",
              "    </tr>\n",
              "    <tr>\n",
              "      <th>75%</th>\n",
              "      <td>36.005000</td>\n",
              "      <td>25.950000</td>\n",
              "      <td>36.300000</td>\n",
              "      <td>29.800000</td>\n",
              "      <td>43.560000</td>\n",
              "      <td>34.800000</td>\n",
              "      <td>45.60000</td>\n",
              "      <td>38.50000</td>\n",
              "    </tr>\n",
              "    <tr>\n",
              "      <th>max</th>\n",
              "      <td>41.410000</td>\n",
              "      <td>31.600000</td>\n",
              "      <td>41.400000</td>\n",
              "      <td>35.800000</td>\n",
              "      <td>50.410000</td>\n",
              "      <td>43.400000</td>\n",
              "      <td>56.30000</td>\n",
              "      <td>47.70000</td>\n",
              "    </tr>\n",
              "  </tbody>\n",
              "</table>\n",
              "</div>"
            ],
            "text/plain": [
              "       February Average Temperature  ...  March Average Temperature (Pennsylvania)\n",
              "count                    123.000000  ...                                 123.00000\n",
              "mean                      33.802846  ...                                  35.90813\n",
              "std                        3.269379  ...                                   4.19167\n",
              "min                       25.230000  ...                                  24.50000\n",
              "25%                       31.785000  ...                                  33.00000\n",
              "50%                       33.690000  ...                                  35.90000\n",
              "75%                       36.005000  ...                                  38.50000\n",
              "max                       41.410000  ...                                  47.70000\n",
              "\n",
              "[8 rows x 8 columns]"
            ]
          },
          "metadata": {
            "tags": []
          },
          "execution_count": 10
        }
      ]
    }
  ]
}
{
  "nbformat": 4,
  "nbformat_minor": 0,
  "metadata": {
    "colab": {
      "name": "01. Classification-Titanic.ipynb",
      "provenance": [],
      "collapsed_sections": [],
      "authorship_tag": "ABX9TyNcW8rsAfSxkCVcPNL6rQgH",
      "include_colab_link": true
    },
    "kernelspec": {
      "name": "python3",
      "display_name": "Python 3"
    }
  },
  "cells": [
    {
      "cell_type": "markdown",
      "metadata": {
        "id": "view-in-github",
        "colab_type": "text"
      },
      "source": [
        "<a href=\"https://colab.research.google.com/github/Steve-YJ/Explore-Kaggle/blob/master/01_Classification_Titanic.ipynb\" target=\"_parent\"><img src=\"https://colab.research.google.com/assets/colab-badge.svg\" alt=\"Open In Colab\"/></a>"
      ]
    },
    {
      "cell_type": "code",
      "metadata": {
        "id": "rPYsgvNRBHDo",
        "colab_type": "code",
        "colab": {
          "base_uri": "https://localhost:8080/",
          "height": 145
        },
        "outputId": "6c36792c-26c5-430f-cbef-c26a5a0b0fa7"
      },
      "source": [
        "from google.colab import drive\n",
        "drive.mount('/content/drive', force_remount=True)\n",
        "\n",
        "# enter the foldername in your Drive where you have saved the unzipped\n",
        "# 'cs231n' folder containing the '.py', 'classifiers' and 'datasets'\n",
        "# folders.\n",
        "# e.g. 'cs231n/assignments/assignment1/cs231n/'\n",
        "FOLDERNAME = 'kaggle-DataScience'\n",
        "\n",
        "assert FOLDERNAME is not None, \"[!] Enter the foldername.\"\n",
        "\n",
        "%cd drive/My\\ Drive\n",
        "# %cp -r $FOLDERNAME ../../\n",
        "# %cd ../../\n",
        "# %cd /Malimg_Exp_200611/\n",
        "# !bash get_datasets.sh\n",
        "# %cd ../../"
      ],
      "execution_count": 1,
      "outputs": [
        {
          "output_type": "stream",
          "text": [
            "Go to this URL in a browser: https://accounts.google.com/o/oauth2/auth?client_id=947318989803-6bn6qk8qdgf4n4g3pfee6491hc0brc4i.apps.googleusercontent.com&redirect_uri=urn%3aietf%3awg%3aoauth%3a2.0%3aoob&response_type=code&scope=email%20https%3a%2f%2fwww.googleapis.com%2fauth%2fdocs.test%20https%3a%2f%2fwww.googleapis.com%2fauth%2fdrive%20https%3a%2f%2fwww.googleapis.com%2fauth%2fdrive.photos.readonly%20https%3a%2f%2fwww.googleapis.com%2fauth%2fpeopleapi.readonly\n",
            "\n",
            "Enter your authorization code:\n",
            "··········\n",
            "Mounted at /content/drive\n",
            "/content/drive/My Drive\n"
          ],
          "name": "stdout"
        }
      ]
    },
    {
      "cell_type": "code",
      "metadata": {
        "id": "Tf2meRM8BRll",
        "colab_type": "code",
        "colab": {}
      },
      "source": [
        "with open('/content/drive/My Drive/Malimg_Exp_200611/malimg_data2.pkl', 'rb') as f:\n",
        "    data = pickle.load(f)"
      ],
      "execution_count": 0,
      "outputs": []
    },
    {
      "cell_type": "code",
      "metadata": {
        "id": "nxlKsNNcCW4D",
        "colab_type": "code",
        "colab": {}
      },
      "source": [
        "import "
      ],
      "execution_count": 0,
      "outputs": []
    },
    {
      "cell_type": "markdown",
      "metadata": {
        "id": "WUBSXOoYCf80",
        "colab_type": "text"
      },
      "source": [
        "## EDA To Prediction(feat. Die Tanic)\n",
        "\n",
        "* Reference Kaggle Notebook\n",
        "    * https://www.kaggle.com/ash316/eda-to-prediction-dietanic\n",
        "* Data Discription\n",
        "    * https://www.kaggle.com/c/titanic/data\n",
        "\n",
        "\n",
        "\"Sometimes life has a cruel sense of humor, giving you the thing you always wanted at the worst time possible.\" - Lisa Kleypas -"
      ]
    },
    {
      "cell_type": "markdown",
      "metadata": {
        "id": "9yGGAigyCztR",
        "colab_type": "text"
      },
      "source": [
        "## Introduction\n",
        "\n",
        "The Titanic Dataset is a very good dataset for begineers to start a journey in data science and participate comtetitions in kaggle.\n",
        "\n",
        "<code>The Objective of this notebook</code> is to give an idea how is the workflow in any predictive modeling problem.\n",
        "* Objective\n",
        "    * How do we check features\n",
        "    * How do we add new features and some Machine Learning Concept\n",
        "\n",
        "* Addition\n",
        "    * He also try to keep the notebook as basic as possible so that even newbies can understand every phase of it.\n",
        "\n",
        "\n",
        "### Contents of the Notebook\n",
        "* Part1: EDA(Exploratory Data Analysis)\n",
        "    * Analysis of the Features\n",
        "    * Finding any relations or trends considering multiple features\n",
        "* Part2: Feature Engineering and Data Cleaning\n",
        "    * Add any few features\n",
        "    * Removing redundant features\n",
        "    * Converting features into suitable form for modeling"
      ]
    },
    {
      "cell_type": "markdown",
      "metadata": {
        "id": "_3IjDq8yEkjK",
        "colab_type": "text"
      },
      "source": [
        "# Part1: EDA(Exploratory Data Analysis)\n",
        "* Analysis of the Features\n",
        "* Finding any relations or trends considering multiple features"
      ]
    },
    {
      "cell_type": "code",
      "metadata": {
        "id": "jQLkLAyNEt-S",
        "colab_type": "code",
        "colab": {}
      },
      "source": [
        "import pandas as pd\n",
        "import matplotlib.pyplot as plt\n",
        "import seaborn as sns\n",
        "plt.style.use('fivethirtyeight')\n",
        "import warnings\n",
        "warnings.filterwarnings('ignore')  # 경고 메세지 숨기기\n",
        "%matplotlib inline"
      ],
      "execution_count": 0,
      "outputs": []
    },
    {
      "cell_type": "markdown",
      "metadata": {
        "id": "TjzrGnnfFfD1",
        "colab_type": "text"
      },
      "source": [
        "## #1. Load data\n",
        "\n",
        "<code>pandas.read_csv</code>: Read a comma-separated values(csv) file into DataFrame. also supports optionally iterating or breaking of the file into chunks."
      ]
    },
    {
      "cell_type": "code",
      "metadata": {
        "id": "tlg5X4XPFuSD",
        "colab_type": "code",
        "colab": {
          "base_uri": "https://localhost:8080/",
          "height": 204
        },
        "outputId": "aafc151a-e253-46f6-c5f6-bf860161ce61"
      },
      "source": [
        "data = pd.read_csv('/content/drive/My Drive/Kaggle-DataScience/Dataset/train.csv')\n",
        "data.head()"
      ],
      "execution_count": 9,
      "outputs": [
        {
          "output_type": "execute_result",
          "data": {
            "text/html": [
              "<div>\n",
              "<style scoped>\n",
              "    .dataframe tbody tr th:only-of-type {\n",
              "        vertical-align: middle;\n",
              "    }\n",
              "\n",
              "    .dataframe tbody tr th {\n",
              "        vertical-align: top;\n",
              "    }\n",
              "\n",
              "    .dataframe thead th {\n",
              "        text-align: right;\n",
              "    }\n",
              "</style>\n",
              "<table border=\"1\" class=\"dataframe\">\n",
              "  <thead>\n",
              "    <tr style=\"text-align: right;\">\n",
              "      <th></th>\n",
              "      <th>PassengerId</th>\n",
              "      <th>Survived</th>\n",
              "      <th>Pclass</th>\n",
              "      <th>Name</th>\n",
              "      <th>Sex</th>\n",
              "      <th>Age</th>\n",
              "      <th>SibSp</th>\n",
              "      <th>Parch</th>\n",
              "      <th>Ticket</th>\n",
              "      <th>Fare</th>\n",
              "      <th>Cabin</th>\n",
              "      <th>Embarked</th>\n",
              "    </tr>\n",
              "  </thead>\n",
              "  <tbody>\n",
              "    <tr>\n",
              "      <th>0</th>\n",
              "      <td>1</td>\n",
              "      <td>0</td>\n",
              "      <td>3</td>\n",
              "      <td>Braund, Mr. Owen Harris</td>\n",
              "      <td>male</td>\n",
              "      <td>22.0</td>\n",
              "      <td>1</td>\n",
              "      <td>0</td>\n",
              "      <td>A/5 21171</td>\n",
              "      <td>7.2500</td>\n",
              "      <td>NaN</td>\n",
              "      <td>S</td>\n",
              "    </tr>\n",
              "    <tr>\n",
              "      <th>1</th>\n",
              "      <td>2</td>\n",
              "      <td>1</td>\n",
              "      <td>1</td>\n",
              "      <td>Cumings, Mrs. John Bradley (Florence Briggs Th...</td>\n",
              "      <td>female</td>\n",
              "      <td>38.0</td>\n",
              "      <td>1</td>\n",
              "      <td>0</td>\n",
              "      <td>PC 17599</td>\n",
              "      <td>71.2833</td>\n",
              "      <td>C85</td>\n",
              "      <td>C</td>\n",
              "    </tr>\n",
              "    <tr>\n",
              "      <th>2</th>\n",
              "      <td>3</td>\n",
              "      <td>1</td>\n",
              "      <td>3</td>\n",
              "      <td>Heikkinen, Miss. Laina</td>\n",
              "      <td>female</td>\n",
              "      <td>26.0</td>\n",
              "      <td>0</td>\n",
              "      <td>0</td>\n",
              "      <td>STON/O2. 3101282</td>\n",
              "      <td>7.9250</td>\n",
              "      <td>NaN</td>\n",
              "      <td>S</td>\n",
              "    </tr>\n",
              "    <tr>\n",
              "      <th>3</th>\n",
              "      <td>4</td>\n",
              "      <td>1</td>\n",
              "      <td>1</td>\n",
              "      <td>Futrelle, Mrs. Jacques Heath (Lily May Peel)</td>\n",
              "      <td>female</td>\n",
              "      <td>35.0</td>\n",
              "      <td>1</td>\n",
              "      <td>0</td>\n",
              "      <td>113803</td>\n",
              "      <td>53.1000</td>\n",
              "      <td>C123</td>\n",
              "      <td>S</td>\n",
              "    </tr>\n",
              "    <tr>\n",
              "      <th>4</th>\n",
              "      <td>5</td>\n",
              "      <td>0</td>\n",
              "      <td>3</td>\n",
              "      <td>Allen, Mr. William Henry</td>\n",
              "      <td>male</td>\n",
              "      <td>35.0</td>\n",
              "      <td>0</td>\n",
              "      <td>0</td>\n",
              "      <td>373450</td>\n",
              "      <td>8.0500</td>\n",
              "      <td>NaN</td>\n",
              "      <td>S</td>\n",
              "    </tr>\n",
              "  </tbody>\n",
              "</table>\n",
              "</div>"
            ],
            "text/plain": [
              "   PassengerId  Survived  Pclass  ...     Fare Cabin  Embarked\n",
              "0            1         0       3  ...   7.2500   NaN         S\n",
              "1            2         1       1  ...  71.2833   C85         C\n",
              "2            3         1       3  ...   7.9250   NaN         S\n",
              "3            4         1       1  ...  53.1000  C123         S\n",
              "4            5         0       3  ...   8.0500   NaN         S\n",
              "\n",
              "[5 rows x 12 columns]"
            ]
          },
          "metadata": {
            "tags": []
          },
          "execution_count": 9
        }
      ]
    },
    {
      "cell_type": "code",
      "metadata": {
        "id": "riL7JpYlFZKh",
        "colab_type": "code",
        "colab": {
          "base_uri": "https://localhost:8080/",
          "height": 35
        },
        "outputId": "6b8167e6-d042-48f3-8064-c766767d0f1e"
      },
      "source": [
        "data.shape"
      ],
      "execution_count": 10,
      "outputs": [
        {
          "output_type": "execute_result",
          "data": {
            "text/plain": [
              "(891, 12)"
            ]
          },
          "metadata": {
            "tags": []
          },
          "execution_count": 10
        }
      ]
    },
    {
      "cell_type": "code",
      "metadata": {
        "id": "_VqdDeNfCfof",
        "colab_type": "code",
        "colab": {
          "base_uri": "https://localhost:8080/",
          "height": 71
        },
        "outputId": "050538a6-383c-4b1c-e6ff-a89641af1c1c"
      },
      "source": [
        "data.columns"
      ],
      "execution_count": 11,
      "outputs": [
        {
          "output_type": "execute_result",
          "data": {
            "text/plain": [
              "Index(['PassengerId', 'Survived', 'Pclass', 'Name', 'Sex', 'Age', 'SibSp',\n",
              "       'Parch', 'Ticket', 'Fare', 'Cabin', 'Embarked'],\n",
              "      dtype='object')"
            ]
          },
          "metadata": {
            "tags": []
          },
          "execution_count": 11
        }
      ]
    },
    {
      "cell_type": "code",
      "metadata": {
        "id": "x-aZDh-tCfmc",
        "colab_type": "code",
        "colab": {
          "base_uri": "https://localhost:8080/",
          "height": 419
        },
        "outputId": "4f449e84-ad83-44a8-c4ee-5993be4d5334"
      },
      "source": [
        "# checking for total null values\n",
        "\n",
        "data.isnull()"
      ],
      "execution_count": 12,
      "outputs": [
        {
          "output_type": "execute_result",
          "data": {
            "text/html": [
              "<div>\n",
              "<style scoped>\n",
              "    .dataframe tbody tr th:only-of-type {\n",
              "        vertical-align: middle;\n",
              "    }\n",
              "\n",
              "    .dataframe tbody tr th {\n",
              "        vertical-align: top;\n",
              "    }\n",
              "\n",
              "    .dataframe thead th {\n",
              "        text-align: right;\n",
              "    }\n",
              "</style>\n",
              "<table border=\"1\" class=\"dataframe\">\n",
              "  <thead>\n",
              "    <tr style=\"text-align: right;\">\n",
              "      <th></th>\n",
              "      <th>PassengerId</th>\n",
              "      <th>Survived</th>\n",
              "      <th>Pclass</th>\n",
              "      <th>Name</th>\n",
              "      <th>Sex</th>\n",
              "      <th>Age</th>\n",
              "      <th>SibSp</th>\n",
              "      <th>Parch</th>\n",
              "      <th>Ticket</th>\n",
              "      <th>Fare</th>\n",
              "      <th>Cabin</th>\n",
              "      <th>Embarked</th>\n",
              "    </tr>\n",
              "  </thead>\n",
              "  <tbody>\n",
              "    <tr>\n",
              "      <th>0</th>\n",
              "      <td>False</td>\n",
              "      <td>False</td>\n",
              "      <td>False</td>\n",
              "      <td>False</td>\n",
              "      <td>False</td>\n",
              "      <td>False</td>\n",
              "      <td>False</td>\n",
              "      <td>False</td>\n",
              "      <td>False</td>\n",
              "      <td>False</td>\n",
              "      <td>True</td>\n",
              "      <td>False</td>\n",
              "    </tr>\n",
              "    <tr>\n",
              "      <th>1</th>\n",
              "      <td>False</td>\n",
              "      <td>False</td>\n",
              "      <td>False</td>\n",
              "      <td>False</td>\n",
              "      <td>False</td>\n",
              "      <td>False</td>\n",
              "      <td>False</td>\n",
              "      <td>False</td>\n",
              "      <td>False</td>\n",
              "      <td>False</td>\n",
              "      <td>False</td>\n",
              "      <td>False</td>\n",
              "    </tr>\n",
              "    <tr>\n",
              "      <th>2</th>\n",
              "      <td>False</td>\n",
              "      <td>False</td>\n",
              "      <td>False</td>\n",
              "      <td>False</td>\n",
              "      <td>False</td>\n",
              "      <td>False</td>\n",
              "      <td>False</td>\n",
              "      <td>False</td>\n",
              "      <td>False</td>\n",
              "      <td>False</td>\n",
              "      <td>True</td>\n",
              "      <td>False</td>\n",
              "    </tr>\n",
              "    <tr>\n",
              "      <th>3</th>\n",
              "      <td>False</td>\n",
              "      <td>False</td>\n",
              "      <td>False</td>\n",
              "      <td>False</td>\n",
              "      <td>False</td>\n",
              "      <td>False</td>\n",
              "      <td>False</td>\n",
              "      <td>False</td>\n",
              "      <td>False</td>\n",
              "      <td>False</td>\n",
              "      <td>False</td>\n",
              "      <td>False</td>\n",
              "    </tr>\n",
              "    <tr>\n",
              "      <th>4</th>\n",
              "      <td>False</td>\n",
              "      <td>False</td>\n",
              "      <td>False</td>\n",
              "      <td>False</td>\n",
              "      <td>False</td>\n",
              "      <td>False</td>\n",
              "      <td>False</td>\n",
              "      <td>False</td>\n",
              "      <td>False</td>\n",
              "      <td>False</td>\n",
              "      <td>True</td>\n",
              "      <td>False</td>\n",
              "    </tr>\n",
              "    <tr>\n",
              "      <th>...</th>\n",
              "      <td>...</td>\n",
              "      <td>...</td>\n",
              "      <td>...</td>\n",
              "      <td>...</td>\n",
              "      <td>...</td>\n",
              "      <td>...</td>\n",
              "      <td>...</td>\n",
              "      <td>...</td>\n",
              "      <td>...</td>\n",
              "      <td>...</td>\n",
              "      <td>...</td>\n",
              "      <td>...</td>\n",
              "    </tr>\n",
              "    <tr>\n",
              "      <th>886</th>\n",
              "      <td>False</td>\n",
              "      <td>False</td>\n",
              "      <td>False</td>\n",
              "      <td>False</td>\n",
              "      <td>False</td>\n",
              "      <td>False</td>\n",
              "      <td>False</td>\n",
              "      <td>False</td>\n",
              "      <td>False</td>\n",
              "      <td>False</td>\n",
              "      <td>True</td>\n",
              "      <td>False</td>\n",
              "    </tr>\n",
              "    <tr>\n",
              "      <th>887</th>\n",
              "      <td>False</td>\n",
              "      <td>False</td>\n",
              "      <td>False</td>\n",
              "      <td>False</td>\n",
              "      <td>False</td>\n",
              "      <td>False</td>\n",
              "      <td>False</td>\n",
              "      <td>False</td>\n",
              "      <td>False</td>\n",
              "      <td>False</td>\n",
              "      <td>False</td>\n",
              "      <td>False</td>\n",
              "    </tr>\n",
              "    <tr>\n",
              "      <th>888</th>\n",
              "      <td>False</td>\n",
              "      <td>False</td>\n",
              "      <td>False</td>\n",
              "      <td>False</td>\n",
              "      <td>False</td>\n",
              "      <td>True</td>\n",
              "      <td>False</td>\n",
              "      <td>False</td>\n",
              "      <td>False</td>\n",
              "      <td>False</td>\n",
              "      <td>True</td>\n",
              "      <td>False</td>\n",
              "    </tr>\n",
              "    <tr>\n",
              "      <th>889</th>\n",
              "      <td>False</td>\n",
              "      <td>False</td>\n",
              "      <td>False</td>\n",
              "      <td>False</td>\n",
              "      <td>False</td>\n",
              "      <td>False</td>\n",
              "      <td>False</td>\n",
              "      <td>False</td>\n",
              "      <td>False</td>\n",
              "      <td>False</td>\n",
              "      <td>False</td>\n",
              "      <td>False</td>\n",
              "    </tr>\n",
              "    <tr>\n",
              "      <th>890</th>\n",
              "      <td>False</td>\n",
              "      <td>False</td>\n",
              "      <td>False</td>\n",
              "      <td>False</td>\n",
              "      <td>False</td>\n",
              "      <td>False</td>\n",
              "      <td>False</td>\n",
              "      <td>False</td>\n",
              "      <td>False</td>\n",
              "      <td>False</td>\n",
              "      <td>True</td>\n",
              "      <td>False</td>\n",
              "    </tr>\n",
              "  </tbody>\n",
              "</table>\n",
              "<p>891 rows × 12 columns</p>\n",
              "</div>"
            ],
            "text/plain": [
              "     PassengerId  Survived  Pclass   Name  ...  Ticket   Fare  Cabin  Embarked\n",
              "0          False     False   False  False  ...   False  False   True     False\n",
              "1          False     False   False  False  ...   False  False  False     False\n",
              "2          False     False   False  False  ...   False  False   True     False\n",
              "3          False     False   False  False  ...   False  False  False     False\n",
              "4          False     False   False  False  ...   False  False   True     False\n",
              "..           ...       ...     ...    ...  ...     ...    ...    ...       ...\n",
              "886        False     False   False  False  ...   False  False   True     False\n",
              "887        False     False   False  False  ...   False  False  False     False\n",
              "888        False     False   False  False  ...   False  False   True     False\n",
              "889        False     False   False  False  ...   False  False  False     False\n",
              "890        False     False   False  False  ...   False  False   True     False\n",
              "\n",
              "[891 rows x 12 columns]"
            ]
          },
          "metadata": {
            "tags": []
          },
          "execution_count": 12
        }
      ]
    },
    {
      "cell_type": "code",
      "metadata": {
        "id": "mcnTwsMWCfkb",
        "colab_type": "code",
        "colab": {
          "base_uri": "https://localhost:8080/",
          "height": 251
        },
        "outputId": "afb09e95-de03-43d8-d7fd-cffc8b9cc158"
      },
      "source": [
        "data.isnull().sum()"
      ],
      "execution_count": 13,
      "outputs": [
        {
          "output_type": "execute_result",
          "data": {
            "text/plain": [
              "PassengerId      0\n",
              "Survived         0\n",
              "Pclass           0\n",
              "Name             0\n",
              "Sex              0\n",
              "Age            177\n",
              "SibSp            0\n",
              "Parch            0\n",
              "Ticket           0\n",
              "Fare             0\n",
              "Cabin          687\n",
              "Embarked         2\n",
              "dtype: int64"
            ]
          },
          "metadata": {
            "tags": []
          },
          "execution_count": 13
        }
      ]
    },
    {
      "cell_type": "code",
      "metadata": {
        "id": "_E0xMC2OCfic",
        "colab_type": "code",
        "colab": {
          "base_uri": "https://localhost:8080/",
          "height": 35
        },
        "outputId": "5591022d-6715-45d4-b5c5-2ef33b594fe1"
      },
      "source": [
        "data.isnull().sum().sum()"
      ],
      "execution_count": 14,
      "outputs": [
        {
          "output_type": "execute_result",
          "data": {
            "text/plain": [
              "866"
            ]
          },
          "metadata": {
            "tags": []
          },
          "execution_count": 14
        }
      ]
    },
    {
      "cell_type": "markdown",
      "metadata": {
        "id": "0Cl6T8C_G0Fy",
        "colab_type": "text"
      },
      "source": [
        "How many Survived?"
      ]
    },
    {
      "cell_type": "code",
      "metadata": {
        "id": "DPoAFEUqG3VW",
        "colab_type": "code",
        "colab": {
          "base_uri": "https://localhost:8080/",
          "height": 71
        },
        "outputId": "1ffe89c3-4f5e-4d63-8dbc-73e0ca98d324"
      },
      "source": [
        "data.Survived.value_counts()"
      ],
      "execution_count": 17,
      "outputs": [
        {
          "output_type": "execute_result",
          "data": {
            "text/plain": [
              "0    549\n",
              "1    342\n",
              "Name: Survived, dtype: int64"
            ]
          },
          "metadata": {
            "tags": []
          },
          "execution_count": 17
        }
      ]
    },
    {
      "cell_type": "code",
      "metadata": {
        "id": "YzuI-xvKCfgK",
        "colab_type": "code",
        "colab": {
          "base_uri": "https://localhost:8080/",
          "height": 89
        },
        "outputId": "fb71b6d1-85b6-4c0e-b352-087bdcf55a5d"
      },
      "source": [
        "data.Pclass.value_counts().sort_index()"
      ],
      "execution_count": 21,
      "outputs": [
        {
          "output_type": "execute_result",
          "data": {
            "text/plain": [
              "1    216\n",
              "2    184\n",
              "3    491\n",
              "Name: Pclass, dtype: int64"
            ]
          },
          "metadata": {
            "tags": []
          },
          "execution_count": 21
        }
      ]
    },
    {
      "cell_type": "code",
      "metadata": {
        "id": "RAwAkPTiCfeJ",
        "colab_type": "code",
        "colab": {
          "base_uri": "https://localhost:8080/",
          "height": 405
        },
        "outputId": "8f0e2761-1bf3-4f7d-9dd0-820883786106"
      },
      "source": [
        "f, ax = plt.subplots(1, 2, figsize=(16, 6))\n",
        "data.Survived.value_counts().plot.pie(explode=[0, 0.05], autopct='%1.1f%%', ax=ax[0])\n",
        "ax[0].set_title('Survived rate')\n",
        "sns.countplot(data.Survived, data=data, ax=ax[1])\n",
        "ax[1].set_title('Survived')\n",
        "plt.show()"
      ],
      "execution_count": 66,
      "outputs": [
        {
          "output_type": "display_data",
          "data": {
            "image/png": "[encoded data removed]",
            "text/plain": [
              "<Figure size 1152x432 with 2 Axes>"
            ]
          },
          "metadata": {
            "tags": [],
            "needs_background": "light"
          }
        }
      ]
    },
    {
      "cell_type": "markdown",
      "metadata": {
        "id": "coDV0wwIH7EF",
        "colab_type": "text"
      },
      "source": [
        "## Analyzing the Features\n",
        "* Feature Analysis\n",
        "    * Categorical Feature\n",
        "    * Ordinal Feature\n",
        "    * Continuous Feature"
      ]
    },
    {
      "cell_type": "markdown",
      "metadata": {
        "id": "X5yUXAkbCfb-",
        "colab_type": "text"
      },
      "source": [
        "우선 Categorical Feature부터 분석해본다.\n",
        "\n",
        "### 1) Categorical Feature"
      ]
    },
    {
      "cell_type": "code",
      "metadata": {
        "id": "Mc0MWLx4NvhA",
        "colab_type": "code",
        "colab": {
          "base_uri": "https://localhost:8080/",
          "height": 35
        },
        "outputId": "60710435-29f9-4ed4-c9d4-05b28d12526d"
      },
      "source": [
        "data.groupby('Sex')"
      ],
      "execution_count": 24,
      "outputs": [
        {
          "output_type": "execute_result",
          "data": {
            "text/plain": [
              "<pandas.core.groupby.generic.DataFrameGroupBy object at 0x7f5bd1c11048>"
            ]
          },
          "metadata": {
            "tags": []
          },
          "execution_count": 24
        }
      ]
    },
    {
      "cell_type": "code",
      "metadata": {
        "id": "7HxxpvgqN1th",
        "colab_type": "code",
        "colab": {
          "base_uri": "https://localhost:8080/",
          "height": 89
        },
        "outputId": "9a8fa7f4-0510-45c3-a4bf-33d5d62c4f19"
      },
      "source": [
        "data.groupby('Sex')['Survived'].count()"
      ],
      "execution_count": 25,
      "outputs": [
        {
          "output_type": "execute_result",
          "data": {
            "text/plain": [
              "Sex\n",
              "female    314\n",
              "male      577\n",
              "Name: Survived, dtype: int64"
            ]
          },
          "metadata": {
            "tags": []
          },
          "execution_count": 25
        }
      ]
    },
    {
      "cell_type": "code",
      "metadata": {
        "id": "3C573ffWNsL4",
        "colab_type": "code",
        "colab": {
          "base_uri": "https://localhost:8080/",
          "height": 124
        },
        "outputId": "e627f187-9fb6-4487-8a10-dcd0aa784a0e"
      },
      "source": [
        "pd.crosstab(data.Sex, data.Survived, margins=True).style.background_gradient(cmap='summer_r')"
      ],
      "execution_count": 27,
      "outputs": [
        {
          "output_type": "execute_result",
          "data": {
            "text/html": [
              "<style  type=\"text/css\" >\n",
              "    #T_72112ffc_ad39_11ea_8580_0242ac1c0002row0_col0 {\n",
              "            background-color:  #ffff66;\n",
              "            color:  #000000;\n",
              "        }    #T_72112ffc_ad39_11ea_8580_0242ac1c0002row0_col1 {\n",
              "            background-color:  #77bb66;\n",
              "            color:  #000000;\n",
              "        }    #T_72112ffc_ad39_11ea_8580_0242ac1c0002row0_col2 {\n",
              "            background-color:  #ffff66;\n",
              "            color:  #000000;\n",
              "        }    #T_72112ffc_ad39_11ea_8580_0242ac1c0002row1_col0 {\n",
              "            background-color:  #2c9666;\n",
              "            color:  #000000;\n",
              "        }    #T_72112ffc_ad39_11ea_8580_0242ac1c0002row1_col1 {\n",
              "            background-color:  #ffff66;\n",
              "            color:  #000000;\n",
              "        }    #T_72112ffc_ad39_11ea_8580_0242ac1c0002row1_col2 {\n",
              "            background-color:  #8bc566;\n",
              "            color:  #000000;\n",
              "        }    #T_72112ffc_ad39_11ea_8580_0242ac1c0002row2_col0 {\n",
              "            background-color:  #008066;\n",
              "            color:  #f1f1f1;\n",
              "        }    #T_72112ffc_ad39_11ea_8580_0242ac1c0002row2_col1 {\n",
              "            background-color:  #008066;\n",
              "            color:  #f1f1f1;\n",
              "        }    #T_72112ffc_ad39_11ea_8580_0242ac1c0002row2_col2 {\n",
              "            background-color:  #008066;\n",
              "            color:  #f1f1f1;\n",
              "        }</style><table id=\"T_72112ffc_ad39_11ea_8580_0242ac1c0002\" ><thead>    <tr>        <th class=\"index_name level0\" >Survived</th>        <th class=\"col_heading level0 col0\" >0</th>        <th class=\"col_heading level0 col1\" >1</th>        <th class=\"col_heading level0 col2\" >All</th>    </tr>    <tr>        <th class=\"index_name level0\" >Sex</th>        <th class=\"blank\" ></th>        <th class=\"blank\" ></th>        <th class=\"blank\" ></th>    </tr></thead><tbody>\n",
              "                <tr>\n",
              "                        <th id=\"T_72112ffc_ad39_11ea_8580_0242ac1c0002level0_row0\" class=\"row_heading level0 row0\" >female</th>\n",
              "                        <td id=\"T_72112ffc_ad39_11ea_8580_0242ac1c0002row0_col0\" class=\"data row0 col0\" >81</td>\n",
              "                        <td id=\"T_72112ffc_ad39_11ea_8580_0242ac1c0002row0_col1\" class=\"data row0 col1\" >233</td>\n",
              "                        <td id=\"T_72112ffc_ad39_11ea_8580_0242ac1c0002row0_col2\" class=\"data row0 col2\" >314</td>\n",
              "            </tr>\n",
              "            <tr>\n",
              "                        <th id=\"T_72112ffc_ad39_11ea_8580_0242ac1c0002level0_row1\" class=\"row_heading level0 row1\" >male</th>\n",
              "                        <td id=\"T_72112ffc_ad39_11ea_8580_0242ac1c0002row1_col0\" class=\"data row1 col0\" >468</td>\n",
              "                        <td id=\"T_72112ffc_ad39_11ea_8580_0242ac1c0002row1_col1\" class=\"data row1 col1\" >109</td>\n",
              "                        <td id=\"T_72112ffc_ad39_11ea_8580_0242ac1c0002row1_col2\" class=\"data row1 col2\" >577</td>\n",
              "            </tr>\n",
              "            <tr>\n",
              "                        <th id=\"T_72112ffc_ad39_11ea_8580_0242ac1c0002level0_row2\" class=\"row_heading level0 row2\" >All</th>\n",
              "                        <td id=\"T_72112ffc_ad39_11ea_8580_0242ac1c0002row2_col0\" class=\"data row2 col0\" >549</td>\n",
              "                        <td id=\"T_72112ffc_ad39_11ea_8580_0242ac1c0002row2_col1\" class=\"data row2 col1\" >342</td>\n",
              "                        <td id=\"T_72112ffc_ad39_11ea_8580_0242ac1c0002row2_col2\" class=\"data row2 col2\" >891</td>\n",
              "            </tr>\n",
              "    </tbody></table>"
            ],
            "text/plain": [
              "<pandas.io.formats.style.Styler at 0x7f5bd1531160>"
            ]
          },
          "metadata": {
            "tags": []
          },
          "execution_count": 27
        }
      ]
    },
    {
      "cell_type": "markdown",
      "metadata": {
        "id": "QVP8d2wsCfZc",
        "colab_type": "text"
      },
      "source": [
        "뒤에서 <code>pandas.crosstab</code>에 대해 다룰 것이다"
      ]
    },
    {
      "cell_type": "code",
      "metadata": {
        "id": "rfnIN8yhCfWq",
        "colab_type": "code",
        "colab": {
          "base_uri": "https://localhost:8080/",
          "height": 125
        },
        "outputId": "a94fe288-2019-4cb5-b7c2-b48f19bcbdce"
      },
      "source": [
        "data.groupby(['Sex', 'Survived'])['Survived'].count()"
      ],
      "execution_count": 28,
      "outputs": [
        {
          "output_type": "execute_result",
          "data": {
            "text/plain": [
              "Sex     Survived\n",
              "female  0            81\n",
              "        1           233\n",
              "male    0           468\n",
              "        1           109\n",
              "Name: Survived, dtype: int64"
            ]
          },
          "metadata": {
            "tags": []
          },
          "execution_count": 28
        }
      ]
    },
    {
      "cell_type": "code",
      "metadata": {
        "id": "JcqmYUCcCfNa",
        "colab_type": "code",
        "colab": {
          "base_uri": "https://localhost:8080/",
          "height": 124
        },
        "outputId": "4d9fabe5-7ce8-41b6-e511-1774599ecc55"
      },
      "source": [
        "pd.crosstab(data.Sex, data.Survived, margins=True).style.background_gradient(cmap='summer_r')"
      ],
      "execution_count": 30,
      "outputs": [
        {
          "output_type": "execute_result",
          "data": {
            "text/html": [
              "<style  type=\"text/css\" >\n",
              "    #T_b2e9efd2_ad39_11ea_8580_0242ac1c0002row0_col0 {\n",
              "            background-color:  #ffff66;\n",
              "            color:  #000000;\n",
              "        }    #T_b2e9efd2_ad39_11ea_8580_0242ac1c0002row0_col1 {\n",
              "            background-color:  #77bb66;\n",
              "            color:  #000000;\n",
              "        }    #T_b2e9efd2_ad39_11ea_8580_0242ac1c0002row0_col2 {\n",
              "            background-color:  #ffff66;\n",
              "            color:  #000000;\n",
              "        }    #T_b2e9efd2_ad39_11ea_8580_0242ac1c0002row1_col0 {\n",
              "            background-color:  #2c9666;\n",
              "            color:  #000000;\n",
              "        }    #T_b2e9efd2_ad39_11ea_8580_0242ac1c0002row1_col1 {\n",
              "            background-color:  #ffff66;\n",
              "            color:  #000000;\n",
              "        }    #T_b2e9efd2_ad39_11ea_8580_0242ac1c0002row1_col2 {\n",
              "            background-color:  #8bc566;\n",
              "            color:  #000000;\n",
              "        }    #T_b2e9efd2_ad39_11ea_8580_0242ac1c0002row2_col0 {\n",
              "            background-color:  #008066;\n",
              "            color:  #f1f1f1;\n",
              "        }    #T_b2e9efd2_ad39_11ea_8580_0242ac1c0002row2_col1 {\n",
              "            background-color:  #008066;\n",
              "            color:  #f1f1f1;\n",
              "        }    #T_b2e9efd2_ad39_11ea_8580_0242ac1c0002row2_col2 {\n",
              "            background-color:  #008066;\n",
              "            color:  #f1f1f1;\n",
              "        }</style><table id=\"T_b2e9efd2_ad39_11ea_8580_0242ac1c0002\" ><thead>    <tr>        <th class=\"index_name level0\" >Survived</th>        <th class=\"col_heading level0 col0\" >0</th>        <th class=\"col_heading level0 col1\" >1</th>        <th class=\"col_heading level0 col2\" >All</th>    </tr>    <tr>        <th class=\"index_name level0\" >Sex</th>        <th class=\"blank\" ></th>        <th class=\"blank\" ></th>        <th class=\"blank\" ></th>    </tr></thead><tbody>\n",
              "                <tr>\n",
              "                        <th id=\"T_b2e9efd2_ad39_11ea_8580_0242ac1c0002level0_row0\" class=\"row_heading level0 row0\" >female</th>\n",
              "                        <td id=\"T_b2e9efd2_ad39_11ea_8580_0242ac1c0002row0_col0\" class=\"data row0 col0\" >81</td>\n",
              "                        <td id=\"T_b2e9efd2_ad39_11ea_8580_0242ac1c0002row0_col1\" class=\"data row0 col1\" >233</td>\n",
              "                        <td id=\"T_b2e9efd2_ad39_11ea_8580_0242ac1c0002row0_col2\" class=\"data row0 col2\" >314</td>\n",
              "            </tr>\n",
              "            <tr>\n",
              "                        <th id=\"T_b2e9efd2_ad39_11ea_8580_0242ac1c0002level0_row1\" class=\"row_heading level0 row1\" >male</th>\n",
              "                        <td id=\"T_b2e9efd2_ad39_11ea_8580_0242ac1c0002row1_col0\" class=\"data row1 col0\" >468</td>\n",
              "                        <td id=\"T_b2e9efd2_ad39_11ea_8580_0242ac1c0002row1_col1\" class=\"data row1 col1\" >109</td>\n",
              "                        <td id=\"T_b2e9efd2_ad39_11ea_8580_0242ac1c0002row1_col2\" class=\"data row1 col2\" >577</td>\n",
              "            </tr>\n",
              "            <tr>\n",
              "                        <th id=\"T_b2e9efd2_ad39_11ea_8580_0242ac1c0002level0_row2\" class=\"row_heading level0 row2\" >All</th>\n",
              "                        <td id=\"T_b2e9efd2_ad39_11ea_8580_0242ac1c0002row2_col0\" class=\"data row2 col0\" >549</td>\n",
              "                        <td id=\"T_b2e9efd2_ad39_11ea_8580_0242ac1c0002row2_col1\" class=\"data row2 col1\" >342</td>\n",
              "                        <td id=\"T_b2e9efd2_ad39_11ea_8580_0242ac1c0002row2_col2\" class=\"data row2 col2\" >891</td>\n",
              "            </tr>\n",
              "    </tbody></table>"
            ],
            "text/plain": [
              "<pandas.io.formats.style.Styler at 0x7f5bd1199b70>"
            ]
          },
          "metadata": {
            "tags": []
          },
          "execution_count": 30
        }
      ]
    },
    {
      "cell_type": "code",
      "metadata": {
        "id": "6ZcW99OACe8i",
        "colab_type": "code",
        "colab": {
          "base_uri": "https://localhost:8080/",
          "height": 429
        },
        "outputId": "df4ffe4b-2539-45cf-ee07-0bbc0c9a9b28"
      },
      "source": [
        "f, ax = plt.subplots(1, 2, figsize = (18, 6))\n",
        "\n",
        "color = {'red': '#FF0000', 'blue': '#0000FF'}\n",
        "data.groupby('Sex')['Survived'].count().plot.bar(color=[x for x in color], ax=ax[0])\n",
        "ax[0].set_title(\"Survived vs Sex\")\n",
        "\n",
        "sns.countplot('Sex', hue='Survived', data=data, ax=ax[1])\n",
        "ax[1].set_title('Sex: Survived vs Dead')\n",
        "plt.show()"
      ],
      "execution_count": 35,
      "outputs": [
        {
          "output_type": "display_data",
          "data": {
            "image/png": "[encoded data removed]",
            "text/plain": [
              "<Figure size 1296x432 with 2 Axes>"
            ]
          },
          "metadata": {
            "tags": [],
            "needs_background": "light"
          }
        }
      ]
    },
    {
      "cell_type": "markdown",
      "metadata": {
        "id": "AiKWpC-vPrgH",
        "colab_type": "text"
      },
      "source": [
        "### 2) Ordinal Feature"
      ]
    },
    {
      "cell_type": "code",
      "metadata": {
        "id": "BZUN2nDFPu9s",
        "colab_type": "code",
        "colab": {
          "base_uri": "https://localhost:8080/",
          "height": 145
        },
        "outputId": "ac2b8dbe-2ed5-4f9c-c33f-d90862feb939"
      },
      "source": [
        "pd.crosstab(data.Pclass, data.Survived, margins=True).style.background_gradient(cmap='summer_r')  # Make Tabulation"
      ],
      "execution_count": 36,
      "outputs": [
        {
          "output_type": "execute_result",
          "data": {
            "text/html": [
              "<style  type=\"text/css\" >\n",
              "    #T_9677e88a_ad3a_11ea_8580_0242ac1c0002row0_col0 {\n",
              "            background-color:  #ffff66;\n",
              "            color:  #000000;\n",
              "        }    #T_9677e88a_ad3a_11ea_8580_0242ac1c0002row0_col1 {\n",
              "            background-color:  #cee666;\n",
              "            color:  #000000;\n",
              "        }    #T_9677e88a_ad3a_11ea_8580_0242ac1c0002row0_col2 {\n",
              "            background-color:  #f4fa66;\n",
              "            color:  #000000;\n",
              "        }    #T_9677e88a_ad3a_11ea_8580_0242ac1c0002row1_col0 {\n",
              "            background-color:  #f6fa66;\n",
              "            color:  #000000;\n",
              "        }    #T_9677e88a_ad3a_11ea_8580_0242ac1c0002row1_col1 {\n",
              "            background-color:  #ffff66;\n",
              "            color:  #000000;\n",
              "        }    #T_9677e88a_ad3a_11ea_8580_0242ac1c0002row1_col2 {\n",
              "            background-color:  #ffff66;\n",
              "            color:  #000000;\n",
              "        }    #T_9677e88a_ad3a_11ea_8580_0242ac1c0002row2_col0 {\n",
              "            background-color:  #60b066;\n",
              "            color:  #000000;\n",
              "        }    #T_9677e88a_ad3a_11ea_8580_0242ac1c0002row2_col1 {\n",
              "            background-color:  #dfef66;\n",
              "            color:  #000000;\n",
              "        }    #T_9677e88a_ad3a_11ea_8580_0242ac1c0002row2_col2 {\n",
              "            background-color:  #90c866;\n",
              "            color:  #000000;\n",
              "        }    #T_9677e88a_ad3a_11ea_8580_0242ac1c0002row3_col0 {\n",
              "            background-color:  #008066;\n",
              "            color:  #f1f1f1;\n",
              "        }    #T_9677e88a_ad3a_11ea_8580_0242ac1c0002row3_col1 {\n",
              "            background-color:  #008066;\n",
              "            color:  #f1f1f1;\n",
              "        }    #T_9677e88a_ad3a_11ea_8580_0242ac1c0002row3_col2 {\n",
              "            background-color:  #008066;\n",
              "            color:  #f1f1f1;\n",
              "        }</style><table id=\"T_9677e88a_ad3a_11ea_8580_0242ac1c0002\" ><thead>    <tr>        <th class=\"index_name level0\" >Survived</th>        <th class=\"col_heading level0 col0\" >0</th>        <th class=\"col_heading level0 col1\" >1</th>        <th class=\"col_heading level0 col2\" >All</th>    </tr>    <tr>        <th class=\"index_name level0\" >Pclass</th>        <th class=\"blank\" ></th>        <th class=\"blank\" ></th>        <th class=\"blank\" ></th>    </tr></thead><tbody>\n",
              "                <tr>\n",
              "                        <th id=\"T_9677e88a_ad3a_11ea_8580_0242ac1c0002level0_row0\" class=\"row_heading level0 row0\" >1</th>\n",
              "                        <td id=\"T_9677e88a_ad3a_11ea_8580_0242ac1c0002row0_col0\" class=\"data row0 col0\" >80</td>\n",
              "                        <td id=\"T_9677e88a_ad3a_11ea_8580_0242ac1c0002row0_col1\" class=\"data row0 col1\" >136</td>\n",
              "                        <td id=\"T_9677e88a_ad3a_11ea_8580_0242ac1c0002row0_col2\" class=\"data row0 col2\" >216</td>\n",
              "            </tr>\n",
              "            <tr>\n",
              "                        <th id=\"T_9677e88a_ad3a_11ea_8580_0242ac1c0002level0_row1\" class=\"row_heading level0 row1\" >2</th>\n",
              "                        <td id=\"T_9677e88a_ad3a_11ea_8580_0242ac1c0002row1_col0\" class=\"data row1 col0\" >97</td>\n",
              "                        <td id=\"T_9677e88a_ad3a_11ea_8580_0242ac1c0002row1_col1\" class=\"data row1 col1\" >87</td>\n",
              "                        <td id=\"T_9677e88a_ad3a_11ea_8580_0242ac1c0002row1_col2\" class=\"data row1 col2\" >184</td>\n",
              "            </tr>\n",
              "            <tr>\n",
              "                        <th id=\"T_9677e88a_ad3a_11ea_8580_0242ac1c0002level0_row2\" class=\"row_heading level0 row2\" >3</th>\n",
              "                        <td id=\"T_9677e88a_ad3a_11ea_8580_0242ac1c0002row2_col0\" class=\"data row2 col0\" >372</td>\n",
              "                        <td id=\"T_9677e88a_ad3a_11ea_8580_0242ac1c0002row2_col1\" class=\"data row2 col1\" >119</td>\n",
              "                        <td id=\"T_9677e88a_ad3a_11ea_8580_0242ac1c0002row2_col2\" class=\"data row2 col2\" >491</td>\n",
              "            </tr>\n",
              "            <tr>\n",
              "                        <th id=\"T_9677e88a_ad3a_11ea_8580_0242ac1c0002level0_row3\" class=\"row_heading level0 row3\" >All</th>\n",
              "                        <td id=\"T_9677e88a_ad3a_11ea_8580_0242ac1c0002row3_col0\" class=\"data row3 col0\" >549</td>\n",
              "                        <td id=\"T_9677e88a_ad3a_11ea_8580_0242ac1c0002row3_col1\" class=\"data row3 col1\" >342</td>\n",
              "                        <td id=\"T_9677e88a_ad3a_11ea_8580_0242ac1c0002row3_col2\" class=\"data row3 col2\" >891</td>\n",
              "            </tr>\n",
              "    </tbody></table>"
            ],
            "text/plain": [
              "<pandas.io.formats.style.Styler at 0x7f5bd1124dd8>"
            ]
          },
          "metadata": {
            "tags": []
          },
          "execution_count": 36
        }
      ]
    },
    {
      "cell_type": "code",
      "metadata": {
        "id": "zytsGeHpNLwh",
        "colab_type": "code",
        "colab": {
          "base_uri": "https://localhost:8080/",
          "height": 161
        },
        "outputId": "227fa429-6f68-42ab-c0ac-50fc38592d8c"
      },
      "source": [
        "data.groupby(['Pclass', 'Survived'])['Survived'].count()"
      ],
      "execution_count": 49,
      "outputs": [
        {
          "output_type": "execute_result",
          "data": {
            "text/plain": [
              "Pclass  Survived\n",
              "1       0            80\n",
              "        1           136\n",
              "2       0            97\n",
              "        1            87\n",
              "3       0           372\n",
              "        1           119\n",
              "Name: Survived, dtype: int64"
            ]
          },
          "metadata": {
            "tags": []
          },
          "execution_count": 49
        }
      ]
    },
    {
      "cell_type": "code",
      "metadata": {
        "id": "AYpaI8RFNLum",
        "colab_type": "code",
        "colab": {
          "base_uri": "https://localhost:8080/",
          "height": 531
        },
        "outputId": "5b9a7b02-c352-4fb5-c60d-254c14ea9b7c"
      },
      "source": [
        "f, ax = plt.subplots(1, 2, figsize=(18, 8))\n",
        "color=['#CD7F32', '#FFDF00', '#D3D3D3']\n",
        "\n",
        "data['Pclass'].value_counts().plot.bar(color=[x for x in color], ax=ax[0])\n",
        "ax[0].set_title('Pclass Passenger numbers')\n",
        "sns.countplot(x='Survived', hue='Pclass', data=data, ax=ax[1])\n",
        "ax[1].set_title('Pclass vs Survived')"
      ],
      "execution_count": 64,
      "outputs": [
        {
          "output_type": "execute_result",
          "data": {
            "text/plain": [
              "Text(0.5, 1.0, 'Pclass vs Survived')"
            ]
          },
          "metadata": {
            "tags": []
          },
          "execution_count": 64
        },
        {
          "output_type": "display_data",
          "data": {
            "image/png": "[encoded data removed]",
            "text/plain": [
              "<Figure size 1296x576 with 2 Axes>"
            ]
          },
          "metadata": {
            "tags": [],
            "needs_background": "light"
          }
        }
      ]
    },
    {
      "cell_type": "markdown",
      "metadata": {
        "id": "CdkmpgErTZAe",
        "colab_type": "text"
      },
      "source": [
        "* 해석\n",
        "    * 1등석 탑승객의 생존자는 사망자보다 많다. 이는 그룹 내에 유일하다.\n",
        "    * 3등석의 탑승객이 가장 많았으나 가장 많은 사망자 수가 발생하였다.\n",
        "    * 돈이 모든 것을 살 수 없다고 하지만 Tatanic Data에서는 돈으로 생명을 어느정도 보장받을 수 있었다."
      ]
    },
    {
      "cell_type": "markdown",
      "metadata": {
        "id": "oPkp5-lFTy-Q",
        "colab_type": "text"
      },
      "source": [
        "Pclass별 생존율은 어떻게 될까?"
      ]
    },
    {
      "cell_type": "code",
      "metadata": {
        "id": "QFyRIUKkT1Zr",
        "colab_type": "code",
        "colab": {}
      },
      "source": [
        "# data.groupby(['Pclass', 'Survived'])['Survived'].count()"
      ],
      "execution_count": 0,
      "outputs": []
    },
    {
      "cell_type": "code",
      "metadata": {
        "id": "auulEIu4T2FI",
        "colab_type": "code",
        "colab": {
          "base_uri": "https://localhost:8080/",
          "height": 173
        },
        "outputId": "03e162fe-4b82-4d0c-982a-17a9d8a5f940"
      },
      "source": [
        "data[['Pclass', 'Survived']].groupby('Pclass').count()"
      ],
      "execution_count": 73,
      "outputs": [
        {
          "output_type": "execute_result",
          "data": {
            "text/html": [
              "<div>\n",
              "<style scoped>\n",
              "    .dataframe tbody tr th:only-of-type {\n",
              "        vertical-align: middle;\n",
              "    }\n",
              "\n",
              "    .dataframe tbody tr th {\n",
              "        vertical-align: top;\n",
              "    }\n",
              "\n",
              "    .dataframe thead th {\n",
              "        text-align: right;\n",
              "    }\n",
              "</style>\n",
              "<table border=\"1\" class=\"dataframe\">\n",
              "  <thead>\n",
              "    <tr style=\"text-align: right;\">\n",
              "      <th></th>\n",
              "      <th>Survived</th>\n",
              "    </tr>\n",
              "    <tr>\n",
              "      <th>Pclass</th>\n",
              "      <th></th>\n",
              "    </tr>\n",
              "  </thead>\n",
              "  <tbody>\n",
              "    <tr>\n",
              "      <th>1</th>\n",
              "      <td>216</td>\n",
              "    </tr>\n",
              "    <tr>\n",
              "      <th>2</th>\n",
              "      <td>184</td>\n",
              "    </tr>\n",
              "    <tr>\n",
              "      <th>3</th>\n",
              "      <td>491</td>\n",
              "    </tr>\n",
              "  </tbody>\n",
              "</table>\n",
              "</div>"
            ],
            "text/plain": [
              "        Survived\n",
              "Pclass          \n",
              "1            216\n",
              "2            184\n",
              "3            491"
            ]
          },
          "metadata": {
            "tags": []
          },
          "execution_count": 73
        }
      ]
    },
    {
      "cell_type": "code",
      "metadata": {
        "id": "DwTfsxgQT2Ha",
        "colab_type": "code",
        "colab": {
          "base_uri": "https://localhost:8080/",
          "height": 173
        },
        "outputId": "6b9c8061-d666-45e1-cdee-1fdbdb6a19cc"
      },
      "source": [
        "data[['Pclass', 'Survived']].groupby('Pclass').mean()\n",
        "\n",
        "# Plot으로도 그려보자"
      ],
      "execution_count": 77,
      "outputs": [
        {
          "output_type": "execute_result",
          "data": {
            "text/html": [
              "<div>\n",
              "<style scoped>\n",
              "    .dataframe tbody tr th:only-of-type {\n",
              "        vertical-align: middle;\n",
              "    }\n",
              "\n",
              "    .dataframe tbody tr th {\n",
              "        vertical-align: top;\n",
              "    }\n",
              "\n",
              "    .dataframe thead th {\n",
              "        text-align: right;\n",
              "    }\n",
              "</style>\n",
              "<table border=\"1\" class=\"dataframe\">\n",
              "  <thead>\n",
              "    <tr style=\"text-align: right;\">\n",
              "      <th></th>\n",
              "      <th>Survived</th>\n",
              "    </tr>\n",
              "    <tr>\n",
              "      <th>Pclass</th>\n",
              "      <th></th>\n",
              "    </tr>\n",
              "  </thead>\n",
              "  <tbody>\n",
              "    <tr>\n",
              "      <th>1</th>\n",
              "      <td>0.629630</td>\n",
              "    </tr>\n",
              "    <tr>\n",
              "      <th>2</th>\n",
              "      <td>0.472826</td>\n",
              "    </tr>\n",
              "    <tr>\n",
              "      <th>3</th>\n",
              "      <td>0.242363</td>\n",
              "    </tr>\n",
              "  </tbody>\n",
              "</table>\n",
              "</div>"
            ],
            "text/plain": [
              "        Survived\n",
              "Pclass          \n",
              "1       0.629630\n",
              "2       0.472826\n",
              "3       0.242363"
            ]
          },
          "metadata": {
            "tags": []
          },
          "execution_count": 77
        }
      ]
    },
    {
      "cell_type": "code",
      "metadata": {
        "id": "1N_bhCoBUVC2",
        "colab_type": "code",
        "colab": {
          "base_uri": "https://localhost:8080/",
          "height": 423
        },
        "outputId": "e36279e0-5c82-41ae-b7cf-f1aaefcf5f22"
      },
      "source": [
        "f, ax = plt.subplots(1, 2, figsize = (18, 6))\n",
        "\n",
        "data[['Pclass', 'Survived']].groupby('Pclass').mean().plot.bar(ax = ax[0])\n",
        "ax[0].set_title(\"Survived rate by Pclass\")\n",
        "sns.countplot(x='Pclass', hue='Survived', data=data, ax=ax[1])\n",
        "ax[1].set_title('Pclass vs Survived')"
      ],
      "execution_count": 81,
      "outputs": [
        {
          "output_type": "execute_result",
          "data": {
            "text/plain": [
              "Text(0.5, 1.0, 'Pclass vs Survived')"
            ]
          },
          "metadata": {
            "tags": []
          },
          "execution_count": 81
        },
        {
          "output_type": "display_data",
          "data": {
            "image/png": "[encoded data removed]",
            "text/plain": [
              "<Figure size 1296x432 with 2 Axes>"
            ]
          },
          "metadata": {
            "tags": [],
            "needs_background": "light"
          }
        }
      ]
    },
    {
      "cell_type": "markdown",
      "metadata": {
        "id": "QYsKhxQ6VXdp",
        "colab_type": "text"
      },
      "source": [
        "*Pclass와 Sex에 따른 생존율은 어떻게 될까?*"
      ]
    },
    {
      "cell_type": "code",
      "metadata": {
        "id": "VJLNogs-ValM",
        "colab_type": "code",
        "colab": {
          "base_uri": "https://localhost:8080/",
          "height": 166
        },
        "outputId": "0793a97e-a215-4e38-869e-8b6db7e10241"
      },
      "source": [
        "# pd.crosstab([data.Sex, data.Survived], data.Pclass, margins=True).style.background_gradient(cmap='summer_r')"
      ],
      "execution_count": 82,
      "outputs": [
        {
          "output_type": "execute_result",
          "data": {
            "text/html": [
              "<style  type=\"text/css\" >\n",
              "    #T_08b8ad5a_ad3e_11ea_8580_0242ac1c0002row0_col0 {\n",
              "            background-color:  #ffff66;\n",
              "            color:  #000000;\n",
              "        }    #T_08b8ad5a_ad3e_11ea_8580_0242ac1c0002row0_col1 {\n",
              "            background-color:  #ffff66;\n",
              "            color:  #000000;\n",
              "        }    #T_08b8ad5a_ad3e_11ea_8580_0242ac1c0002row0_col2 {\n",
              "            background-color:  #f1f866;\n",
              "            color:  #000000;\n",
              "        }    #T_08b8ad5a_ad3e_11ea_8580_0242ac1c0002row0_col3 {\n",
              "            background-color:  #ffff66;\n",
              "            color:  #000000;\n",
              "        }    #T_08b8ad5a_ad3e_11ea_8580_0242ac1c0002row1_col0 {\n",
              "            background-color:  #96cb66;\n",
              "            color:  #000000;\n",
              "        }    #T_08b8ad5a_ad3e_11ea_8580_0242ac1c0002row1_col1 {\n",
              "            background-color:  #a3d166;\n",
              "            color:  #000000;\n",
              "        }    #T_08b8ad5a_ad3e_11ea_8580_0242ac1c0002row1_col2 {\n",
              "            background-color:  #f1f866;\n",
              "            color:  #000000;\n",
              "        }    #T_08b8ad5a_ad3e_11ea_8580_0242ac1c0002row1_col3 {\n",
              "            background-color:  #cfe766;\n",
              "            color:  #000000;\n",
              "        }    #T_08b8ad5a_ad3e_11ea_8580_0242ac1c0002row2_col0 {\n",
              "            background-color:  #a7d366;\n",
              "            color:  #000000;\n",
              "        }    #T_08b8ad5a_ad3e_11ea_8580_0242ac1c0002row2_col1 {\n",
              "            background-color:  #85c266;\n",
              "            color:  #000000;\n",
              "        }    #T_08b8ad5a_ad3e_11ea_8580_0242ac1c0002row2_col2 {\n",
              "            background-color:  #6eb666;\n",
              "            color:  #000000;\n",
              "        }    #T_08b8ad5a_ad3e_11ea_8580_0242ac1c0002row2_col3 {\n",
              "            background-color:  #85c266;\n",
              "            color:  #000000;\n",
              "        }    #T_08b8ad5a_ad3e_11ea_8580_0242ac1c0002row3_col0 {\n",
              "            background-color:  #cde666;\n",
              "            color:  #000000;\n",
              "        }    #T_08b8ad5a_ad3e_11ea_8580_0242ac1c0002row3_col1 {\n",
              "            background-color:  #f0f866;\n",
              "            color:  #000000;\n",
              "        }    #T_08b8ad5a_ad3e_11ea_8580_0242ac1c0002row3_col2 {\n",
              "            background-color:  #ffff66;\n",
              "            color:  #000000;\n",
              "        }    #T_08b8ad5a_ad3e_11ea_8580_0242ac1c0002row3_col3 {\n",
              "            background-color:  #f7fb66;\n",
              "            color:  #000000;\n",
              "        }    #T_08b8ad5a_ad3e_11ea_8580_0242ac1c0002row4_col0 {\n",
              "            background-color:  #008066;\n",
              "            color:  #f1f1f1;\n",
              "        }    #T_08b8ad5a_ad3e_11ea_8580_0242ac1c0002row4_col1 {\n",
              "            background-color:  #008066;\n",
              "            color:  #f1f1f1;\n",
              "        }    #T_08b8ad5a_ad3e_11ea_8580_0242ac1c0002row4_col2 {\n",
              "            background-color:  #008066;\n",
              "            color:  #f1f1f1;\n",
              "        }    #T_08b8ad5a_ad3e_11ea_8580_0242ac1c0002row4_col3 {\n",
              "            background-color:  #008066;\n",
              "            color:  #f1f1f1;\n",
              "        }</style><table id=\"T_08b8ad5a_ad3e_11ea_8580_0242ac1c0002\" ><thead>    <tr>        <th class=\"blank\" ></th>        <th class=\"index_name level0\" >Pclass</th>        <th class=\"col_heading level0 col0\" >1</th>        <th class=\"col_heading level0 col1\" >2</th>        <th class=\"col_heading level0 col2\" >3</th>        <th class=\"col_heading level0 col3\" >All</th>    </tr>    <tr>        <th class=\"index_name level0\" >Sex</th>        <th class=\"index_name level1\" >Survived</th>        <th class=\"blank\" ></th>        <th class=\"blank\" ></th>        <th class=\"blank\" ></th>        <th class=\"blank\" ></th>    </tr></thead><tbody>\n",
              "                <tr>\n",
              "                        <th id=\"T_08b8ad5a_ad3e_11ea_8580_0242ac1c0002level0_row0\" class=\"row_heading level0 row0\" rowspan=2>female</th>\n",
              "                        <th id=\"T_08b8ad5a_ad3e_11ea_8580_0242ac1c0002level1_row0\" class=\"row_heading level1 row0\" >0</th>\n",
              "                        <td id=\"T_08b8ad5a_ad3e_11ea_8580_0242ac1c0002row0_col0\" class=\"data row0 col0\" >3</td>\n",
              "                        <td id=\"T_08b8ad5a_ad3e_11ea_8580_0242ac1c0002row0_col1\" class=\"data row0 col1\" >6</td>\n",
              "                        <td id=\"T_08b8ad5a_ad3e_11ea_8580_0242ac1c0002row0_col2\" class=\"data row0 col2\" >72</td>\n",
              "                        <td id=\"T_08b8ad5a_ad3e_11ea_8580_0242ac1c0002row0_col3\" class=\"data row0 col3\" >81</td>\n",
              "            </tr>\n",
              "            <tr>\n",
              "                                <th id=\"T_08b8ad5a_ad3e_11ea_8580_0242ac1c0002level1_row1\" class=\"row_heading level1 row1\" >1</th>\n",
              "                        <td id=\"T_08b8ad5a_ad3e_11ea_8580_0242ac1c0002row1_col0\" class=\"data row1 col0\" >91</td>\n",
              "                        <td id=\"T_08b8ad5a_ad3e_11ea_8580_0242ac1c0002row1_col1\" class=\"data row1 col1\" >70</td>\n",
              "                        <td id=\"T_08b8ad5a_ad3e_11ea_8580_0242ac1c0002row1_col2\" class=\"data row1 col2\" >72</td>\n",
              "                        <td id=\"T_08b8ad5a_ad3e_11ea_8580_0242ac1c0002row1_col3\" class=\"data row1 col3\" >233</td>\n",
              "            </tr>\n",
              "            <tr>\n",
              "                        <th id=\"T_08b8ad5a_ad3e_11ea_8580_0242ac1c0002level0_row2\" class=\"row_heading level0 row2\" rowspan=2>male</th>\n",
              "                        <th id=\"T_08b8ad5a_ad3e_11ea_8580_0242ac1c0002level1_row2\" class=\"row_heading level1 row2\" >0</th>\n",
              "                        <td id=\"T_08b8ad5a_ad3e_11ea_8580_0242ac1c0002row2_col0\" class=\"data row2 col0\" >77</td>\n",
              "                        <td id=\"T_08b8ad5a_ad3e_11ea_8580_0242ac1c0002row2_col1\" class=\"data row2 col1\" >91</td>\n",
              "                        <td id=\"T_08b8ad5a_ad3e_11ea_8580_0242ac1c0002row2_col2\" class=\"data row2 col2\" >300</td>\n",
              "                        <td id=\"T_08b8ad5a_ad3e_11ea_8580_0242ac1c0002row2_col3\" class=\"data row2 col3\" >468</td>\n",
              "            </tr>\n",
              "            <tr>\n",
              "                                <th id=\"T_08b8ad5a_ad3e_11ea_8580_0242ac1c0002level1_row3\" class=\"row_heading level1 row3\" >1</th>\n",
              "                        <td id=\"T_08b8ad5a_ad3e_11ea_8580_0242ac1c0002row3_col0\" class=\"data row3 col0\" >45</td>\n",
              "                        <td id=\"T_08b8ad5a_ad3e_11ea_8580_0242ac1c0002row3_col1\" class=\"data row3 col1\" >17</td>\n",
              "                        <td id=\"T_08b8ad5a_ad3e_11ea_8580_0242ac1c0002row3_col2\" class=\"data row3 col2\" >47</td>\n",
              "                        <td id=\"T_08b8ad5a_ad3e_11ea_8580_0242ac1c0002row3_col3\" class=\"data row3 col3\" >109</td>\n",
              "            </tr>\n",
              "            <tr>\n",
              "                        <th id=\"T_08b8ad5a_ad3e_11ea_8580_0242ac1c0002level0_row4\" class=\"row_heading level0 row4\" >All</th>\n",
              "                        <th id=\"T_08b8ad5a_ad3e_11ea_8580_0242ac1c0002level1_row4\" class=\"row_heading level1 row4\" ></th>\n",
              "                        <td id=\"T_08b8ad5a_ad3e_11ea_8580_0242ac1c0002row4_col0\" class=\"data row4 col0\" >216</td>\n",
              "                        <td id=\"T_08b8ad5a_ad3e_11ea_8580_0242ac1c0002row4_col1\" class=\"data row4 col1\" >184</td>\n",
              "                        <td id=\"T_08b8ad5a_ad3e_11ea_8580_0242ac1c0002row4_col2\" class=\"data row4 col2\" >491</td>\n",
              "                        <td id=\"T_08b8ad5a_ad3e_11ea_8580_0242ac1c0002row4_col3\" class=\"data row4 col3\" >891</td>\n",
              "            </tr>\n",
              "    </tbody></table>"
            ],
            "text/plain": [
              "<pandas.io.formats.style.Styler at 0x7f5bd05237f0>"
            ]
          },
          "metadata": {
            "tags": []
          },
          "execution_count": 82
        }
      ]
    },
    {
      "cell_type": "code",
      "metadata": {
        "id": "0xJxELZGT2Jm",
        "colab_type": "code",
        "colab": {
          "base_uri": "https://localhost:8080/",
          "height": 208
        },
        "outputId": "e1aa92ef-88e9-4bc3-ce2b-a769991850df"
      },
      "source": [
        "pd.crosstab([data.Pclass, data.Sex], data.Survived, margins=True).style.background_gradient(cmap='summer_r')"
      ],
      "execution_count": 84,
      "outputs": [
        {
          "output_type": "execute_result",
          "data": {
            "text/html": [
              "<style  type=\"text/css\" >\n",
              "    #T_3ce41240_ad3e_11ea_8580_0242ac1c0002row0_col0 {\n",
              "            background-color:  #ffff66;\n",
              "            color:  #000000;\n",
              "        }    #T_3ce41240_ad3e_11ea_8580_0242ac1c0002row0_col1 {\n",
              "            background-color:  #c5e266;\n",
              "            color:  #000000;\n",
              "        }    #T_3ce41240_ad3e_11ea_8580_0242ac1c0002row0_col2 {\n",
              "            background-color:  #fafc66;\n",
              "            color:  #000000;\n",
              "        }    #T_3ce41240_ad3e_11ea_8580_0242ac1c0002row1_col0 {\n",
              "            background-color:  #ddee66;\n",
              "            color:  #000000;\n",
              "        }    #T_3ce41240_ad3e_11ea_8580_0242ac1c0002row1_col1 {\n",
              "            background-color:  #e9f466;\n",
              "            color:  #000000;\n",
              "        }    #T_3ce41240_ad3e_11ea_8580_0242ac1c0002row1_col2 {\n",
              "            background-color:  #f1f866;\n",
              "            color:  #000000;\n",
              "        }    #T_3ce41240_ad3e_11ea_8580_0242ac1c0002row2_col0 {\n",
              "            background-color:  #fefe66;\n",
              "            color:  #000000;\n",
              "        }    #T_3ce41240_ad3e_11ea_8580_0242ac1c0002row2_col1 {\n",
              "            background-color:  #d6eb66;\n",
              "            color:  #000000;\n",
              "        }    #T_3ce41240_ad3e_11ea_8580_0242ac1c0002row2_col2 {\n",
              "            background-color:  #ffff66;\n",
              "            color:  #000000;\n",
              "        }    #T_3ce41240_ad3e_11ea_8580_0242ac1c0002row3_col0 {\n",
              "            background-color:  #d6eb66;\n",
              "            color:  #000000;\n",
              "        }    #T_3ce41240_ad3e_11ea_8580_0242ac1c0002row3_col1 {\n",
              "            background-color:  #ffff66;\n",
              "            color:  #000000;\n",
              "        }    #T_3ce41240_ad3e_11ea_8580_0242ac1c0002row3_col2 {\n",
              "            background-color:  #f5fa66;\n",
              "            color:  #000000;\n",
              "        }    #T_3ce41240_ad3e_11ea_8580_0242ac1c0002row4_col0 {\n",
              "            background-color:  #dfef66;\n",
              "            color:  #000000;\n",
              "        }    #T_3ce41240_ad3e_11ea_8580_0242ac1c0002row4_col1 {\n",
              "            background-color:  #d4ea66;\n",
              "            color:  #000000;\n",
              "        }    #T_3ce41240_ad3e_11ea_8580_0242ac1c0002row4_col2 {\n",
              "            background-color:  #eaf466;\n",
              "            color:  #000000;\n",
              "        }    #T_3ce41240_ad3e_11ea_8580_0242ac1c0002row5_col0 {\n",
              "            background-color:  #74ba66;\n",
              "            color:  #000000;\n",
              "        }    #T_3ce41240_ad3e_11ea_8580_0242ac1c0002row5_col1 {\n",
              "            background-color:  #e8f466;\n",
              "            color:  #000000;\n",
              "        }    #T_3ce41240_ad3e_11ea_8580_0242ac1c0002row5_col2 {\n",
              "            background-color:  #aad466;\n",
              "            color:  #000000;\n",
              "        }    #T_3ce41240_ad3e_11ea_8580_0242ac1c0002row6_col0 {\n",
              "            background-color:  #008066;\n",
              "            color:  #f1f1f1;\n",
              "        }    #T_3ce41240_ad3e_11ea_8580_0242ac1c0002row6_col1 {\n",
              "            background-color:  #008066;\n",
              "            color:  #f1f1f1;\n",
              "        }    #T_3ce41240_ad3e_11ea_8580_0242ac1c0002row6_col2 {\n",
              "            background-color:  #008066;\n",
              "            color:  #f1f1f1;\n",
              "        }</style><table id=\"T_3ce41240_ad3e_11ea_8580_0242ac1c0002\" ><thead>    <tr>        <th class=\"blank\" ></th>        <th class=\"index_name level0\" >Survived</th>        <th class=\"col_heading level0 col0\" >0</th>        <th class=\"col_heading level0 col1\" >1</th>        <th class=\"col_heading level0 col2\" >All</th>    </tr>    <tr>        <th class=\"index_name level0\" >Pclass</th>        <th class=\"index_name level1\" >Sex</th>        <th class=\"blank\" ></th>        <th class=\"blank\" ></th>        <th class=\"blank\" ></th>    </tr></thead><tbody>\n",
              "                <tr>\n",
              "                        <th id=\"T_3ce41240_ad3e_11ea_8580_0242ac1c0002level0_row0\" class=\"row_heading level0 row0\" rowspan=2>1</th>\n",
              "                        <th id=\"T_3ce41240_ad3e_11ea_8580_0242ac1c0002level1_row0\" class=\"row_heading level1 row0\" >female</th>\n",
              "                        <td id=\"T_3ce41240_ad3e_11ea_8580_0242ac1c0002row0_col0\" class=\"data row0 col0\" >3</td>\n",
              "                        <td id=\"T_3ce41240_ad3e_11ea_8580_0242ac1c0002row0_col1\" class=\"data row0 col1\" >91</td>\n",
              "                        <td id=\"T_3ce41240_ad3e_11ea_8580_0242ac1c0002row0_col2\" class=\"data row0 col2\" >94</td>\n",
              "            </tr>\n",
              "            <tr>\n",
              "                                <th id=\"T_3ce41240_ad3e_11ea_8580_0242ac1c0002level1_row1\" class=\"row_heading level1 row1\" >male</th>\n",
              "                        <td id=\"T_3ce41240_ad3e_11ea_8580_0242ac1c0002row1_col0\" class=\"data row1 col0\" >77</td>\n",
              "                        <td id=\"T_3ce41240_ad3e_11ea_8580_0242ac1c0002row1_col1\" class=\"data row1 col1\" >45</td>\n",
              "                        <td id=\"T_3ce41240_ad3e_11ea_8580_0242ac1c0002row1_col2\" class=\"data row1 col2\" >122</td>\n",
              "            </tr>\n",
              "            <tr>\n",
              "                        <th id=\"T_3ce41240_ad3e_11ea_8580_0242ac1c0002level0_row2\" class=\"row_heading level0 row2\" rowspan=2>2</th>\n",
              "                        <th id=\"T_3ce41240_ad3e_11ea_8580_0242ac1c0002level1_row2\" class=\"row_heading level1 row2\" >female</th>\n",
              "                        <td id=\"T_3ce41240_ad3e_11ea_8580_0242ac1c0002row2_col0\" class=\"data row2 col0\" >6</td>\n",
              "                        <td id=\"T_3ce41240_ad3e_11ea_8580_0242ac1c0002row2_col1\" class=\"data row2 col1\" >70</td>\n",
              "                        <td id=\"T_3ce41240_ad3e_11ea_8580_0242ac1c0002row2_col2\" class=\"data row2 col2\" >76</td>\n",
              "            </tr>\n",
              "            <tr>\n",
              "                                <th id=\"T_3ce41240_ad3e_11ea_8580_0242ac1c0002level1_row3\" class=\"row_heading level1 row3\" >male</th>\n",
              "                        <td id=\"T_3ce41240_ad3e_11ea_8580_0242ac1c0002row3_col0\" class=\"data row3 col0\" >91</td>\n",
              "                        <td id=\"T_3ce41240_ad3e_11ea_8580_0242ac1c0002row3_col1\" class=\"data row3 col1\" >17</td>\n",
              "                        <td id=\"T_3ce41240_ad3e_11ea_8580_0242ac1c0002row3_col2\" class=\"data row3 col2\" >108</td>\n",
              "            </tr>\n",
              "            <tr>\n",
              "                        <th id=\"T_3ce41240_ad3e_11ea_8580_0242ac1c0002level0_row4\" class=\"row_heading level0 row4\" rowspan=2>3</th>\n",
              "                        <th id=\"T_3ce41240_ad3e_11ea_8580_0242ac1c0002level1_row4\" class=\"row_heading level1 row4\" >female</th>\n",
              "                        <td id=\"T_3ce41240_ad3e_11ea_8580_0242ac1c0002row4_col0\" class=\"data row4 col0\" >72</td>\n",
              "                        <td id=\"T_3ce41240_ad3e_11ea_8580_0242ac1c0002row4_col1\" class=\"data row4 col1\" >72</td>\n",
              "                        <td id=\"T_3ce41240_ad3e_11ea_8580_0242ac1c0002row4_col2\" class=\"data row4 col2\" >144</td>\n",
              "            </tr>\n",
              "            <tr>\n",
              "                                <th id=\"T_3ce41240_ad3e_11ea_8580_0242ac1c0002level1_row5\" class=\"row_heading level1 row5\" >male</th>\n",
              "                        <td id=\"T_3ce41240_ad3e_11ea_8580_0242ac1c0002row5_col0\" class=\"data row5 col0\" >300</td>\n",
              "                        <td id=\"T_3ce41240_ad3e_11ea_8580_0242ac1c0002row5_col1\" class=\"data row5 col1\" >47</td>\n",
              "                        <td id=\"T_3ce41240_ad3e_11ea_8580_0242ac1c0002row5_col2\" class=\"data row5 col2\" >347</td>\n",
              "            </tr>\n",
              "            <tr>\n",
              "                        <th id=\"T_3ce41240_ad3e_11ea_8580_0242ac1c0002level0_row6\" class=\"row_heading level0 row6\" >All</th>\n",
              "                        <th id=\"T_3ce41240_ad3e_11ea_8580_0242ac1c0002level1_row6\" class=\"row_heading level1 row6\" ></th>\n",
              "                        <td id=\"T_3ce41240_ad3e_11ea_8580_0242ac1c0002row6_col0\" class=\"data row6 col0\" >549</td>\n",
              "                        <td id=\"T_3ce41240_ad3e_11ea_8580_0242ac1c0002row6_col1\" class=\"data row6 col1\" >342</td>\n",
              "                        <td id=\"T_3ce41240_ad3e_11ea_8580_0242ac1c0002row6_col2\" class=\"data row6 col2\" >891</td>\n",
              "            </tr>\n",
              "    </tbody></table>"
            ],
            "text/plain": [
              "<pandas.io.formats.style.Styler at 0x7f5bd05238d0>"
            ]
          },
          "metadata": {
            "tags": []
          },
          "execution_count": 84
        }
      ]
    },
    {
      "cell_type": "markdown",
      "metadata": {
        "id": "xTWQ_Th2WHw7",
        "colab_type": "text"
      },
      "source": [
        "* 해석\n",
        "    * 1등석과 2등석의 경우 대부분의 여성이 생존했다. 반면 3등석의 경우 절만만이 생존했다.\n",
        "    * 남성의 경우 1등석에서 상대적으로 많이 생존했다.\n",
        "\n",
        "그래프로 시각화해보자 "
      ]
    },
    {
      "cell_type": "code",
      "metadata": {
        "id": "eXd4bv1uT2Le",
        "colab_type": "code",
        "colab": {}
      },
      "source": [
        "# sns.countplot(x='Pclass', hue='Survived', data=data)"
      ],
      "execution_count": 0,
      "outputs": []
    },
    {
      "cell_type": "code",
      "metadata": {
        "id": "FNCI9L19T2Pn",
        "colab_type": "code",
        "colab": {
          "base_uri": "https://localhost:8080/",
          "height": 387
        },
        "outputId": "ca09f78f-2a26-4e79-b2d3-f8464aa39c5a"
      },
      "source": [
        "sns.factorplot('Sex', 'Survived', hue='Pclass', data=data)"
      ],
      "execution_count": 91,
      "outputs": [
        {
          "output_type": "execute_result",
          "data": {
            "text/plain": [
              "<seaborn.axisgrid.FacetGrid at 0x7f5bd03ed240>"
            ]
          },
          "metadata": {
            "tags": []
          },
          "execution_count": 91
        },
        {
          "output_type": "display_data",
          "data": {
            "image/png": "[encoded data removed]",
            "text/plain": [
              "<Figure size 402.375x360 with 1 Axes>"
            ]
          },
          "metadata": {
            "tags": [],
            "needs_background": "light"
          }
        }
      ]
    },
    {
      "cell_type": "code",
      "metadata": {
        "id": "jvHgVltjT2Ng",
        "colab_type": "code",
        "colab": {
          "base_uri": "https://localhost:8080/",
          "height": 369
        },
        "outputId": "24f743e3-107a-4913-8a44-308d01144aeb"
      },
      "source": [
        "sns.factorplot('Pclass', 'Survived', hue='Sex', data=data)\n",
        "plt.show()"
      ],
      "execution_count": 90,
      "outputs": [
        {
          "output_type": "display_data",
          "data": {
            "image/png": "[encoded data removed]",
            "text/plain": [
              "<Figure size 430.5x360 with 1 Axes>"
            ]
          },
          "metadata": {
            "tags": [],
            "needs_background": "light"
          }
        }
      ]
    },
    {
      "cell_type": "markdown",
      "metadata": {
        "id": "P6shehjzXCiz",
        "colab_type": "text"
      },
      "source": [
        "### 3) Continuous Feature"
      ]
    },
    {
      "cell_type": "code",
      "metadata": {
        "id": "FxPGR_l8T2RW",
        "colab_type": "code",
        "colab": {}
      },
      "source": [
        ""
      ],
      "execution_count": 0,
      "outputs": []
    },
    {
      "cell_type": "code",
      "metadata": {
        "id": "VNlfgmZ1T2TO",
        "colab_type": "code",
        "colab": {}
      },
      "source": [
        ""
      ],
      "execution_count": 0,
      "outputs": []
    },
    {
      "cell_type": "code",
      "metadata": {
        "id": "mFL4x5B4T2VJ",
        "colab_type": "code",
        "colab": {}
      },
      "source": [
        ""
      ],
      "execution_count": 0,
      "outputs": []
    },
    {
      "cell_type": "code",
      "metadata": {
        "id": "5fjNBhq4T2Xf",
        "colab_type": "code",
        "colab": {}
      },
      "source": [
        ""
      ],
      "execution_count": 0,
      "outputs": []
    },
    {
      "cell_type": "code",
      "metadata": {
        "id": "AXxSigQ8NLsZ",
        "colab_type": "code",
        "colab": {}
      },
      "source": [
        ""
      ],
      "execution_count": 0,
      "outputs": []
    },
    {
      "cell_type": "code",
      "metadata": {
        "id": "NhY4Idu8NLOI",
        "colab_type": "code",
        "colab": {}
      },
      "source": [
        ""
      ],
      "execution_count": 0,
      "outputs": []
    },
    {
      "cell_type": "code",
      "metadata": {
        "id": "SCqv6GtoNLJm",
        "colab_type": "code",
        "colab": {}
      },
      "source": [
        ""
      ],
      "execution_count": 0,
      "outputs": []
    }
  ]
}